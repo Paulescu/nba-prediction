{
 "cells": [
  {
   "cell_type": "code",
   "execution_count": 1,
   "id": "fc9e3a17",
   "metadata": {},
   "outputs": [
    {
     "name": "stdout",
     "output_type": "stream",
     "text": [
      "Requirement already satisfied: hopsworks in c:\\users\\chris\\desktop\\datascienceprojects\\nba_game_predictor\\nba2\\lib\\site-packages (3.0.4)\n",
      "Requirement already satisfied: furl in c:\\users\\chris\\desktop\\datascienceprojects\\nba_game_predictor\\nba2\\lib\\site-packages (from hopsworks) (2.1.3)\n",
      "Requirement already satisfied: pyjks in c:\\users\\chris\\desktop\\datascienceprojects\\nba_game_predictor\\nba2\\lib\\site-packages (from hopsworks) (20.0.0)\n",
      "Requirement already satisfied: boto3 in c:\\users\\chris\\desktop\\datascienceprojects\\nba_game_predictor\\nba2\\lib\\site-packages (from hopsworks) (1.26.16)\n",
      "Requirement already satisfied: mock in c:\\users\\chris\\desktop\\datascienceprojects\\nba_game_predictor\\nba2\\lib\\site-packages (from hopsworks) (4.0.3)\n",
      "Requirement already satisfied: tqdm in c:\\users\\chris\\desktop\\datascienceprojects\\nba_game_predictor\\nba2\\lib\\site-packages (from hopsworks) (4.64.0)\n",
      "Requirement already satisfied: pyhumps==1.6.1 in c:\\users\\chris\\desktop\\datascienceprojects\\nba_game_predictor\\nba2\\lib\\site-packages (from hopsworks) (1.6.1)\n",
      "Requirement already satisfied: hsml<3.1.0,>=3.0.0 in c:\\users\\chris\\desktop\\datascienceprojects\\nba_game_predictor\\nba2\\lib\\site-packages (from hopsworks) (3.0.3)\n",
      "Requirement already satisfied: requests in c:\\users\\chris\\desktop\\datascienceprojects\\nba_game_predictor\\nba2\\lib\\site-packages (from hopsworks) (2.28.1)\n",
      "Requirement already satisfied: hsfs[python]<3.1.0,>=3.0.0 in c:\\users\\chris\\desktop\\datascienceprojects\\nba_game_predictor\\nba2\\lib\\site-packages (from hopsworks) (3.0.4)\n",
      "Requirement already satisfied: PyMySQL[rsa] in c:\\users\\chris\\desktop\\datascienceprojects\\nba_game_predictor\\nba2\\lib\\site-packages (from hsfs[python]<3.1.0,>=3.0.0->hopsworks) (1.0.2)\n",
      "Requirement already satisfied: pandas>=1.2.0 in c:\\users\\chris\\desktop\\datascienceprojects\\nba_game_predictor\\nba2\\lib\\site-packages (from hsfs[python]<3.1.0,>=3.0.0->hopsworks) (1.4.3)\n",
      "Requirement already satisfied: great-expectations==0.14.12 in c:\\users\\chris\\desktop\\datascienceprojects\\nba_game_predictor\\nba2\\lib\\site-packages (from hsfs[python]<3.1.0,>=3.0.0->hopsworks) (0.14.12)\n",
      "Requirement already satisfied: numpy in c:\\users\\chris\\desktop\\datascienceprojects\\nba_game_predictor\\nba2\\lib\\site-packages (from hsfs[python]<3.1.0,>=3.0.0->hopsworks) (1.22.4)\n",
      "Requirement already satisfied: sqlalchemy in c:\\users\\chris\\desktop\\datascienceprojects\\nba_game_predictor\\nba2\\lib\\site-packages (from hsfs[python]<3.1.0,>=3.0.0->hopsworks) (1.4.44)\n",
      "Requirement already satisfied: markupsafe<2.1.0 in c:\\users\\chris\\desktop\\datascienceprojects\\nba_game_predictor\\nba2\\lib\\site-packages (from hsfs[python]<3.1.0,>=3.0.0->hopsworks) (2.0.1)\n",
      "Requirement already satisfied: avro==1.10.2 in c:\\users\\chris\\desktop\\datascienceprojects\\nba_game_predictor\\nba2\\lib\\site-packages (from hsfs[python]<3.1.0,>=3.0.0->hopsworks) (1.10.2)\n",
      "Requirement already satisfied: pyarrow in c:\\users\\chris\\desktop\\datascienceprojects\\nba_game_predictor\\nba2\\lib\\site-packages (from hsfs[python]<3.1.0,>=3.0.0->hopsworks) (10.0.1)\n",
      "Requirement already satisfied: fastavro==1.4.11 in c:\\users\\chris\\desktop\\datascienceprojects\\nba_game_predictor\\nba2\\lib\\site-packages (from hsfs[python]<3.1.0,>=3.0.0->hopsworks) (1.4.11)\n",
      "Requirement already satisfied: pyhopshive[thrift] in c:\\users\\chris\\desktop\\datascienceprojects\\nba_game_predictor\\nba2\\lib\\site-packages (from hsfs[python]<3.1.0,>=3.0.0->hopsworks) (0.6.4.1.dev0)\n",
      "Requirement already satisfied: confluent-kafka==1.8.2 in c:\\users\\chris\\desktop\\datascienceprojects\\nba_game_predictor\\nba2\\lib\\site-packages (from hsfs[python]<3.1.0,>=3.0.0->hopsworks) (1.8.2)\n",
      "Requirement already satisfied: Click>=7.1.2 in c:\\users\\chris\\desktop\\datascienceprojects\\nba_game_predictor\\nba2\\lib\\site-packages (from great-expectations==0.14.12->hsfs[python]<3.1.0,>=3.0.0->hopsworks) (8.1.3)\n",
      "Requirement already satisfied: jsonpatch>=1.22 in c:\\users\\chris\\desktop\\datascienceprojects\\nba_game_predictor\\nba2\\lib\\site-packages (from great-expectations==0.14.12->hsfs[python]<3.1.0,>=3.0.0->hopsworks) (1.32)\n",
      "Requirement already satisfied: jinja2<3.1.0,>=2.10 in c:\\users\\chris\\desktop\\datascienceprojects\\nba_game_predictor\\nba2\\lib\\site-packages (from great-expectations==0.14.12->hsfs[python]<3.1.0,>=3.0.0->hopsworks) (3.0.3)\n",
      "Requirement already satisfied: jsonschema>=2.5.1 in c:\\users\\chris\\desktop\\datascienceprojects\\nba_game_predictor\\nba2\\lib\\site-packages (from great-expectations==0.14.12->hsfs[python]<3.1.0,>=3.0.0->hopsworks) (3.2.0)\n",
      "Requirement already satisfied: altair<5,>=4.0.0 in c:\\users\\chris\\desktop\\datascienceprojects\\nba_game_predictor\\nba2\\lib\\site-packages (from great-expectations==0.14.12->hsfs[python]<3.1.0,>=3.0.0->hopsworks) (4.2.0)\n",
      "Requirement already satisfied: urllib3<1.27,>=1.25.4 in c:\\users\\chris\\desktop\\datascienceprojects\\nba_game_predictor\\nba2\\lib\\site-packages (from great-expectations==0.14.12->hsfs[python]<3.1.0,>=3.0.0->hopsworks) (1.26.13)\n",
      "Requirement already satisfied: python-dateutil>=2.8.1 in c:\\users\\chris\\desktop\\datascienceprojects\\nba_game_predictor\\nba2\\lib\\site-packages (from great-expectations==0.14.12->hsfs[python]<3.1.0,>=3.0.0->hopsworks) (2.8.2)\n",
      "Requirement already satisfied: cryptography>=3.2 in c:\\users\\chris\\desktop\\datascienceprojects\\nba_game_predictor\\nba2\\lib\\site-packages (from great-expectations==0.14.12->hsfs[python]<3.1.0,>=3.0.0->hopsworks) (38.0.3)\n",
      "Requirement already satisfied: tzlocal>=1.2 in c:\\users\\chris\\desktop\\datascienceprojects\\nba_game_predictor\\nba2\\lib\\site-packages (from great-expectations==0.14.12->hsfs[python]<3.1.0,>=3.0.0->hopsworks) (4.2)\n",
      "Requirement already satisfied: typing-extensions>=3.10.0.0 in c:\\users\\chris\\desktop\\datascienceprojects\\nba_game_predictor\\nba2\\lib\\site-packages (from great-expectations==0.14.12->hsfs[python]<3.1.0,>=3.0.0->hopsworks) (4.4.0)\n",
      "Requirement already satisfied: ipywidgets>=7.5.1 in c:\\users\\chris\\desktop\\datascienceprojects\\nba_game_predictor\\nba2\\lib\\site-packages (from great-expectations==0.14.12->hsfs[python]<3.1.0,>=3.0.0->hopsworks) (8.0.2)\n",
      "Requirement already satisfied: mistune<2.0.0,>=0.8.4 in c:\\users\\chris\\desktop\\datascienceprojects\\nba_game_predictor\\nba2\\lib\\site-packages (from great-expectations==0.14.12->hsfs[python]<3.1.0,>=3.0.0->hopsworks) (0.8.4)\n",
      "Requirement already satisfied: pyparsing<3,>=2.4 in c:\\users\\chris\\desktop\\datascienceprojects\\nba_game_predictor\\nba2\\lib\\site-packages (from great-expectations==0.14.12->hsfs[python]<3.1.0,>=3.0.0->hopsworks) (2.4.7)\n",
      "Requirement already satisfied: colorama>=0.4.3 in c:\\users\\chris\\desktop\\datascienceprojects\\nba_game_predictor\\nba2\\lib\\site-packages (from great-expectations==0.14.12->hsfs[python]<3.1.0,>=3.0.0->hopsworks) (0.4.6)\n",
      "Requirement already satisfied: pytz>=2021.3 in c:\\users\\chris\\desktop\\datascienceprojects\\nba_game_predictor\\nba2\\lib\\site-packages (from great-expectations==0.14.12->hsfs[python]<3.1.0,>=3.0.0->hopsworks) (2022.6)\n",
      "Requirement already satisfied: importlib-metadata>=1.7.0 in c:\\users\\chris\\desktop\\datascienceprojects\\nba_game_predictor\\nba2\\lib\\site-packages (from great-expectations==0.14.12->hsfs[python]<3.1.0,>=3.0.0->hopsworks) (5.1.0)\n",
      "Requirement already satisfied: ruamel.yaml<0.17.18,>=0.16 in c:\\users\\chris\\desktop\\datascienceprojects\\nba_game_predictor\\nba2\\lib\\site-packages (from great-expectations==0.14.12->hsfs[python]<3.1.0,>=3.0.0->hopsworks) (0.17.17)\n",
      "Requirement already satisfied: nbformat>=5.0 in c:\\users\\chris\\desktop\\datascienceprojects\\nba_game_predictor\\nba2\\lib\\site-packages (from great-expectations==0.14.12->hsfs[python]<3.1.0,>=3.0.0->hopsworks) (5.7.0)\n",
      "Requirement already satisfied: termcolor>=1.1.0 in c:\\users\\chris\\desktop\\datascienceprojects\\nba_game_predictor\\nba2\\lib\\site-packages (from great-expectations==0.14.12->hsfs[python]<3.1.0,>=3.0.0->hopsworks) (2.1.1)\n",
      "Requirement already satisfied: scipy>=0.19.0 in c:\\users\\chris\\desktop\\datascienceprojects\\nba_game_predictor\\nba2\\lib\\site-packages (from great-expectations==0.14.12->hsfs[python]<3.1.0,>=3.0.0->hopsworks) (1.9.3)\n",
      "Requirement already satisfied: packaging in c:\\users\\chris\\desktop\\datascienceprojects\\nba_game_predictor\\nba2\\lib\\site-packages (from great-expectations==0.14.12->hsfs[python]<3.1.0,>=3.0.0->hopsworks) (21.3)\n",
      "Requirement already satisfied: charset-normalizer<3,>=2 in c:\\users\\chris\\desktop\\datascienceprojects\\nba_game_predictor\\nba2\\lib\\site-packages (from requests->hopsworks) (2.1.1)\n",
      "Requirement already satisfied: idna<4,>=2.5 in c:\\users\\chris\\desktop\\datascienceprojects\\nba_game_predictor\\nba2\\lib\\site-packages (from requests->hopsworks) (3.4)\n",
      "Requirement already satisfied: certifi>=2017.4.17 in c:\\users\\chris\\desktop\\datascienceprojects\\nba_game_predictor\\nba2\\lib\\site-packages (from requests->hopsworks) (2022.9.24)\n",
      "Requirement already satisfied: s3transfer<0.7.0,>=0.6.0 in c:\\users\\chris\\desktop\\datascienceprojects\\nba_game_predictor\\nba2\\lib\\site-packages (from boto3->hopsworks) (0.6.0)\n",
      "Requirement already satisfied: jmespath<2.0.0,>=0.7.1 in c:\\users\\chris\\desktop\\datascienceprojects\\nba_game_predictor\\nba2\\lib\\site-packages (from boto3->hopsworks) (1.0.1)\n",
      "Requirement already satisfied: botocore<1.30.0,>=1.29.16 in c:\\users\\chris\\desktop\\datascienceprojects\\nba_game_predictor\\nba2\\lib\\site-packages (from boto3->hopsworks) (1.29.16)\n",
      "Requirement already satisfied: six>=1.8.0 in c:\\users\\chris\\desktop\\datascienceprojects\\nba_game_predictor\\nba2\\lib\\site-packages (from furl->hopsworks) (1.16.0)\n",
      "Requirement already satisfied: orderedmultidict>=1.0.1 in c:\\users\\chris\\desktop\\datascienceprojects\\nba_game_predictor\\nba2\\lib\\site-packages (from furl->hopsworks) (1.0.1)\n",
      "Requirement already satisfied: twofish in c:\\users\\chris\\desktop\\datascienceprojects\\nba_game_predictor\\nba2\\lib\\site-packages (from pyjks->hopsworks) (0.3.0)\n",
      "Requirement already satisfied: pyasn1>=0.3.5 in c:\\users\\chris\\desktop\\datascienceprojects\\nba_game_predictor\\nba2\\lib\\site-packages (from pyjks->hopsworks) (0.4.8)\n",
      "Requirement already satisfied: pyasn1-modules in c:\\users\\chris\\desktop\\datascienceprojects\\nba_game_predictor\\nba2\\lib\\site-packages (from pyjks->hopsworks) (0.2.8)\n",
      "Requirement already satisfied: pycryptodomex in c:\\users\\chris\\desktop\\datascienceprojects\\nba_game_predictor\\nba2\\lib\\site-packages (from pyjks->hopsworks) (3.15.0)\n",
      "Requirement already satisfied: javaobj-py3 in c:\\users\\chris\\desktop\\datascienceprojects\\nba_game_predictor\\nba2\\lib\\site-packages (from pyjks->hopsworks) (0.4.3)\n",
      "Requirement already satisfied: future in c:\\users\\chris\\desktop\\datascienceprojects\\nba_game_predictor\\nba2\\lib\\site-packages (from pyhopshive[thrift]->hsfs[python]<3.1.0,>=3.0.0->hopsworks) (0.18.2)\n",
      "Requirement already satisfied: thrift>=0.10.0 in c:\\users\\chris\\desktop\\datascienceprojects\\nba_game_predictor\\nba2\\lib\\site-packages (from pyhopshive[thrift]->hsfs[python]<3.1.0,>=3.0.0->hopsworks) (0.16.0)\n",
      "Requirement already satisfied: greenlet!=0.4.17 in c:\\users\\chris\\desktop\\datascienceprojects\\nba_game_predictor\\nba2\\lib\\site-packages (from sqlalchemy->hsfs[python]<3.1.0,>=3.0.0->hopsworks) (2.0.1)\n",
      "Requirement already satisfied: entrypoints in c:\\users\\chris\\desktop\\datascienceprojects\\nba_game_predictor\\nba2\\lib\\site-packages (from altair<5,>=4.0.0->great-expectations==0.14.12->hsfs[python]<3.1.0,>=3.0.0->hopsworks) (0.4)\n",
      "Requirement already satisfied: toolz in c:\\users\\chris\\desktop\\datascienceprojects\\nba_game_predictor\\nba2\\lib\\site-packages (from altair<5,>=4.0.0->great-expectations==0.14.12->hsfs[python]<3.1.0,>=3.0.0->hopsworks) (0.12.0)\n",
      "Requirement already satisfied: cffi>=1.12 in c:\\users\\chris\\desktop\\datascienceprojects\\nba_game_predictor\\nba2\\lib\\site-packages (from cryptography>=3.2->great-expectations==0.14.12->hsfs[python]<3.1.0,>=3.0.0->hopsworks) (1.15.1)\n",
      "Requirement already satisfied: zipp>=0.5 in c:\\users\\chris\\desktop\\datascienceprojects\\nba_game_predictor\\nba2\\lib\\site-packages (from importlib-metadata>=1.7.0->great-expectations==0.14.12->hsfs[python]<3.1.0,>=3.0.0->hopsworks) (3.10.0)\n",
      "Requirement already satisfied: ipython>=6.1.0 in c:\\users\\chris\\desktop\\datascienceprojects\\nba_game_predictor\\nba2\\lib\\site-packages (from ipywidgets>=7.5.1->great-expectations==0.14.12->hsfs[python]<3.1.0,>=3.0.0->hopsworks) (8.6.0)\n",
      "Requirement already satisfied: traitlets>=4.3.1 in c:\\users\\chris\\desktop\\datascienceprojects\\nba_game_predictor\\nba2\\lib\\site-packages (from ipywidgets>=7.5.1->great-expectations==0.14.12->hsfs[python]<3.1.0,>=3.0.0->hopsworks) (5.5.0)\n",
      "Requirement already satisfied: jupyterlab-widgets~=3.0 in c:\\users\\chris\\desktop\\datascienceprojects\\nba_game_predictor\\nba2\\lib\\site-packages (from ipywidgets>=7.5.1->great-expectations==0.14.12->hsfs[python]<3.1.0,>=3.0.0->hopsworks) (3.0.3)\n",
      "Requirement already satisfied: widgetsnbextension~=4.0 in c:\\users\\chris\\desktop\\datascienceprojects\\nba_game_predictor\\nba2\\lib\\site-packages (from ipywidgets>=7.5.1->great-expectations==0.14.12->hsfs[python]<3.1.0,>=3.0.0->hopsworks) (4.0.3)\n",
      "Requirement already satisfied: ipykernel>=4.5.1 in c:\\users\\chris\\desktop\\datascienceprojects\\nba_game_predictor\\nba2\\lib\\site-packages (from ipywidgets>=7.5.1->great-expectations==0.14.12->hsfs[python]<3.1.0,>=3.0.0->hopsworks) (6.17.1)\n",
      "Requirement already satisfied: jsonpointer>=1.9 in c:\\users\\chris\\desktop\\datascienceprojects\\nba_game_predictor\\nba2\\lib\\site-packages (from jsonpatch>=1.22->great-expectations==0.14.12->hsfs[python]<3.1.0,>=3.0.0->hopsworks) (2.3)\n",
      "Requirement already satisfied: attrs>=17.4.0 in c:\\users\\chris\\desktop\\datascienceprojects\\nba_game_predictor\\nba2\\lib\\site-packages (from jsonschema>=2.5.1->great-expectations==0.14.12->hsfs[python]<3.1.0,>=3.0.0->hopsworks) (22.1.0)\n",
      "Requirement already satisfied: pyrsistent>=0.14.0 in c:\\users\\chris\\desktop\\datascienceprojects\\nba_game_predictor\\nba2\\lib\\site-packages (from jsonschema>=2.5.1->great-expectations==0.14.12->hsfs[python]<3.1.0,>=3.0.0->hopsworks) (0.19.2)\n",
      "Requirement already satisfied: setuptools in c:\\users\\chris\\desktop\\datascienceprojects\\nba_game_predictor\\nba2\\lib\\site-packages (from jsonschema>=2.5.1->great-expectations==0.14.12->hsfs[python]<3.1.0,>=3.0.0->hopsworks) (65.5.1)\n",
      "Requirement already satisfied: jupyter-core in c:\\users\\chris\\desktop\\datascienceprojects\\nba_game_predictor\\nba2\\lib\\site-packages (from nbformat>=5.0->great-expectations==0.14.12->hsfs[python]<3.1.0,>=3.0.0->hopsworks) (5.0.0)\n",
      "Requirement already satisfied: fastjsonschema in c:\\users\\chris\\desktop\\datascienceprojects\\nba_game_predictor\\nba2\\lib\\site-packages (from nbformat>=5.0->great-expectations==0.14.12->hsfs[python]<3.1.0,>=3.0.0->hopsworks) (2.16.2)\n",
      "Requirement already satisfied: ruamel.yaml.clib>=0.1.2 in c:\\users\\chris\\desktop\\datascienceprojects\\nba_game_predictor\\nba2\\lib\\site-packages (from ruamel.yaml<0.17.18,>=0.16->great-expectations==0.14.12->hsfs[python]<3.1.0,>=3.0.0->hopsworks) (0.2.7)\n",
      "Requirement already satisfied: tzdata in c:\\users\\chris\\desktop\\datascienceprojects\\nba_game_predictor\\nba2\\lib\\site-packages (from tzlocal>=1.2->great-expectations==0.14.12->hsfs[python]<3.1.0,>=3.0.0->hopsworks) (2022.6)\n",
      "Requirement already satisfied: pytz-deprecation-shim in c:\\users\\chris\\desktop\\datascienceprojects\\nba_game_predictor\\nba2\\lib\\site-packages (from tzlocal>=1.2->great-expectations==0.14.12->hsfs[python]<3.1.0,>=3.0.0->hopsworks) (0.1.0.post0)\n",
      "Requirement already satisfied: pycparser in c:\\users\\chris\\desktop\\datascienceprojects\\nba_game_predictor\\nba2\\lib\\site-packages (from cffi>=1.12->cryptography>=3.2->great-expectations==0.14.12->hsfs[python]<3.1.0,>=3.0.0->hopsworks) (2.21)\n",
      "Requirement already satisfied: tornado>=6.1 in c:\\users\\chris\\desktop\\datascienceprojects\\nba_game_predictor\\nba2\\lib\\site-packages (from ipykernel>=4.5.1->ipywidgets>=7.5.1->great-expectations==0.14.12->hsfs[python]<3.1.0,>=3.0.0->hopsworks) (6.2)\n",
      "Requirement already satisfied: matplotlib-inline>=0.1 in c:\\users\\chris\\desktop\\datascienceprojects\\nba_game_predictor\\nba2\\lib\\site-packages (from ipykernel>=4.5.1->ipywidgets>=7.5.1->great-expectations==0.14.12->hsfs[python]<3.1.0,>=3.0.0->hopsworks) (0.1.6)\n",
      "Requirement already satisfied: pyzmq>=17 in c:\\users\\chris\\desktop\\datascienceprojects\\nba_game_predictor\\nba2\\lib\\site-packages (from ipykernel>=4.5.1->ipywidgets>=7.5.1->great-expectations==0.14.12->hsfs[python]<3.1.0,>=3.0.0->hopsworks) (24.0.1)\n",
      "Requirement already satisfied: nest-asyncio in c:\\users\\chris\\desktop\\datascienceprojects\\nba_game_predictor\\nba2\\lib\\site-packages (from ipykernel>=4.5.1->ipywidgets>=7.5.1->great-expectations==0.14.12->hsfs[python]<3.1.0,>=3.0.0->hopsworks) (1.5.6)\n",
      "Requirement already satisfied: jupyter-client>=6.1.12 in c:\\users\\chris\\desktop\\datascienceprojects\\nba_game_predictor\\nba2\\lib\\site-packages (from ipykernel>=4.5.1->ipywidgets>=7.5.1->great-expectations==0.14.12->hsfs[python]<3.1.0,>=3.0.0->hopsworks) (7.4.7)\n",
      "Requirement already satisfied: psutil in c:\\users\\chris\\desktop\\datascienceprojects\\nba_game_predictor\\nba2\\lib\\site-packages (from ipykernel>=4.5.1->ipywidgets>=7.5.1->great-expectations==0.14.12->hsfs[python]<3.1.0,>=3.0.0->hopsworks) (5.9.4)\n",
      "Requirement already satisfied: debugpy>=1.0 in c:\\users\\chris\\desktop\\datascienceprojects\\nba_game_predictor\\nba2\\lib\\site-packages (from ipykernel>=4.5.1->ipywidgets>=7.5.1->great-expectations==0.14.12->hsfs[python]<3.1.0,>=3.0.0->hopsworks) (1.6.3)\n",
      "Requirement already satisfied: jedi>=0.16 in c:\\users\\chris\\desktop\\datascienceprojects\\nba_game_predictor\\nba2\\lib\\site-packages (from ipython>=6.1.0->ipywidgets>=7.5.1->great-expectations==0.14.12->hsfs[python]<3.1.0,>=3.0.0->hopsworks) (0.18.2)\n",
      "Requirement already satisfied: pickleshare in c:\\users\\chris\\desktop\\datascienceprojects\\nba_game_predictor\\nba2\\lib\\site-packages (from ipython>=6.1.0->ipywidgets>=7.5.1->great-expectations==0.14.12->hsfs[python]<3.1.0,>=3.0.0->hopsworks) (0.7.5)\n",
      "Requirement already satisfied: prompt-toolkit<3.1.0,>3.0.1 in c:\\users\\chris\\desktop\\datascienceprojects\\nba_game_predictor\\nba2\\lib\\site-packages (from ipython>=6.1.0->ipywidgets>=7.5.1->great-expectations==0.14.12->hsfs[python]<3.1.0,>=3.0.0->hopsworks) (3.0.33)\n",
      "Requirement already satisfied: pygments>=2.4.0 in c:\\users\\chris\\desktop\\datascienceprojects\\nba_game_predictor\\nba2\\lib\\site-packages (from ipython>=6.1.0->ipywidgets>=7.5.1->great-expectations==0.14.12->hsfs[python]<3.1.0,>=3.0.0->hopsworks) (2.13.0)\n",
      "Requirement already satisfied: stack-data in c:\\users\\chris\\desktop\\datascienceprojects\\nba_game_predictor\\nba2\\lib\\site-packages (from ipython>=6.1.0->ipywidgets>=7.5.1->great-expectations==0.14.12->hsfs[python]<3.1.0,>=3.0.0->hopsworks) (0.6.1)\n",
      "Requirement already satisfied: decorator in c:\\users\\chris\\desktop\\datascienceprojects\\nba_game_predictor\\nba2\\lib\\site-packages (from ipython>=6.1.0->ipywidgets>=7.5.1->great-expectations==0.14.12->hsfs[python]<3.1.0,>=3.0.0->hopsworks) (5.1.1)\n",
      "Requirement already satisfied: backcall in c:\\users\\chris\\desktop\\datascienceprojects\\nba_game_predictor\\nba2\\lib\\site-packages (from ipython>=6.1.0->ipywidgets>=7.5.1->great-expectations==0.14.12->hsfs[python]<3.1.0,>=3.0.0->hopsworks) (0.2.0)\n",
      "Requirement already satisfied: platformdirs in c:\\users\\chris\\desktop\\datascienceprojects\\nba_game_predictor\\nba2\\lib\\site-packages (from jupyter-core->nbformat>=5.0->great-expectations==0.14.12->hsfs[python]<3.1.0,>=3.0.0->hopsworks) (2.5.4)\n",
      "Requirement already satisfied: pywin32>=1.0 in c:\\users\\chris\\desktop\\datascienceprojects\\nba_game_predictor\\nba2\\lib\\site-packages (from jupyter-core->nbformat>=5.0->great-expectations==0.14.12->hsfs[python]<3.1.0,>=3.0.0->hopsworks) (305)\n",
      "Requirement already satisfied: parso<0.9.0,>=0.8.0 in c:\\users\\chris\\desktop\\datascienceprojects\\nba_game_predictor\\nba2\\lib\\site-packages (from jedi>=0.16->ipython>=6.1.0->ipywidgets>=7.5.1->great-expectations==0.14.12->hsfs[python]<3.1.0,>=3.0.0->hopsworks) (0.8.3)\n",
      "Requirement already satisfied: wcwidth in c:\\users\\chris\\desktop\\datascienceprojects\\nba_game_predictor\\nba2\\lib\\site-packages (from prompt-toolkit<3.1.0,>3.0.1->ipython>=6.1.0->ipywidgets>=7.5.1->great-expectations==0.14.12->hsfs[python]<3.1.0,>=3.0.0->hopsworks) (0.2.5)\n",
      "Requirement already satisfied: pure-eval in c:\\users\\chris\\desktop\\datascienceprojects\\nba_game_predictor\\nba2\\lib\\site-packages (from stack-data->ipython>=6.1.0->ipywidgets>=7.5.1->great-expectations==0.14.12->hsfs[python]<3.1.0,>=3.0.0->hopsworks) (0.2.2)\n",
      "Requirement already satisfied: executing>=1.2.0 in c:\\users\\chris\\desktop\\datascienceprojects\\nba_game_predictor\\nba2\\lib\\site-packages (from stack-data->ipython>=6.1.0->ipywidgets>=7.5.1->great-expectations==0.14.12->hsfs[python]<3.1.0,>=3.0.0->hopsworks) (1.2.0)\n",
      "Requirement already satisfied: asttokens>=2.1.0 in c:\\users\\chris\\desktop\\datascienceprojects\\nba_game_predictor\\nba2\\lib\\site-packages (from stack-data->ipython>=6.1.0->ipywidgets>=7.5.1->great-expectations==0.14.12->hsfs[python]<3.1.0,>=3.0.0->hopsworks) (2.1.0)\n"
     ]
    }
   ],
   "source": [
    "!pip install -U hopsworks"
   ]
  },
  {
   "cell_type": "code",
   "execution_count": 2,
   "id": "2f0c58a3-8738-42ad-be18-8e13c171108f",
   "metadata": {},
   "outputs": [],
   "source": [
    "import os\n",
    "\n",
    "import pandas as pd\n",
    "import numpy as np\n",
    "\n",
    "import hopsworks\n",
    "\n",
    "from datetime import datetime, timedelta\n",
    "from pytz import timezone\n",
    "\n",
    "from src.webscraping import (\n",
    "    activate_web_driver,\n",
    "    scrape_to_dataframe,\n",
    "    convert_columns,\n",
    "    combine_home_visitor,  \n",
    ")\n",
    "\n",
    "from src.data_processing import (\n",
    "    process_games,\n",
    "    add_TARGET,\n",
    ")\n",
    "\n",
    "from src.feature_engineering import (\n",
    "    fix_datatypes,\n",
    "    add_date_features,\n",
    "    remove_playoff_games,\n",
    "    add_rolling_home_visitor,\n",
    "    process_games_consecutively,\n",
    "    add_matchups,\n",
    "    add_past_performance_all,\n",
    "    combine_new_features,\n",
    "    process_x_minus_y,  \n",
    "    remove_non_rolling,\n",
    "    process_features,\n",
    ")\n",
    "\n",
    "import json\n",
    "\n",
    "\n",
    "\n",
    "from pathlib import Path  #for Windows/Linux compatibility\n",
    "DATAPATH = Path(r'data')"
   ]
  },
  {
   "cell_type": "code",
   "execution_count": 3,
   "id": "1124d9cf-8a24-4a04-bf68-c7dc7ff1d276",
   "metadata": {},
   "outputs": [],
   "source": [
    "try:\n",
    "    HOPSWORKS_API_KEY = os.environ['HOPSWORKS_API_KEY']\n",
    "except:\n",
    "    raise Exception('Set environment variable HOPSWORKS_API_KEY')"
   ]
  },
  {
   "cell_type": "code",
   "execution_count": null,
   "id": "a1591906-5dcd-47e4-b22c-454876927184",
   "metadata": {},
   "outputs": [],
   "source": []
  },
  {
   "cell_type": "markdown",
   "id": "2f29eac3-4b58-4a07-bdba-b4c72cb491ec",
   "metadata": {},
   "source": [
    "**Scrape Data and Format**"
   ]
  },
  {
   "cell_type": "code",
   "execution_count": 4,
   "id": "0e81e4bd-45fa-44f6-bbb3-7d1821c56963",
   "metadata": {},
   "outputs": [
    {
     "name": "stdout",
     "output_type": "stream",
     "text": [
      "2022-11-29 08:32:10,379 INFO: ====== WebDriver manager ======\n",
      "2022-11-29 08:32:10,676 INFO: Get LATEST geckodriver version for 107.0 firefox\n"
     ]
    },
    {
     "name": "stderr",
     "output_type": "stream",
     "text": [
      "[WDM] - Downloading: 19.0kB [00:00, 9.74MB/s]                                                                          \n"
     ]
    },
    {
     "name": "stdout",
     "output_type": "stream",
     "text": [
      "2022-11-29 08:32:11,193 INFO: Driver [C:\\Users\\Chris\\.wdm\\drivers\\geckodriver\\win64\\0.32\\geckodriver.exe] found in cache\n"
     ]
    },
    {
     "name": "stderr",
     "output_type": "stream",
     "text": [
      "DeprecationWarning: HTTPResponse.getheader() is deprecated and will be removed in urllib3 v2.1.0. Instead use HTTResponse.headers.get(name, default).\n",
      "DeprecationWarning: HTTPResponse.getheader() is deprecated and will be removed in urllib3 v2.1.0. Instead use HTTResponse.headers.get(name, default).\n",
      "DeprecationWarning: HTTPResponse.getheader() is deprecated and will be removed in urllib3 v2.1.0. Instead use HTTResponse.headers.get(name, default).\n",
      "DeprecationWarning: HTTPResponse.getheader() is deprecated and will be removed in urllib3 v2.1.0. Instead use HTTResponse.headers.get(name, default).\n"
     ]
    }
   ],
   "source": [
    "\n",
    "# set search strings for the last seven days \n",
    "DAYS = 7\n",
    "SEASON = \"\" #no season will cause website to default to current season, format is \"2022-23\"\n",
    "TODAY = datetime.now(timezone('EST')) #nba.com uses US Eastern Standard Time\n",
    "LASTWEEK = (TODAY - timedelta(days=DAYS))\n",
    "DATETO = TODAY.strftime(\"%m/%d/%y\")\n",
    "DATEFROM = LASTWEEK.strftime(\"%m/%d/%y\")\n",
    "\n",
    "# initate a webdriver in selenium \n",
    "# since website data is dynamically generated\n",
    "driver = activate_web_driver('firefox')\n",
    "\n",
    "df = scrape_to_dataframe(driver, Season=SEASON, DateFrom=DATEFROM, DateTo=DATETO)\n",
    "\n",
    "driver.close() \n",
    "\n",
    "df = convert_columns(df)\n",
    "df = combine_home_visitor(df)\n"
   ]
  },
  {
   "cell_type": "markdown",
   "id": "835625fc-be47-4a8f-a532-02dc8e79363e",
   "metadata": {},
   "source": [
    "### Data Processing"
   ]
  },
  {
   "cell_type": "code",
   "execution_count": 5,
   "id": "8577f0e2-39f7-4cef-9f8f-e687cb73f1bb",
   "metadata": {},
   "outputs": [],
   "source": [
    "df = process_games(df) \n",
    "df = add_TARGET(df)"
   ]
  },
  {
   "cell_type": "markdown",
   "id": "7c47caf3-32ef-4414-86e7-3c82af991d45",
   "metadata": {},
   "source": [
    "### Feature Engineering"
   ]
  },
  {
   "cell_type": "code",
   "execution_count": 6,
   "id": "6adb0d83-555c-42d7-9c55-a2f7b73a85ef",
   "metadata": {},
   "outputs": [
    {
     "name": "stderr",
     "output_type": "stream",
     "text": [
      "SettingWithCopyWarning: \n",
      "A value is trying to be set on a copy of a slice from a DataFrame\n",
      "\n",
      "See the caveats in the documentation: https://pandas.pydata.org/pandas-docs/stable/user_guide/indexing.html#returning-a-view-versus-a-copy\n",
      "SettingWithCopyWarning: \n",
      "A value is trying to be set on a copy of a slice from a DataFrame\n",
      "\n",
      "See the caveats in the documentation: https://pandas.pydata.org/pandas-docs/stable/user_guide/indexing.html#returning-a-view-versus-a-copy\n",
      "SettingWithCopyWarning: \n",
      "A value is trying to be set on a copy of a slice from a DataFrame\n",
      "\n",
      "See the caveats in the documentation: https://pandas.pydata.org/pandas-docs/stable/user_guide/indexing.html#returning-a-view-versus-a-copy\n",
      "SettingWithCopyWarning: \n",
      "A value is trying to be set on a copy of a slice from a DataFrame\n",
      "\n",
      "See the caveats in the documentation: https://pandas.pydata.org/pandas-docs/stable/user_guide/indexing.html#returning-a-view-versus-a-copy\n",
      "SettingWithCopyWarning: \n",
      "A value is trying to be set on a copy of a slice from a DataFrame\n",
      "\n",
      "See the caveats in the documentation: https://pandas.pydata.org/pandas-docs/stable/user_guide/indexing.html#returning-a-view-versus-a-copy\n"
     ]
    }
   ],
   "source": [
    "# Feature engineering to add: \n",
    "    # rolling averages of key stats, \n",
    "    # win/lose streaks, \n",
    "    # home/away streaks, \n",
    "    # specific matchup (team X vs team Y) rolling averages and streaks\n",
    "\n",
    "df = process_features(df)\n"
   ]
  },
  {
   "cell_type": "markdown",
   "id": "acfb1180-ea38-452c-9afd-73eea3ee7e17",
   "metadata": {},
   "source": [
    "### Add Data to Feature Store"
   ]
  },
  {
   "cell_type": "code",
   "execution_count": 7,
   "id": "ba69a88c-691e-4f8d-b68e-e79f5582a939",
   "metadata": {},
   "outputs": [
    {
     "name": "stdout",
     "output_type": "stream",
     "text": [
      "Connected. Call `.close()` to terminate connection gracefully.\n",
      "\n",
      "Logged in to project, explore it here https://c.app.hopsworks.ai:443/p/3350\n",
      "Connected. Call `.close()` to terminate connection gracefully.\n"
     ]
    },
    {
     "name": "stderr",
     "output_type": "stream",
     "text": [
      "DeprecationWarning: the imp module is deprecated in favour of importlib; see the module's documentation for alternative uses\n"
     ]
    }
   ],
   "source": [
    "project = hopsworks.login(api_key_value=HOPSWORKS_API_KEY)\n",
    "fs = project.get_feature_store()"
   ]
  },
  {
   "cell_type": "code",
   "execution_count": 8,
   "id": "641d97e5-0888-42c3-a9b1-97c9ef2b7082",
   "metadata": {},
   "outputs": [
    {
     "name": "stderr",
     "output_type": "stream",
     "text": [
      "FeatureGroupWarning: The ingested dataframe contains upper case letters in feature names: `['GAME_DATE_EST', 'HOME_TEAM_ID', 'GAME_ID', 'VISITOR_TEAM_ID', 'SEASON', 'TARGET', 'MONTH', 'HOME_TEAM_WIN_STREAK', 'HOME_TEAM_WINS_AVG_LAST_3_HOME', 'HOME_TEAM_WINS_AVG_LAST_7_HOME', 'HOME_TEAM_WINS_AVG_LAST_10_HOME', 'HOME_PTS_home_AVG_LAST_3_HOME', 'HOME_PTS_home_AVG_LAST_7_HOME', 'HOME_PTS_home_AVG_LAST_10_HOME', 'HOME_FG_PCT_home_AVG_LAST_3_HOME', 'HOME_FG_PCT_home_AVG_LAST_7_HOME', 'HOME_FG_PCT_home_AVG_LAST_10_HOME', 'HOME_FT_PCT_home_AVG_LAST_3_HOME', 'HOME_FT_PCT_home_AVG_LAST_7_HOME', 'HOME_FT_PCT_home_AVG_LAST_10_HOME', 'HOME_FG3_PCT_home_AVG_LAST_3_HOME', 'HOME_FG3_PCT_home_AVG_LAST_7_HOME', 'HOME_FG3_PCT_home_AVG_LAST_10_HOME', 'HOME_AST_home_AVG_LAST_3_HOME', 'HOME_AST_home_AVG_LAST_7_HOME', 'HOME_AST_home_AVG_LAST_10_HOME', 'HOME_REB_home_AVG_LAST_3_HOME', 'HOME_REB_home_AVG_LAST_7_HOME', 'HOME_REB_home_AVG_LAST_10_HOME', 'HOME_PTS_home_AVG_LAST_3_HOME_MINUS_LEAGUE_AVG', 'HOME_PTS_home_AVG_LAST_7_HOME_MINUS_LEAGUE_AVG', 'HOME_PTS_home_AVG_LAST_10_HOME_MINUS_LEAGUE_AVG', 'HOME_FG_PCT_home_AVG_LAST_3_HOME_MINUS_LEAGUE_AVG', 'HOME_FG_PCT_home_AVG_LAST_7_HOME_MINUS_LEAGUE_AVG', 'HOME_FG_PCT_home_AVG_LAST_10_HOME_MINUS_LEAGUE_AVG', 'HOME_FT_PCT_home_AVG_LAST_3_HOME_MINUS_LEAGUE_AVG', 'HOME_FT_PCT_home_AVG_LAST_7_HOME_MINUS_LEAGUE_AVG', 'HOME_FT_PCT_home_AVG_LAST_10_HOME_MINUS_LEAGUE_AVG', 'HOME_FG3_PCT_home_AVG_LAST_3_HOME_MINUS_LEAGUE_AVG', 'HOME_FG3_PCT_home_AVG_LAST_7_HOME_MINUS_LEAGUE_AVG', 'HOME_FG3_PCT_home_AVG_LAST_10_HOME_MINUS_LEAGUE_AVG', 'HOME_AST_home_AVG_LAST_3_HOME_MINUS_LEAGUE_AVG', 'HOME_AST_home_AVG_LAST_7_HOME_MINUS_LEAGUE_AVG', 'HOME_AST_home_AVG_LAST_10_HOME_MINUS_LEAGUE_AVG', 'HOME_REB_home_AVG_LAST_3_HOME_MINUS_LEAGUE_AVG', 'HOME_REB_home_AVG_LAST_7_HOME_MINUS_LEAGUE_AVG', 'HOME_REB_home_AVG_LAST_10_HOME_MINUS_LEAGUE_AVG', 'VISITOR_TEAM_WIN_STREAK', 'VISITOR_TEAM_WINS_AVG_LAST_3_VISITOR', 'VISITOR_TEAM_WINS_AVG_LAST_7_VISITOR', 'VISITOR_TEAM_WINS_AVG_LAST_10_VISITOR', 'VISITOR_PTS_away_AVG_LAST_3_VISITOR', 'VISITOR_PTS_away_AVG_LAST_7_VISITOR', 'VISITOR_PTS_away_AVG_LAST_10_VISITOR', 'VISITOR_FG_PCT_away_AVG_LAST_3_VISITOR', 'VISITOR_FG_PCT_away_AVG_LAST_7_VISITOR', 'VISITOR_FG_PCT_away_AVG_LAST_10_VISITOR', 'VISITOR_FT_PCT_away_AVG_LAST_3_VISITOR', 'VISITOR_FT_PCT_away_AVG_LAST_7_VISITOR', 'VISITOR_FT_PCT_away_AVG_LAST_10_VISITOR', 'VISITOR_FG3_PCT_away_AVG_LAST_3_VISITOR', 'VISITOR_FG3_PCT_away_AVG_LAST_7_VISITOR', 'VISITOR_FG3_PCT_away_AVG_LAST_10_VISITOR', 'VISITOR_AST_away_AVG_LAST_3_VISITOR', 'VISITOR_AST_away_AVG_LAST_7_VISITOR', 'VISITOR_AST_away_AVG_LAST_10_VISITOR', 'VISITOR_REB_away_AVG_LAST_3_VISITOR', 'VISITOR_REB_away_AVG_LAST_7_VISITOR', 'VISITOR_REB_away_AVG_LAST_10_VISITOR', 'VISITOR_TEAM_WINS_AVG_LAST_3_VISITOR_MINUS_LEAGUE_AVG', 'VISITOR_TEAM_WINS_AVG_LAST_7_VISITOR_MINUS_LEAGUE_AVG', 'VISITOR_TEAM_WINS_AVG_LAST_10_VISITOR_MINUS_LEAGUE_AVG', 'VISITOR_PTS_away_AVG_LAST_3_VISITOR_MINUS_LEAGUE_AVG', 'VISITOR_PTS_away_AVG_LAST_7_VISITOR_MINUS_LEAGUE_AVG', 'VISITOR_PTS_away_AVG_LAST_10_VISITOR_MINUS_LEAGUE_AVG', 'VISITOR_FG_PCT_away_AVG_LAST_3_VISITOR_MINUS_LEAGUE_AVG', 'VISITOR_FG_PCT_away_AVG_LAST_7_VISITOR_MINUS_LEAGUE_AVG', 'VISITOR_FG_PCT_away_AVG_LAST_10_VISITOR_MINUS_LEAGUE_AVG', 'VISITOR_FT_PCT_away_AVG_LAST_3_VISITOR_MINUS_LEAGUE_AVG', 'VISITOR_FT_PCT_away_AVG_LAST_7_VISITOR_MINUS_LEAGUE_AVG', 'VISITOR_FT_PCT_away_AVG_LAST_10_VISITOR_MINUS_LEAGUE_AVG', 'VISITOR_FG3_PCT_away_AVG_LAST_3_VISITOR_MINUS_LEAGUE_AVG', 'VISITOR_FG3_PCT_away_AVG_LAST_7_VISITOR_MINUS_LEAGUE_AVG', 'VISITOR_FG3_PCT_away_AVG_LAST_10_VISITOR_MINUS_LEAGUE_AVG', 'VISITOR_AST_away_AVG_LAST_3_VISITOR_MINUS_LEAGUE_AVG', 'VISITOR_AST_away_AVG_LAST_7_VISITOR_MINUS_LEAGUE_AVG', 'VISITOR_AST_away_AVG_LAST_10_VISITOR_MINUS_LEAGUE_AVG', 'VISITOR_REB_away_AVG_LAST_3_VISITOR_MINUS_LEAGUE_AVG', 'VISITOR_REB_away_AVG_LAST_7_VISITOR_MINUS_LEAGUE_AVG', 'VISITOR_REB_away_AVG_LAST_10_VISITOR_MINUS_LEAGUE_AVG', 'MATCHUP_WINPCT_3_x', 'MATCHUP_WINPCT_7_x', 'MATCHUP_WINPCT_10_x', 'MATCHUP_WIN_STREAK_x', 'WIN_STREAK_x', 'HOME_AWAY_STREAK_x', 'TEAM1_win_AVG_LAST_3_ALL_x', 'TEAM1_win_AVG_LAST_7_ALL_x', 'TEAM1_win_AVG_LAST_10_ALL_x', 'TEAM1_win_AVG_LAST_15_ALL_x', 'PTS_AVG_LAST_3_ALL_x', 'PTS_AVG_LAST_7_ALL_x', 'PTS_AVG_LAST_10_ALL_x', 'PTS_AVG_LAST_15_ALL_x', 'FG_PCT_AVG_LAST_3_ALL_x', 'FG_PCT_AVG_LAST_7_ALL_x', 'FG_PCT_AVG_LAST_10_ALL_x', 'FG_PCT_AVG_LAST_15_ALL_x', 'FT_PCT_AVG_LAST_3_ALL_x', 'FT_PCT_AVG_LAST_7_ALL_x', 'FT_PCT_AVG_LAST_10_ALL_x', 'FT_PCT_AVG_LAST_15_ALL_x', 'FG3_PCT_AVG_LAST_3_ALL_x', 'FG3_PCT_AVG_LAST_7_ALL_x', 'FG3_PCT_AVG_LAST_10_ALL_x', 'FG3_PCT_AVG_LAST_15_ALL_x', 'AST_AVG_LAST_3_ALL_x', 'AST_AVG_LAST_7_ALL_x', 'AST_AVG_LAST_10_ALL_x', 'AST_AVG_LAST_15_ALL_x', 'REB_AVG_LAST_3_ALL_x', 'REB_AVG_LAST_7_ALL_x', 'REB_AVG_LAST_10_ALL_x', 'REB_AVG_LAST_15_ALL_x', 'PTS_AVG_LAST_3_ALL_MINUS_LEAGUE_AVG_x', 'PTS_AVG_LAST_7_ALL_MINUS_LEAGUE_AVG_x', 'PTS_AVG_LAST_10_ALL_MINUS_LEAGUE_AVG_x', 'PTS_AVG_LAST_15_ALL_MINUS_LEAGUE_AVG_x', 'FG_PCT_AVG_LAST_3_ALL_MINUS_LEAGUE_AVG_x', 'FG_PCT_AVG_LAST_7_ALL_MINUS_LEAGUE_AVG_x', 'FG_PCT_AVG_LAST_10_ALL_MINUS_LEAGUE_AVG_x', 'FG_PCT_AVG_LAST_15_ALL_MINUS_LEAGUE_AVG_x', 'FT_PCT_AVG_LAST_3_ALL_MINUS_LEAGUE_AVG_x', 'FT_PCT_AVG_LAST_7_ALL_MINUS_LEAGUE_AVG_x', 'FT_PCT_AVG_LAST_10_ALL_MINUS_LEAGUE_AVG_x', 'FT_PCT_AVG_LAST_15_ALL_MINUS_LEAGUE_AVG_x', 'FG3_PCT_AVG_LAST_3_ALL_MINUS_LEAGUE_AVG_x', 'FG3_PCT_AVG_LAST_7_ALL_MINUS_LEAGUE_AVG_x', 'FG3_PCT_AVG_LAST_10_ALL_MINUS_LEAGUE_AVG_x', 'FG3_PCT_AVG_LAST_15_ALL_MINUS_LEAGUE_AVG_x', 'AST_AVG_LAST_3_ALL_MINUS_LEAGUE_AVG_x', 'AST_AVG_LAST_7_ALL_MINUS_LEAGUE_AVG_x', 'AST_AVG_LAST_10_ALL_MINUS_LEAGUE_AVG_x', 'AST_AVG_LAST_15_ALL_MINUS_LEAGUE_AVG_x', 'REB_AVG_LAST_3_ALL_MINUS_LEAGUE_AVG_x', 'REB_AVG_LAST_7_ALL_MINUS_LEAGUE_AVG_x', 'REB_AVG_LAST_10_ALL_MINUS_LEAGUE_AVG_x', 'REB_AVG_LAST_15_ALL_MINUS_LEAGUE_AVG_x', 'WIN_STREAK_y', 'HOME_AWAY_STREAK_y', 'TEAM1_win_AVG_LAST_3_ALL_y', 'TEAM1_win_AVG_LAST_7_ALL_y', 'TEAM1_win_AVG_LAST_10_ALL_y', 'TEAM1_win_AVG_LAST_15_ALL_y', 'PTS_AVG_LAST_3_ALL_y', 'PTS_AVG_LAST_7_ALL_y', 'PTS_AVG_LAST_10_ALL_y', 'PTS_AVG_LAST_15_ALL_y', 'FG_PCT_AVG_LAST_3_ALL_y', 'FG_PCT_AVG_LAST_7_ALL_y', 'FG_PCT_AVG_LAST_10_ALL_y', 'FG_PCT_AVG_LAST_15_ALL_y', 'FT_PCT_AVG_LAST_3_ALL_y', 'FT_PCT_AVG_LAST_7_ALL_y', 'FT_PCT_AVG_LAST_10_ALL_y', 'FT_PCT_AVG_LAST_15_ALL_y', 'FG3_PCT_AVG_LAST_3_ALL_y', 'FG3_PCT_AVG_LAST_7_ALL_y', 'FG3_PCT_AVG_LAST_10_ALL_y', 'FG3_PCT_AVG_LAST_15_ALL_y', 'AST_AVG_LAST_3_ALL_y', 'AST_AVG_LAST_7_ALL_y', 'AST_AVG_LAST_10_ALL_y', 'AST_AVG_LAST_15_ALL_y', 'REB_AVG_LAST_3_ALL_y', 'REB_AVG_LAST_7_ALL_y', 'REB_AVG_LAST_10_ALL_y', 'REB_AVG_LAST_15_ALL_y', 'PTS_AVG_LAST_3_ALL_MINUS_LEAGUE_AVG_y', 'PTS_AVG_LAST_7_ALL_MINUS_LEAGUE_AVG_y', 'PTS_AVG_LAST_10_ALL_MINUS_LEAGUE_AVG_y', 'PTS_AVG_LAST_15_ALL_MINUS_LEAGUE_AVG_y', 'FG_PCT_AVG_LAST_3_ALL_MINUS_LEAGUE_AVG_y', 'FG_PCT_AVG_LAST_7_ALL_MINUS_LEAGUE_AVG_y', 'FG_PCT_AVG_LAST_10_ALL_MINUS_LEAGUE_AVG_y', 'FG_PCT_AVG_LAST_15_ALL_MINUS_LEAGUE_AVG_y', 'FT_PCT_AVG_LAST_3_ALL_MINUS_LEAGUE_AVG_y', 'FT_PCT_AVG_LAST_7_ALL_MINUS_LEAGUE_AVG_y', 'FT_PCT_AVG_LAST_10_ALL_MINUS_LEAGUE_AVG_y', 'FT_PCT_AVG_LAST_15_ALL_MINUS_LEAGUE_AVG_y', 'FG3_PCT_AVG_LAST_3_ALL_MINUS_LEAGUE_AVG_y', 'FG3_PCT_AVG_LAST_7_ALL_MINUS_LEAGUE_AVG_y', 'FG3_PCT_AVG_LAST_10_ALL_MINUS_LEAGUE_AVG_y', 'FG3_PCT_AVG_LAST_15_ALL_MINUS_LEAGUE_AVG_y', 'AST_AVG_LAST_3_ALL_MINUS_LEAGUE_AVG_y', 'AST_AVG_LAST_7_ALL_MINUS_LEAGUE_AVG_y', 'AST_AVG_LAST_10_ALL_MINUS_LEAGUE_AVG_y', 'AST_AVG_LAST_15_ALL_MINUS_LEAGUE_AVG_y', 'REB_AVG_LAST_3_ALL_MINUS_LEAGUE_AVG_y', 'REB_AVG_LAST_7_ALL_MINUS_LEAGUE_AVG_y', 'REB_AVG_LAST_10_ALL_MINUS_LEAGUE_AVG_y', 'REB_AVG_LAST_15_ALL_MINUS_LEAGUE_AVG_y', 'WIN_STREAK_x_minus_y', 'HOME_AWAY_STREAK_x_minus_y', 'TEAM1_win_AVG_LAST_3_ALL_x_minus_y', 'TEAM1_win_AVG_LAST_7_ALL_x_minus_y', 'TEAM1_win_AVG_LAST_10_ALL_x_minus_y', 'TEAM1_win_AVG_LAST_15_ALL_x_minus_y', 'PTS_AVG_LAST_3_ALL_x_minus_y', 'PTS_AVG_LAST_7_ALL_x_minus_y', 'PTS_AVG_LAST_10_ALL_x_minus_y', 'PTS_AVG_LAST_15_ALL_x_minus_y', 'FG_PCT_AVG_LAST_3_ALL_x_minus_y', 'FG_PCT_AVG_LAST_7_ALL_x_minus_y', 'FG_PCT_AVG_LAST_10_ALL_x_minus_y', 'FG_PCT_AVG_LAST_15_ALL_x_minus_y', 'FT_PCT_AVG_LAST_3_ALL_x_minus_y', 'FT_PCT_AVG_LAST_7_ALL_x_minus_y', 'FT_PCT_AVG_LAST_10_ALL_x_minus_y', 'FT_PCT_AVG_LAST_15_ALL_x_minus_y', 'FG3_PCT_AVG_LAST_3_ALL_x_minus_y', 'FG3_PCT_AVG_LAST_7_ALL_x_minus_y', 'FG3_PCT_AVG_LAST_10_ALL_x_minus_y', 'FG3_PCT_AVG_LAST_15_ALL_x_minus_y', 'AST_AVG_LAST_3_ALL_x_minus_y', 'AST_AVG_LAST_7_ALL_x_minus_y', 'AST_AVG_LAST_10_ALL_x_minus_y', 'AST_AVG_LAST_15_ALL_x_minus_y', 'REB_AVG_LAST_3_ALL_x_minus_y', 'REB_AVG_LAST_7_ALL_x_minus_y', 'REB_AVG_LAST_10_ALL_x_minus_y', 'REB_AVG_LAST_15_ALL_x_minus_y']`. Feature names are sanitized to lower case in the feature store.\n"
     ]
    },
    {
     "data": {
      "application/json": {
       "ascii": false,
       "bar_format": "{desc}: {percentage:.2f}% |{bar}| Rows {n_fmt}/{total_fmt} | Elapsed Time: {elapsed} | Remaining Time: {remaining}",
       "colour": null,
       "elapsed": 0.014965295791625977,
       "initial": 0,
       "n": 0,
       "ncols": null,
       "nrows": 29,
       "postfix": null,
       "prefix": "Uploading Dataframe",
       "rate": null,
       "total": 53,
       "unit": "it",
       "unit_divisor": 1000,
       "unit_scale": false
      },
      "application/vnd.jupyter.widget-view+json": {
       "model_id": "351c8c5655a9405096e495bf26efa37a",
       "version_major": 2,
       "version_minor": 0
      },
      "text/plain": [
       "Uploading Dataframe: 0.00% |          | Rows 0/53 | Elapsed Time: 00:00 | Remaining Time: ?"
      ]
     },
     "metadata": {},
     "output_type": "display_data"
    },
    {
     "name": "stdout",
     "output_type": "stream",
     "text": [
      "Launching offline feature group backfill job...\n",
      "Backfill Job started successfully, you can follow the progress at \n",
      "https://c.app.hopsworks.ai/p/3350/jobs/named/rolling_stats_1_offline_fg_backfill/executions\n"
     ]
    },
    {
     "data": {
      "text/plain": [
       "(<hsfs.core.job.Job at 0x1d13d07ae50>, None)"
      ]
     },
     "execution_count": 8,
     "metadata": {},
     "output_type": "execute_result"
    }
   ],
   "source": [
    "rolling_stats_fg = fs.get_feature_group(\n",
    "    name=\"rolling_stats\",\n",
    "    version=1,\n",
    ")\n",
    "rolling_stats_fg.insert(df, write_options={\"wait_for_job\" : False})"
   ]
  },
  {
   "cell_type": "code",
   "execution_count": 9,
   "id": "d10ebbad-19a6-475f-a622-289d19f2f4b7",
   "metadata": {},
   "outputs": [
    {
     "data": {
      "text/plain": [
       "'File Saved.'"
      ]
     },
     "execution_count": 9,
     "metadata": {},
     "output_type": "execute_result"
    }
   ],
   "source": [
    "def save_feature_names(df):\n",
    "    # hopsworks \"sanitizes\" feature names by converting to all lowercase\n",
    "    # this function saves the original so that they can be re-mapped later\n",
    "    # for code re-usuability\n",
    "    \n",
    "    feature_names = df.columns.tolist()\n",
    "    with open(\"feature_names.json\", \"w\") as fp:\n",
    "        json.dump(feature_names, fp)\n",
    "        \n",
    "    return \"File Saved.\"\n",
    "\n",
    "save_feature_names(df)\n"
   ]
  },
  {
   "cell_type": "code",
   "execution_count": null,
   "id": "5f02da99-60b3-4c45-bb01-aabb2eea9566",
   "metadata": {},
   "outputs": [],
   "source": []
  }
 ],
 "metadata": {
  "kernelspec": {
   "display_name": "Python 3 (ipykernel)",
   "language": "python",
   "name": "python3"
  },
  "language_info": {
   "codemirror_mode": {
    "name": "ipython",
    "version": 3
   },
   "file_extension": ".py",
   "mimetype": "text/x-python",
   "name": "python",
   "nbconvert_exporter": "python",
   "pygments_lexer": "ipython3",
   "version": "3.9.7"
  }
 },
 "nbformat": 4,
 "nbformat_minor": 5
}
