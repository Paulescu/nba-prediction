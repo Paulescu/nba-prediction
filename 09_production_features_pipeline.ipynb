{
 "cells": [
  {
   "cell_type": "code",
   "execution_count": 10,
   "id": "2f0c58a3-8738-42ad-be18-8e13c171108f",
   "metadata": {},
   "outputs": [],
   "source": [
    "import os\n",
    "\n",
    "import pandas as pd\n",
    "import numpy as np\n",
    "\n",
    "import hopsworks\n",
    "\n",
    "from datetime import datetime, timedelta\n",
    "from pytz import timezone\n",
    "\n",
    "from src.webscraping import (\n",
    "    activate_web_driver,\n",
    "    scrape_to_dataframe,\n",
    "    convert_columns,\n",
    "    combine_home_visitor,  \n",
    ")\n",
    "\n",
    "from src.data_processing import (\n",
    "    process_games,\n",
    "    add_TARGET,\n",
    ")\n",
    "\n",
    "from src.feature_engineering import (\n",
    "    fix_datatypes,\n",
    "    add_date_features,\n",
    "    remove_playoff_games,\n",
    "    add_rolling_home_visitor,\n",
    "    process_games_consecutively,\n",
    "    add_matchups,\n",
    "    add_past_performance_all,\n",
    "    combine_new_features,\n",
    "    process_x_minus_y,  \n",
    "    remove_non_rolling,\n",
    "    process_features,\n",
    ")\n",
    "\n",
    "import json\n",
    "\n",
    "\n",
    "\n",
    "from pathlib import Path  #for Windows/Linux compatibility\n",
    "DATAPATH = Path(r'data')"
   ]
  },
  {
   "cell_type": "markdown",
   "id": "e754aaa7",
   "metadata": {},
   "source": [
    "**Load API keys**"
   ]
  },
  {
   "cell_type": "code",
   "execution_count": 11,
   "id": "1124d9cf-8a24-4a04-bf68-c7dc7ff1d276",
   "metadata": {},
   "outputs": [],
   "source": [
    "from dotenv import load_dotenv\n",
    "\n",
    "load_dotenv()\n",
    "\n",
    "try:\n",
    "    HOPSWORKS_API_KEY = os.environ['HOPSWORKS_API_KEY']\n",
    "except:\n",
    "    raise Exception('Set environment variable HOPSWORKS_API_KEY')"
   ]
  },
  {
   "cell_type": "markdown",
   "id": "2f29eac3-4b58-4a07-bdba-b4c72cb491ec",
   "metadata": {},
   "source": [
    "**Scrape Data and Format**"
   ]
  },
  {
   "cell_type": "code",
   "execution_count": 12,
   "id": "0e81e4bd-45fa-44f6-bbb3-7d1821c56963",
   "metadata": {},
   "outputs": [
    {
     "name": "stdout",
     "output_type": "stream",
     "text": [
      "2022-12-04 11:00:55,101 INFO: ====== WebDriver manager ======\n",
      "2022-12-04 11:00:55,197 INFO: Get LATEST chromedriver version for chromium 108.0.5359\n",
      "2022-12-04 11:00:55,599 INFO: Driver [/home/cmunch1/.wdm/drivers/chromedriver/linux64/108.0.5359/chromedriver] found in cache\n"
     ]
    },
    {
     "ename": "WebDriverException",
     "evalue": "Message: unknown error: DevToolsActivePort file doesn't exist\nStacktrace:\n#0 0x558b4f2412a3 <unknown>\n#1 0x558b4effff77 <unknown>\n#2 0x558b4f02bfc4 <unknown>\n#3 0x558b4f027b0c <unknown>\n#4 0x558b4f0247d0 <unknown>\n#5 0x558b4f0650b7 <unknown>\n#6 0x558b4f064a5f <unknown>\n#7 0x558b4f05c903 <unknown>\n#8 0x558b4f02fece <unknown>\n#9 0x558b4f030fde <unknown>\n#10 0x558b4f29163e <unknown>\n#11 0x558b4f294b79 <unknown>\n#12 0x558b4f27789e <unknown>\n#13 0x558b4f295a83 <unknown>\n#14 0x558b4f26a505 <unknown>\n#15 0x558b4f2b6ca8 <unknown>\n#16 0x558b4f2b6e36 <unknown>\n#17 0x558b4f2d2333 <unknown>\n#18 0x7ff92707bb43 <unknown>\n",
     "output_type": "error",
     "traceback": [
      "\u001b[0;31m---------------------------------------------------------------------------\u001b[0m",
      "\u001b[0;31mWebDriverException\u001b[0m                        Traceback (most recent call last)",
      "Cell \u001b[0;32mIn [12], line 11\u001b[0m\n\u001b[1;32m      7\u001b[0m DATEFROM \u001b[39m=\u001b[39m LASTWEEK\u001b[39m.\u001b[39mstrftime(\u001b[39m\"\u001b[39m\u001b[39m%\u001b[39m\u001b[39mm/\u001b[39m\u001b[39m%d\u001b[39;00m\u001b[39m/\u001b[39m\u001b[39m%\u001b[39m\u001b[39my\u001b[39m\u001b[39m\"\u001b[39m)\n\u001b[1;32m      9\u001b[0m \u001b[39m# initate a webdriver in selenium \u001b[39;00m\n\u001b[1;32m     10\u001b[0m \u001b[39m# since website data is dynamically generated\u001b[39;00m\n\u001b[0;32m---> 11\u001b[0m driver \u001b[39m=\u001b[39m activate_web_driver(\u001b[39m'\u001b[39;49m\u001b[39mchromium\u001b[39;49m\u001b[39m'\u001b[39;49m)\n\u001b[1;32m     13\u001b[0m df \u001b[39m=\u001b[39m scrape_to_dataframe(driver, Season\u001b[39m=\u001b[39mSEASON, DateFrom\u001b[39m=\u001b[39mDATEFROM, DateTo\u001b[39m=\u001b[39mDATETO)\n\u001b[1;32m     15\u001b[0m driver\u001b[39m.\u001b[39mclose() \n",
      "File \u001b[0;32m~/nba-prediction/src/webscraping.py:31\u001b[0m, in \u001b[0;36mactivate_web_driver\u001b[0;34m(browser)\u001b[0m\n\u001b[1;32m     29\u001b[0m     driver \u001b[39m=\u001b[39m activate_web_driver_firefox()\n\u001b[1;32m     30\u001b[0m \u001b[39melse\u001b[39;00m:\n\u001b[0;32m---> 31\u001b[0m     driver \u001b[39m=\u001b[39m activate_web_driver_chromium()\n\u001b[1;32m     33\u001b[0m \u001b[39mreturn\u001b[39;00m driver\n",
      "File \u001b[0;32m~/nba-prediction/src/webscraping.py:79\u001b[0m, in \u001b[0;36mactivate_web_driver_chromium\u001b[0;34m()\u001b[0m\n\u001b[1;32m     76\u001b[0m \u001b[39mfor\u001b[39;00m option \u001b[39min\u001b[39;00m options:\n\u001b[1;32m     77\u001b[0m     chrome_options\u001b[39m.\u001b[39madd_argument(option)\n\u001b[0;32m---> 79\u001b[0m driver \u001b[39m=\u001b[39m webdriver\u001b[39m.\u001b[39;49mChrome(service\u001b[39m=\u001b[39;49mservice, options\u001b[39m=\u001b[39;49mchrome_options)\n\u001b[1;32m     82\u001b[0m \u001b[39mreturn\u001b[39;00m driver\n",
      "File \u001b[0;32m~/nba-prediction/nba2/lib/python3.9/site-packages/selenium/webdriver/chrome/webdriver.py:81\u001b[0m, in \u001b[0;36mWebDriver.__init__\u001b[0;34m(self, executable_path, port, options, service_args, desired_capabilities, service_log_path, chrome_options, service, keep_alive)\u001b[0m\n\u001b[1;32m     78\u001b[0m \u001b[39mif\u001b[39;00m \u001b[39mnot\u001b[39;00m service:\n\u001b[1;32m     79\u001b[0m     service \u001b[39m=\u001b[39m Service(executable_path, port, service_args, service_log_path)\n\u001b[0;32m---> 81\u001b[0m \u001b[39msuper\u001b[39;49m()\u001b[39m.\u001b[39;49m\u001b[39m__init__\u001b[39;49m(\n\u001b[1;32m     82\u001b[0m     DesiredCapabilities\u001b[39m.\u001b[39;49mCHROME[\u001b[39m\"\u001b[39;49m\u001b[39mbrowserName\u001b[39;49m\u001b[39m\"\u001b[39;49m],\n\u001b[1;32m     83\u001b[0m     \u001b[39m\"\u001b[39;49m\u001b[39mgoog\u001b[39;49m\u001b[39m\"\u001b[39;49m,\n\u001b[1;32m     84\u001b[0m     port,\n\u001b[1;32m     85\u001b[0m     options,\n\u001b[1;32m     86\u001b[0m     service_args,\n\u001b[1;32m     87\u001b[0m     desired_capabilities,\n\u001b[1;32m     88\u001b[0m     service_log_path,\n\u001b[1;32m     89\u001b[0m     service,\n\u001b[1;32m     90\u001b[0m     keep_alive,\n\u001b[1;32m     91\u001b[0m )\n",
      "File \u001b[0;32m~/nba-prediction/nba2/lib/python3.9/site-packages/selenium/webdriver/chromium/webdriver.py:106\u001b[0m, in \u001b[0;36mChromiumDriver.__init__\u001b[0;34m(self, browser_name, vendor_prefix, port, options, service_args, desired_capabilities, service_log_path, service, keep_alive)\u001b[0m\n\u001b[1;32m    103\u001b[0m \u001b[39mself\u001b[39m\u001b[39m.\u001b[39mservice\u001b[39m.\u001b[39mstart()\n\u001b[1;32m    105\u001b[0m \u001b[39mtry\u001b[39;00m:\n\u001b[0;32m--> 106\u001b[0m     \u001b[39msuper\u001b[39;49m()\u001b[39m.\u001b[39;49m\u001b[39m__init__\u001b[39;49m(\n\u001b[1;32m    107\u001b[0m         command_executor\u001b[39m=\u001b[39;49mChromiumRemoteConnection(\n\u001b[1;32m    108\u001b[0m             remote_server_addr\u001b[39m=\u001b[39;49m\u001b[39mself\u001b[39;49m\u001b[39m.\u001b[39;49mservice\u001b[39m.\u001b[39;49mservice_url,\n\u001b[1;32m    109\u001b[0m             browser_name\u001b[39m=\u001b[39;49mbrowser_name,\n\u001b[1;32m    110\u001b[0m             vendor_prefix\u001b[39m=\u001b[39;49mvendor_prefix,\n\u001b[1;32m    111\u001b[0m             keep_alive\u001b[39m=\u001b[39;49mkeep_alive,\n\u001b[1;32m    112\u001b[0m             ignore_proxy\u001b[39m=\u001b[39;49m_ignore_proxy,\n\u001b[1;32m    113\u001b[0m         ),\n\u001b[1;32m    114\u001b[0m         options\u001b[39m=\u001b[39;49moptions,\n\u001b[1;32m    115\u001b[0m     )\n\u001b[1;32m    116\u001b[0m \u001b[39mexcept\u001b[39;00m \u001b[39mException\u001b[39;00m:\n\u001b[1;32m    117\u001b[0m     \u001b[39mself\u001b[39m\u001b[39m.\u001b[39mquit()\n",
      "File \u001b[0;32m~/nba-prediction/nba2/lib/python3.9/site-packages/selenium/webdriver/remote/webdriver.py:288\u001b[0m, in \u001b[0;36mWebDriver.__init__\u001b[0;34m(self, command_executor, desired_capabilities, browser_profile, proxy, keep_alive, file_detector, options)\u001b[0m\n\u001b[1;32m    286\u001b[0m \u001b[39mself\u001b[39m\u001b[39m.\u001b[39m_authenticator_id \u001b[39m=\u001b[39m \u001b[39mNone\u001b[39;00m\n\u001b[1;32m    287\u001b[0m \u001b[39mself\u001b[39m\u001b[39m.\u001b[39mstart_client()\n\u001b[0;32m--> 288\u001b[0m \u001b[39mself\u001b[39;49m\u001b[39m.\u001b[39;49mstart_session(capabilities, browser_profile)\n",
      "File \u001b[0;32m~/nba-prediction/nba2/lib/python3.9/site-packages/selenium/webdriver/remote/webdriver.py:381\u001b[0m, in \u001b[0;36mWebDriver.start_session\u001b[0;34m(self, capabilities, browser_profile)\u001b[0m\n\u001b[1;32m    379\u001b[0m w3c_caps \u001b[39m=\u001b[39m _make_w3c_caps(capabilities)\n\u001b[1;32m    380\u001b[0m parameters \u001b[39m=\u001b[39m {\u001b[39m\"\u001b[39m\u001b[39mcapabilities\u001b[39m\u001b[39m\"\u001b[39m: w3c_caps}\n\u001b[0;32m--> 381\u001b[0m response \u001b[39m=\u001b[39m \u001b[39mself\u001b[39;49m\u001b[39m.\u001b[39;49mexecute(Command\u001b[39m.\u001b[39;49mNEW_SESSION, parameters)\n\u001b[1;32m    382\u001b[0m \u001b[39mif\u001b[39;00m \u001b[39m\"\u001b[39m\u001b[39msessionId\u001b[39m\u001b[39m\"\u001b[39m \u001b[39mnot\u001b[39;00m \u001b[39min\u001b[39;00m response:\n\u001b[1;32m    383\u001b[0m     response \u001b[39m=\u001b[39m response[\u001b[39m\"\u001b[39m\u001b[39mvalue\u001b[39m\u001b[39m\"\u001b[39m]\n",
      "File \u001b[0;32m~/nba-prediction/nba2/lib/python3.9/site-packages/selenium/webdriver/remote/webdriver.py:444\u001b[0m, in \u001b[0;36mWebDriver.execute\u001b[0;34m(self, driver_command, params)\u001b[0m\n\u001b[1;32m    442\u001b[0m response \u001b[39m=\u001b[39m \u001b[39mself\u001b[39m\u001b[39m.\u001b[39mcommand_executor\u001b[39m.\u001b[39mexecute(driver_command, params)\n\u001b[1;32m    443\u001b[0m \u001b[39mif\u001b[39;00m response:\n\u001b[0;32m--> 444\u001b[0m     \u001b[39mself\u001b[39;49m\u001b[39m.\u001b[39;49merror_handler\u001b[39m.\u001b[39;49mcheck_response(response)\n\u001b[1;32m    445\u001b[0m     response[\u001b[39m\"\u001b[39m\u001b[39mvalue\u001b[39m\u001b[39m\"\u001b[39m] \u001b[39m=\u001b[39m \u001b[39mself\u001b[39m\u001b[39m.\u001b[39m_unwrap_value(response\u001b[39m.\u001b[39mget(\u001b[39m\"\u001b[39m\u001b[39mvalue\u001b[39m\u001b[39m\"\u001b[39m, \u001b[39mNone\u001b[39;00m))\n\u001b[1;32m    446\u001b[0m     \u001b[39mreturn\u001b[39;00m response\n",
      "File \u001b[0;32m~/nba-prediction/nba2/lib/python3.9/site-packages/selenium/webdriver/remote/errorhandler.py:249\u001b[0m, in \u001b[0;36mErrorHandler.check_response\u001b[0;34m(self, response)\u001b[0m\n\u001b[1;32m    247\u001b[0m         alert_text \u001b[39m=\u001b[39m value[\u001b[39m\"\u001b[39m\u001b[39malert\u001b[39m\u001b[39m\"\u001b[39m]\u001b[39m.\u001b[39mget(\u001b[39m\"\u001b[39m\u001b[39mtext\u001b[39m\u001b[39m\"\u001b[39m)\n\u001b[1;32m    248\u001b[0m     \u001b[39mraise\u001b[39;00m exception_class(message, screen, stacktrace, alert_text)  \u001b[39m# type: ignore[call-arg]  # mypy is not smart enough here\u001b[39;00m\n\u001b[0;32m--> 249\u001b[0m \u001b[39mraise\u001b[39;00m exception_class(message, screen, stacktrace)\n",
      "\u001b[0;31mWebDriverException\u001b[0m: Message: unknown error: DevToolsActivePort file doesn't exist\nStacktrace:\n#0 0x558b4f2412a3 <unknown>\n#1 0x558b4effff77 <unknown>\n#2 0x558b4f02bfc4 <unknown>\n#3 0x558b4f027b0c <unknown>\n#4 0x558b4f0247d0 <unknown>\n#5 0x558b4f0650b7 <unknown>\n#6 0x558b4f064a5f <unknown>\n#7 0x558b4f05c903 <unknown>\n#8 0x558b4f02fece <unknown>\n#9 0x558b4f030fde <unknown>\n#10 0x558b4f29163e <unknown>\n#11 0x558b4f294b79 <unknown>\n#12 0x558b4f27789e <unknown>\n#13 0x558b4f295a83 <unknown>\n#14 0x558b4f26a505 <unknown>\n#15 0x558b4f2b6ca8 <unknown>\n#16 0x558b4f2b6e36 <unknown>\n#17 0x558b4f2d2333 <unknown>\n#18 0x7ff92707bb43 <unknown>\n"
     ]
    }
   ],
   "source": [
    "\n",
    "# set search strings for the last seven days \n",
    "DAYS = 7\n",
    "SEASON = \"\" #no season will cause website to default to current season, format is \"2022-23\"\n",
    "TODAY = datetime.now(timezone('EST')) #nba.com uses US Eastern Standard Time\n",
    "LASTWEEK = (TODAY - timedelta(days=DAYS))\n",
    "DATETO = TODAY.strftime(\"%m/%d/%y\")\n",
    "DATEFROM = LASTWEEK.strftime(\"%m/%d/%y\")\n",
    "\n",
    "# initate a webdriver in selenium \n",
    "# since website data is dynamically generated\n",
    "driver = activate_web_driver('chromium')\n",
    "\n",
    "df = scrape_to_dataframe(driver, Season=SEASON, DateFrom=DATEFROM, DateTo=DATETO)\n",
    "\n",
    "driver.close() \n",
    "\n",
    "df = convert_columns(df)\n",
    "df = combine_home_visitor(df)\n",
    "\n",
    "df"
   ]
  },
  {
   "cell_type": "markdown",
   "id": "835625fc-be47-4a8f-a532-02dc8e79363e",
   "metadata": {},
   "source": [
    "### Data Processing"
   ]
  },
  {
   "cell_type": "code",
   "execution_count": null,
   "id": "8577f0e2-39f7-4cef-9f8f-e687cb73f1bb",
   "metadata": {},
   "outputs": [],
   "source": [
    "df = process_games(df) \n",
    "df = add_TARGET(df)\n",
    "df"
   ]
  },
  {
   "cell_type": "markdown",
   "id": "7c47caf3-32ef-4414-86e7-3c82af991d45",
   "metadata": {},
   "source": [
    "### Feature Engineering"
   ]
  },
  {
   "cell_type": "code",
   "execution_count": null,
   "id": "6adb0d83-555c-42d7-9c55-a2f7b73a85ef",
   "metadata": {},
   "outputs": [],
   "source": [
    "# Feature engineering to add: \n",
    "    # rolling averages of key stats, \n",
    "    # win/lose streaks, \n",
    "    # home/away streaks, \n",
    "    # specific matchup (team X vs team Y) rolling averages and streaks\n",
    "\n",
    "df = process_features(df)\n",
    "df"
   ]
  },
  {
   "cell_type": "markdown",
   "id": "acfb1180-ea38-452c-9afd-73eea3ee7e17",
   "metadata": {},
   "source": [
    "### Add Data to Feature Store"
   ]
  },
  {
   "cell_type": "code",
   "execution_count": null,
   "id": "ba69a88c-691e-4f8d-b68e-e79f5582a939",
   "metadata": {},
   "outputs": [],
   "source": [
    "project = hopsworks.login(api_key_value=HOPSWORKS_API_KEY)\n",
    "fs = project.get_feature_store()"
   ]
  },
  {
   "cell_type": "code",
   "execution_count": null,
   "id": "641d97e5-0888-42c3-a9b1-97c9ef2b7082",
   "metadata": {},
   "outputs": [],
   "source": [
    "rolling_stats_fg = fs.get_feature_group(\n",
    "    name=\"rolling_stats\",\n",
    "    version=1,\n",
    ")\n",
    "rolling_stats_fg.insert(df, write_options={\"wait_for_job\" : False})"
   ]
  },
  {
   "cell_type": "code",
   "execution_count": null,
   "id": "d10ebbad-19a6-475f-a622-289d19f2f4b7",
   "metadata": {},
   "outputs": [],
   "source": [
    "def save_feature_names(df):\n",
    "    # hopsworks \"sanitizes\" feature names by converting to all lowercase\n",
    "    # this function saves the original so that they can be re-mapped later\n",
    "    # for code re-usuability\n",
    "    \n",
    "    feature_names = df.columns.tolist()\n",
    "    with open(\"feature_names.json\", \"w\") as fp:\n",
    "        json.dump(feature_names, fp)\n",
    "        \n",
    "    return \"File Saved.\"\n",
    "\n",
    "save_feature_names(df)\n"
   ]
  }
 ],
 "metadata": {
  "kernelspec": {
   "display_name": "Python 3.9.12 ('nba2': venv)",
   "language": "python",
   "name": "python3"
  },
  "language_info": {
   "codemirror_mode": {
    "name": "ipython",
    "version": 3
   },
   "file_extension": ".py",
   "mimetype": "text/x-python",
   "name": "python",
   "nbconvert_exporter": "python",
   "pygments_lexer": "ipython3",
   "version": "3.9.12"
  },
  "vscode": {
   "interpreter": {
    "hash": "cbf221a374bcb6c76cd375bc7b5314d269c80cb5f679a2ddd733f98b75c9a98d"
   }
  }
 },
 "nbformat": 4,
 "nbformat_minor": 5
}
