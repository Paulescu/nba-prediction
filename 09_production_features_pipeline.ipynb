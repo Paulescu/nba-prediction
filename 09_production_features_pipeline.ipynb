{
 "cells": [
  {
   "cell_type": "code",
   "execution_count": 1,
   "id": "fc9e3a17",
   "metadata": {},
   "outputs": [],
   "source": [
    "!pip install -U hopsworks"
   ]
  },
  {
   "cell_type": "code",
   "execution_count": 2,
   "id": "2f0c58a3-8738-42ad-be18-8e13c171108f",
   "metadata": {},
   "outputs": [],
   "source": [
    "import os\n",
    "\n",
    "import pandas as pd\n",
    "import numpy as np\n",
    "\n",
    "import hopsworks\n",
    "\n",
    "from datetime import datetime, timedelta\n",
    "from pytz import timezone\n",
    "\n",
    "from src.webscraping import (\n",
    "    activate_web_driver,\n",
    "    scrape_to_dataframe,\n",
    "    convert_columns,\n",
    "    combine_home_visitor,  \n",
    ")\n",
    "\n",
    "from src.data_processing import (\n",
    "    process_games,\n",
    "    add_TARGET,\n",
    ")\n",
    "\n",
    "from src.feature_engineering import (\n",
    "    fix_datatypes,\n",
    "    add_date_features,\n",
    "    remove_playoff_games,\n",
    "    add_rolling_home_visitor,\n",
    "    process_games_consecutively,\n",
    "    add_matchups,\n",
    "    add_past_performance_all,\n",
    "    combine_new_features,\n",
    "    process_x_minus_y,  \n",
    "    remove_non_rolling,\n",
    "    process_features,\n",
    ")\n",
    "\n",
    "import json\n",
    "\n",
    "\n",
    "\n",
    "from pathlib import Path  #for Windows/Linux compatibility\n",
    "DATAPATH = Path(r'data')"
   ]
  },
  {
   "cell_type": "code",
   "execution_count": 3,
   "id": "1124d9cf-8a24-4a04-bf68-c7dc7ff1d276",
   "metadata": {},
   "outputs": [],
   "source": [
    "try:\n",
    "    HOPSWORKS_API_KEY = os.environ['HOPSWORKS_API_KEY']\n",
    "except:\n",
    "    raise Exception('Set environment variable HOPSWORKS_API_KEY')"
   ]
  },
  {
   "cell_type": "code",
   "execution_count": null,
   "id": "a1591906-5dcd-47e4-b22c-454876927184",
   "metadata": {},
   "outputs": [],
   "source": []
  },
  {
   "cell_type": "markdown",
   "id": "2f29eac3-4b58-4a07-bdba-b4c72cb491ec",
   "metadata": {},
   "source": [
    "**Scrape Data and Format**"
   ]
  },
  {
   "cell_type": "code",
   "execution_count": 4,
   "id": "0e81e4bd-45fa-44f6-bbb3-7d1821c56963",
   "metadata": {},
   "outputs": [
    {
     "name": "stdout",
     "output_type": "stream",
     "text": [
      "2022-11-26 17:11:55,692 INFO: ====== WebDriver manager ======\n",
      "2022-11-26 17:11:55,997 INFO: Get LATEST chromedriver version for chromium None\n",
      "2022-11-26 17:11:56,450 INFO: Driver [C:\\Users\\Chris\\.wdm\\drivers\\chromedriver\\win32\\107.0.5304\\chromedriver.exe] found in cache\n"
     ]
    },
    {
     "name": "stderr",
     "output_type": "stream",
     "text": [
      "DeprecationWarning: HTTPResponse.getheader() is deprecated and will be removed in urllib3 v2.1.0. Instead use HTTResponse.headers.get(name, default).\n",
      "DeprecationWarning: HTTPResponse.getheader() is deprecated and will be removed in urllib3 v2.1.0. Instead use HTTResponse.headers.get(name, default).\n",
      "DeprecationWarning: HTTPResponse.getheader() is deprecated and will be removed in urllib3 v2.1.0. Instead use HTTResponse.headers.get(name, default).\n",
      "DeprecationWarning: HTTPResponse.getheader() is deprecated and will be removed in urllib3 v2.1.0. Instead use HTTResponse.headers.get(name, default).\n"
     ]
    }
   ],
   "source": [
    "\n",
    "# set search strings for the last seven days \n",
    "DAYS = 7\n",
    "SEASON = \"\" #no season will cause website to default to current season, format is \"2022-23\"\n",
    "TODAY = datetime.now(timezone('EST')) #nba.com uses US Eastern Standard Time\n",
    "LASTWEEK = (TODAY - timedelta(days=DAYS))\n",
    "DATETO = TODAY.strftime(\"%m/%d/%y\")\n",
    "DATEFROM = LASTWEEK.strftime(\"%m/%d/%y\")\n",
    "\n",
    "# initate a webdriver in selenium \n",
    "# since website data is dynamically generated\n",
    "driver = activate_web_driver()\n",
    "\n",
    "df = scrape_to_dataframe(driver, Season=SEASON, DateFrom=DATEFROM, DateTo=DATETO)\n",
    "\n",
    "driver.close() \n",
    "\n",
    "df = convert_columns(df)\n",
    "df = combine_home_visitor(df)\n"
   ]
  },
  {
   "cell_type": "markdown",
   "id": "835625fc-be47-4a8f-a532-02dc8e79363e",
   "metadata": {},
   "source": [
    "### Data Processing"
   ]
  },
  {
   "cell_type": "code",
   "execution_count": 5,
   "id": "8577f0e2-39f7-4cef-9f8f-e687cb73f1bb",
   "metadata": {},
   "outputs": [],
   "source": [
    "df = process_games(df) \n",
    "df = add_TARGET(df)"
   ]
  },
  {
   "cell_type": "markdown",
   "id": "7c47caf3-32ef-4414-86e7-3c82af991d45",
   "metadata": {},
   "source": [
    "### Feature Engineering"
   ]
  },
  {
   "cell_type": "code",
   "execution_count": 6,
   "id": "6adb0d83-555c-42d7-9c55-a2f7b73a85ef",
   "metadata": {},
   "outputs": [
    {
     "name": "stderr",
     "output_type": "stream",
     "text": [
      "SettingWithCopyWarning: \n",
      "A value is trying to be set on a copy of a slice from a DataFrame\n",
      "\n",
      "See the caveats in the documentation: https://pandas.pydata.org/pandas-docs/stable/user_guide/indexing.html#returning-a-view-versus-a-copy\n",
      "SettingWithCopyWarning: \n",
      "A value is trying to be set on a copy of a slice from a DataFrame\n",
      "\n",
      "See the caveats in the documentation: https://pandas.pydata.org/pandas-docs/stable/user_guide/indexing.html#returning-a-view-versus-a-copy\n",
      "SettingWithCopyWarning: \n",
      "A value is trying to be set on a copy of a slice from a DataFrame\n",
      "\n",
      "See the caveats in the documentation: https://pandas.pydata.org/pandas-docs/stable/user_guide/indexing.html#returning-a-view-versus-a-copy\n",
      "SettingWithCopyWarning: \n",
      "A value is trying to be set on a copy of a slice from a DataFrame\n",
      "\n",
      "See the caveats in the documentation: https://pandas.pydata.org/pandas-docs/stable/user_guide/indexing.html#returning-a-view-versus-a-copy\n",
      "SettingWithCopyWarning: \n",
      "A value is trying to be set on a copy of a slice from a DataFrame\n",
      "\n",
      "See the caveats in the documentation: https://pandas.pydata.org/pandas-docs/stable/user_guide/indexing.html#returning-a-view-versus-a-copy\n"
     ]
    }
   ],
   "source": [
    "# Feature engineering to add: \n",
    "    # rolling averages of key stats, \n",
    "    # win/lose streaks, \n",
    "    # home/away streaks, \n",
    "    # specific matchup (team X vs team Y) rolling averages and streaks\n",
    "\n",
    "df = process_features(df)\n"
   ]
  },
  {
   "cell_type": "markdown",
   "id": "acfb1180-ea38-452c-9afd-73eea3ee7e17",
   "metadata": {},
   "source": [
    "### Add Data to Feature Store"
   ]
  },
  {
   "cell_type": "code",
   "execution_count": 7,
   "id": "ba69a88c-691e-4f8d-b68e-e79f5582a939",
   "metadata": {},
   "outputs": [
    {
     "name": "stdout",
     "output_type": "stream",
     "text": [
      "Connected. Call `.close()` to terminate connection gracefully.\n",
      "\n",
      "Logged in to project, explore it here https://c.app.hopsworks.ai:443/p/3350\n",
      "Connected. Call `.close()` to terminate connection gracefully.\n"
     ]
    },
    {
     "name": "stderr",
     "output_type": "stream",
     "text": [
      "DeprecationWarning: the imp module is deprecated in favour of importlib; see the module's documentation for alternative uses\n"
     ]
    }
   ],
   "source": [
    "project = hopsworks.login(api_key_value=HOPSWORKS_API_KEY)\n",
    "fs = project.get_feature_store()"
   ]
  },
  {
   "cell_type": "code",
   "execution_count": 8,
   "id": "641d97e5-0888-42c3-a9b1-97c9ef2b7082",
   "metadata": {},
   "outputs": [
    {
     "name": "stderr",
     "output_type": "stream",
     "text": [
      "FeatureGroupWarning: The ingested dataframe contains upper case letters in feature names: `['GAME_DATE_EST', 'HOME_TEAM_ID', 'GAME_ID', 'VISITOR_TEAM_ID', 'SEASON', 'TARGET', 'MONTH', 'HOME_TEAM_WIN_STREAK', 'HOME_TEAM_WINS_AVG_LAST_3_HOME', 'HOME_TEAM_WINS_AVG_LAST_7_HOME', 'HOME_TEAM_WINS_AVG_LAST_10_HOME', 'HOME_PTS_home_AVG_LAST_3_HOME', 'HOME_PTS_home_AVG_LAST_7_HOME', 'HOME_PTS_home_AVG_LAST_10_HOME', 'HOME_FG_PCT_home_AVG_LAST_3_HOME', 'HOME_FG_PCT_home_AVG_LAST_7_HOME', 'HOME_FG_PCT_home_AVG_LAST_10_HOME', 'HOME_FT_PCT_home_AVG_LAST_3_HOME', 'HOME_FT_PCT_home_AVG_LAST_7_HOME', 'HOME_FT_PCT_home_AVG_LAST_10_HOME', 'HOME_FG3_PCT_home_AVG_LAST_3_HOME', 'HOME_FG3_PCT_home_AVG_LAST_7_HOME', 'HOME_FG3_PCT_home_AVG_LAST_10_HOME', 'HOME_AST_home_AVG_LAST_3_HOME', 'HOME_AST_home_AVG_LAST_7_HOME', 'HOME_AST_home_AVG_LAST_10_HOME', 'HOME_REB_home_AVG_LAST_3_HOME', 'HOME_REB_home_AVG_LAST_7_HOME', 'HOME_REB_home_AVG_LAST_10_HOME', 'HOME_PTS_home_AVG_LAST_3_HOME_MINUS_LEAGUE_AVG', 'HOME_PTS_home_AVG_LAST_7_HOME_MINUS_LEAGUE_AVG', 'HOME_PTS_home_AVG_LAST_10_HOME_MINUS_LEAGUE_AVG', 'HOME_FG_PCT_home_AVG_LAST_3_HOME_MINUS_LEAGUE_AVG', 'HOME_FG_PCT_home_AVG_LAST_7_HOME_MINUS_LEAGUE_AVG', 'HOME_FG_PCT_home_AVG_LAST_10_HOME_MINUS_LEAGUE_AVG', 'HOME_FT_PCT_home_AVG_LAST_3_HOME_MINUS_LEAGUE_AVG', 'HOME_FT_PCT_home_AVG_LAST_7_HOME_MINUS_LEAGUE_AVG', 'HOME_FT_PCT_home_AVG_LAST_10_HOME_MINUS_LEAGUE_AVG', 'HOME_FG3_PCT_home_AVG_LAST_3_HOME_MINUS_LEAGUE_AVG', 'HOME_FG3_PCT_home_AVG_LAST_7_HOME_MINUS_LEAGUE_AVG', 'HOME_FG3_PCT_home_AVG_LAST_10_HOME_MINUS_LEAGUE_AVG', 'HOME_AST_home_AVG_LAST_3_HOME_MINUS_LEAGUE_AVG', 'HOME_AST_home_AVG_LAST_7_HOME_MINUS_LEAGUE_AVG', 'HOME_AST_home_AVG_LAST_10_HOME_MINUS_LEAGUE_AVG', 'HOME_REB_home_AVG_LAST_3_HOME_MINUS_LEAGUE_AVG', 'HOME_REB_home_AVG_LAST_7_HOME_MINUS_LEAGUE_AVG', 'HOME_REB_home_AVG_LAST_10_HOME_MINUS_LEAGUE_AVG', 'VISITOR_TEAM_WIN_STREAK', 'VISITOR_TEAM_WINS_AVG_LAST_3_VISITOR', 'VISITOR_TEAM_WINS_AVG_LAST_7_VISITOR', 'VISITOR_TEAM_WINS_AVG_LAST_10_VISITOR', 'VISITOR_PTS_away_AVG_LAST_3_VISITOR', 'VISITOR_PTS_away_AVG_LAST_7_VISITOR', 'VISITOR_PTS_away_AVG_LAST_10_VISITOR', 'VISITOR_FG_PCT_away_AVG_LAST_3_VISITOR', 'VISITOR_FG_PCT_away_AVG_LAST_7_VISITOR', 'VISITOR_FG_PCT_away_AVG_LAST_10_VISITOR', 'VISITOR_FT_PCT_away_AVG_LAST_3_VISITOR', 'VISITOR_FT_PCT_away_AVG_LAST_7_VISITOR', 'VISITOR_FT_PCT_away_AVG_LAST_10_VISITOR', 'VISITOR_FG3_PCT_away_AVG_LAST_3_VISITOR', 'VISITOR_FG3_PCT_away_AVG_LAST_7_VISITOR', 'VISITOR_FG3_PCT_away_AVG_LAST_10_VISITOR', 'VISITOR_AST_away_AVG_LAST_3_VISITOR', 'VISITOR_AST_away_AVG_LAST_7_VISITOR', 'VISITOR_AST_away_AVG_LAST_10_VISITOR', 'VISITOR_REB_away_AVG_LAST_3_VISITOR', 'VISITOR_REB_away_AVG_LAST_7_VISITOR', 'VISITOR_REB_away_AVG_LAST_10_VISITOR', 'VISITOR_TEAM_WINS_AVG_LAST_3_VISITOR_MINUS_LEAGUE_AVG', 'VISITOR_TEAM_WINS_AVG_LAST_7_VISITOR_MINUS_LEAGUE_AVG', 'VISITOR_TEAM_WINS_AVG_LAST_10_VISITOR_MINUS_LEAGUE_AVG', 'VISITOR_PTS_away_AVG_LAST_3_VISITOR_MINUS_LEAGUE_AVG', 'VISITOR_PTS_away_AVG_LAST_7_VISITOR_MINUS_LEAGUE_AVG', 'VISITOR_PTS_away_AVG_LAST_10_VISITOR_MINUS_LEAGUE_AVG', 'VISITOR_FG_PCT_away_AVG_LAST_3_VISITOR_MINUS_LEAGUE_AVG', 'VISITOR_FG_PCT_away_AVG_LAST_7_VISITOR_MINUS_LEAGUE_AVG', 'VISITOR_FG_PCT_away_AVG_LAST_10_VISITOR_MINUS_LEAGUE_AVG', 'VISITOR_FT_PCT_away_AVG_LAST_3_VISITOR_MINUS_LEAGUE_AVG', 'VISITOR_FT_PCT_away_AVG_LAST_7_VISITOR_MINUS_LEAGUE_AVG', 'VISITOR_FT_PCT_away_AVG_LAST_10_VISITOR_MINUS_LEAGUE_AVG', 'VISITOR_FG3_PCT_away_AVG_LAST_3_VISITOR_MINUS_LEAGUE_AVG', 'VISITOR_FG3_PCT_away_AVG_LAST_7_VISITOR_MINUS_LEAGUE_AVG', 'VISITOR_FG3_PCT_away_AVG_LAST_10_VISITOR_MINUS_LEAGUE_AVG', 'VISITOR_AST_away_AVG_LAST_3_VISITOR_MINUS_LEAGUE_AVG', 'VISITOR_AST_away_AVG_LAST_7_VISITOR_MINUS_LEAGUE_AVG', 'VISITOR_AST_away_AVG_LAST_10_VISITOR_MINUS_LEAGUE_AVG', 'VISITOR_REB_away_AVG_LAST_3_VISITOR_MINUS_LEAGUE_AVG', 'VISITOR_REB_away_AVG_LAST_7_VISITOR_MINUS_LEAGUE_AVG', 'VISITOR_REB_away_AVG_LAST_10_VISITOR_MINUS_LEAGUE_AVG', 'MATCHUP_WINPCT_3_x', 'MATCHUP_WINPCT_7_x', 'MATCHUP_WINPCT_10_x', 'MATCHUP_WIN_STREAK_x', 'WIN_STREAK_x', 'HOME_AWAY_STREAK_x', 'TEAM1_win_AVG_LAST_3_ALL_x', 'TEAM1_win_AVG_LAST_7_ALL_x', 'TEAM1_win_AVG_LAST_10_ALL_x', 'TEAM1_win_AVG_LAST_15_ALL_x', 'PTS_AVG_LAST_3_ALL_x', 'PTS_AVG_LAST_7_ALL_x', 'PTS_AVG_LAST_10_ALL_x', 'PTS_AVG_LAST_15_ALL_x', 'FG_PCT_AVG_LAST_3_ALL_x', 'FG_PCT_AVG_LAST_7_ALL_x', 'FG_PCT_AVG_LAST_10_ALL_x', 'FG_PCT_AVG_LAST_15_ALL_x', 'FT_PCT_AVG_LAST_3_ALL_x', 'FT_PCT_AVG_LAST_7_ALL_x', 'FT_PCT_AVG_LAST_10_ALL_x', 'FT_PCT_AVG_LAST_15_ALL_x', 'FG3_PCT_AVG_LAST_3_ALL_x', 'FG3_PCT_AVG_LAST_7_ALL_x', 'FG3_PCT_AVG_LAST_10_ALL_x', 'FG3_PCT_AVG_LAST_15_ALL_x', 'AST_AVG_LAST_3_ALL_x', 'AST_AVG_LAST_7_ALL_x', 'AST_AVG_LAST_10_ALL_x', 'AST_AVG_LAST_15_ALL_x', 'REB_AVG_LAST_3_ALL_x', 'REB_AVG_LAST_7_ALL_x', 'REB_AVG_LAST_10_ALL_x', 'REB_AVG_LAST_15_ALL_x', 'PTS_AVG_LAST_3_ALL_MINUS_LEAGUE_AVG_x', 'PTS_AVG_LAST_7_ALL_MINUS_LEAGUE_AVG_x', 'PTS_AVG_LAST_10_ALL_MINUS_LEAGUE_AVG_x', 'PTS_AVG_LAST_15_ALL_MINUS_LEAGUE_AVG_x', 'FG_PCT_AVG_LAST_3_ALL_MINUS_LEAGUE_AVG_x', 'FG_PCT_AVG_LAST_7_ALL_MINUS_LEAGUE_AVG_x', 'FG_PCT_AVG_LAST_10_ALL_MINUS_LEAGUE_AVG_x', 'FG_PCT_AVG_LAST_15_ALL_MINUS_LEAGUE_AVG_x', 'FT_PCT_AVG_LAST_3_ALL_MINUS_LEAGUE_AVG_x', 'FT_PCT_AVG_LAST_7_ALL_MINUS_LEAGUE_AVG_x', 'FT_PCT_AVG_LAST_10_ALL_MINUS_LEAGUE_AVG_x', 'FT_PCT_AVG_LAST_15_ALL_MINUS_LEAGUE_AVG_x', 'FG3_PCT_AVG_LAST_3_ALL_MINUS_LEAGUE_AVG_x', 'FG3_PCT_AVG_LAST_7_ALL_MINUS_LEAGUE_AVG_x', 'FG3_PCT_AVG_LAST_10_ALL_MINUS_LEAGUE_AVG_x', 'FG3_PCT_AVG_LAST_15_ALL_MINUS_LEAGUE_AVG_x', 'AST_AVG_LAST_3_ALL_MINUS_LEAGUE_AVG_x', 'AST_AVG_LAST_7_ALL_MINUS_LEAGUE_AVG_x', 'AST_AVG_LAST_10_ALL_MINUS_LEAGUE_AVG_x', 'AST_AVG_LAST_15_ALL_MINUS_LEAGUE_AVG_x', 'REB_AVG_LAST_3_ALL_MINUS_LEAGUE_AVG_x', 'REB_AVG_LAST_7_ALL_MINUS_LEAGUE_AVG_x', 'REB_AVG_LAST_10_ALL_MINUS_LEAGUE_AVG_x', 'REB_AVG_LAST_15_ALL_MINUS_LEAGUE_AVG_x', 'WIN_STREAK_y', 'HOME_AWAY_STREAK_y', 'TEAM1_win_AVG_LAST_3_ALL_y', 'TEAM1_win_AVG_LAST_7_ALL_y', 'TEAM1_win_AVG_LAST_10_ALL_y', 'TEAM1_win_AVG_LAST_15_ALL_y', 'PTS_AVG_LAST_3_ALL_y', 'PTS_AVG_LAST_7_ALL_y', 'PTS_AVG_LAST_10_ALL_y', 'PTS_AVG_LAST_15_ALL_y', 'FG_PCT_AVG_LAST_3_ALL_y', 'FG_PCT_AVG_LAST_7_ALL_y', 'FG_PCT_AVG_LAST_10_ALL_y', 'FG_PCT_AVG_LAST_15_ALL_y', 'FT_PCT_AVG_LAST_3_ALL_y', 'FT_PCT_AVG_LAST_7_ALL_y', 'FT_PCT_AVG_LAST_10_ALL_y', 'FT_PCT_AVG_LAST_15_ALL_y', 'FG3_PCT_AVG_LAST_3_ALL_y', 'FG3_PCT_AVG_LAST_7_ALL_y', 'FG3_PCT_AVG_LAST_10_ALL_y', 'FG3_PCT_AVG_LAST_15_ALL_y', 'AST_AVG_LAST_3_ALL_y', 'AST_AVG_LAST_7_ALL_y', 'AST_AVG_LAST_10_ALL_y', 'AST_AVG_LAST_15_ALL_y', 'REB_AVG_LAST_3_ALL_y', 'REB_AVG_LAST_7_ALL_y', 'REB_AVG_LAST_10_ALL_y', 'REB_AVG_LAST_15_ALL_y', 'PTS_AVG_LAST_3_ALL_MINUS_LEAGUE_AVG_y', 'PTS_AVG_LAST_7_ALL_MINUS_LEAGUE_AVG_y', 'PTS_AVG_LAST_10_ALL_MINUS_LEAGUE_AVG_y', 'PTS_AVG_LAST_15_ALL_MINUS_LEAGUE_AVG_y', 'FG_PCT_AVG_LAST_3_ALL_MINUS_LEAGUE_AVG_y', 'FG_PCT_AVG_LAST_7_ALL_MINUS_LEAGUE_AVG_y', 'FG_PCT_AVG_LAST_10_ALL_MINUS_LEAGUE_AVG_y', 'FG_PCT_AVG_LAST_15_ALL_MINUS_LEAGUE_AVG_y', 'FT_PCT_AVG_LAST_3_ALL_MINUS_LEAGUE_AVG_y', 'FT_PCT_AVG_LAST_7_ALL_MINUS_LEAGUE_AVG_y', 'FT_PCT_AVG_LAST_10_ALL_MINUS_LEAGUE_AVG_y', 'FT_PCT_AVG_LAST_15_ALL_MINUS_LEAGUE_AVG_y', 'FG3_PCT_AVG_LAST_3_ALL_MINUS_LEAGUE_AVG_y', 'FG3_PCT_AVG_LAST_7_ALL_MINUS_LEAGUE_AVG_y', 'FG3_PCT_AVG_LAST_10_ALL_MINUS_LEAGUE_AVG_y', 'FG3_PCT_AVG_LAST_15_ALL_MINUS_LEAGUE_AVG_y', 'AST_AVG_LAST_3_ALL_MINUS_LEAGUE_AVG_y', 'AST_AVG_LAST_7_ALL_MINUS_LEAGUE_AVG_y', 'AST_AVG_LAST_10_ALL_MINUS_LEAGUE_AVG_y', 'AST_AVG_LAST_15_ALL_MINUS_LEAGUE_AVG_y', 'REB_AVG_LAST_3_ALL_MINUS_LEAGUE_AVG_y', 'REB_AVG_LAST_7_ALL_MINUS_LEAGUE_AVG_y', 'REB_AVG_LAST_10_ALL_MINUS_LEAGUE_AVG_y', 'REB_AVG_LAST_15_ALL_MINUS_LEAGUE_AVG_y', 'WIN_STREAK_x_minus_y', 'HOME_AWAY_STREAK_x_minus_y', 'TEAM1_win_AVG_LAST_3_ALL_x_minus_y', 'TEAM1_win_AVG_LAST_7_ALL_x_minus_y', 'TEAM1_win_AVG_LAST_10_ALL_x_minus_y', 'TEAM1_win_AVG_LAST_15_ALL_x_minus_y', 'PTS_AVG_LAST_3_ALL_x_minus_y', 'PTS_AVG_LAST_7_ALL_x_minus_y', 'PTS_AVG_LAST_10_ALL_x_minus_y', 'PTS_AVG_LAST_15_ALL_x_minus_y', 'FG_PCT_AVG_LAST_3_ALL_x_minus_y', 'FG_PCT_AVG_LAST_7_ALL_x_minus_y', 'FG_PCT_AVG_LAST_10_ALL_x_minus_y', 'FG_PCT_AVG_LAST_15_ALL_x_minus_y', 'FT_PCT_AVG_LAST_3_ALL_x_minus_y', 'FT_PCT_AVG_LAST_7_ALL_x_minus_y', 'FT_PCT_AVG_LAST_10_ALL_x_minus_y', 'FT_PCT_AVG_LAST_15_ALL_x_minus_y', 'FG3_PCT_AVG_LAST_3_ALL_x_minus_y', 'FG3_PCT_AVG_LAST_7_ALL_x_minus_y', 'FG3_PCT_AVG_LAST_10_ALL_x_minus_y', 'FG3_PCT_AVG_LAST_15_ALL_x_minus_y', 'AST_AVG_LAST_3_ALL_x_minus_y', 'AST_AVG_LAST_7_ALL_x_minus_y', 'AST_AVG_LAST_10_ALL_x_minus_y', 'AST_AVG_LAST_15_ALL_x_minus_y', 'REB_AVG_LAST_3_ALL_x_minus_y', 'REB_AVG_LAST_7_ALL_x_minus_y', 'REB_AVG_LAST_10_ALL_x_minus_y', 'REB_AVG_LAST_15_ALL_x_minus_y']`. Feature names are sanitized to lower case in the feature store.\n"
     ]
    },
    {
     "data": {
      "application/json": {
       "ascii": false,
       "bar_format": "{desc}: {percentage:.2f}% |{bar}| Rows {n_fmt}/{total_fmt} | Elapsed Time: {elapsed} | Remaining Time: {remaining}",
       "colour": null,
       "elapsed": 0.016999244689941406,
       "initial": 0,
       "n": 0,
       "ncols": null,
       "nrows": 29,
       "postfix": null,
       "prefix": "Uploading Dataframe",
       "rate": null,
       "total": 51,
       "unit": "it",
       "unit_divisor": 1000,
       "unit_scale": false
      },
      "application/vnd.jupyter.widget-view+json": {
       "model_id": "db8560d0fc19405aa01815b58d30b2f5",
       "version_major": 2,
       "version_minor": 0
      },
      "text/plain": [
       "Uploading Dataframe: 0.00% |          | Rows 0/51 | Elapsed Time: 00:00 | Remaining Time: ?"
      ]
     },
     "metadata": {},
     "output_type": "display_data"
    },
    {
     "name": "stdout",
     "output_type": "stream",
     "text": [
      "Launching offline feature group backfill job...\n",
      "Backfill Job started successfully, you can follow the progress at \n",
      "https://c.app.hopsworks.ai/p/3350/jobs/named/rolling_stats_1_offline_fg_backfill/executions\n"
     ]
    },
    {
     "data": {
      "text/plain": [
       "(<hsfs.core.job.Job at 0x2b77fb8f6d0>, None)"
      ]
     },
     "execution_count": 8,
     "metadata": {},
     "output_type": "execute_result"
    }
   ],
   "source": [
    "rolling_stats_fg = fs.get_feature_group(\n",
    "    name=\"rolling_stats\",\n",
    "    version=1,\n",
    ")\n",
    "rolling_stats_fg.insert(df, write_options={\"wait_for_job\" : False})"
   ]
  },
  {
   "cell_type": "code",
   "execution_count": 9,
   "id": "d10ebbad-19a6-475f-a622-289d19f2f4b7",
   "metadata": {},
   "outputs": [
    {
     "data": {
      "text/plain": [
       "'File Saved.'"
      ]
     },
     "execution_count": 9,
     "metadata": {},
     "output_type": "execute_result"
    }
   ],
   "source": [
    "def save_feature_names(df):\n",
    "    # hopsworks \"sanitizes\" feature names by converting to all lowercase\n",
    "    # this function saves the original so that they can be re-mapped later\n",
    "    # for code re-usuability\n",
    "    \n",
    "    feature_names = df.columns.tolist()\n",
    "    with open(\"feature_names.json\", \"w\") as fp:\n",
    "        json.dump(feature_names, fp)\n",
    "        \n",
    "    return \"File Saved.\"\n",
    "\n",
    "save_feature_names(df)\n"
   ]
  },
  {
   "cell_type": "code",
   "execution_count": null,
   "id": "5f02da99-60b3-4c45-bb01-aabb2eea9566",
   "metadata": {},
   "outputs": [],
   "source": []
  }
 ],
 "metadata": {
  "kernelspec": {
   "display_name": "Python 3 (ipykernel)",
   "language": "python",
   "name": "python3"
  },
  "language_info": {
   "codemirror_mode": {
    "name": "ipython",
    "version": 3
   },
   "file_extension": ".py",
   "mimetype": "text/x-python",
   "name": "python",
   "nbconvert_exporter": "python",
   "pygments_lexer": "ipython3",
   "version": "3.9.7"
  }
 },
 "nbformat": 4,
 "nbformat_minor": 5
}
