{
 "cells": [
  {
   "cell_type": "code",
   "execution_count": 1,
   "id": "2f0c58a3-8738-42ad-be18-8e13c171108f",
   "metadata": {},
   "outputs": [],
   "source": [
    "import os\n",
    "\n",
    "import pandas as pd\n",
    "import numpy as np\n",
    "\n",
    "import hopsworks\n",
    "\n",
    "from datetime import datetime, timedelta\n",
    "from pytz import timezone\n",
    "\n",
    "from src.webscraping import (\n",
    "    activate_web_driver,\n",
    "    scrape_to_dataframe,\n",
    "    convert_columns,\n",
    "    combine_home_visitor,  \n",
    "    get_todays_matchups,\n",
    ")\n",
    "\n",
    "from src.data_processing import (\n",
    "    process_games,\n",
    "    add_TARGET,\n",
    ")\n",
    "\n",
    "from src.feature_engineering import (\n",
    "    process_features,\n",
    ")\n",
    "\n",
    "from src.hopsworks_utils import (\n",
    "    save_feature_names,\n",
    "    convert_feature_names,\n",
    ")\n",
    "\n",
    "import json\n",
    "\n",
    "from pathlib import Path  #for Windows/Linux compatibility\n",
    "DATAPATH = Path(r'data')"
   ]
  },
  {
   "cell_type": "markdown",
   "id": "e754aaa7",
   "metadata": {},
   "source": [
    "**Load API keys**"
   ]
  },
  {
   "cell_type": "code",
   "execution_count": 2,
   "id": "1124d9cf-8a24-4a04-bf68-c7dc7ff1d276",
   "metadata": {},
   "outputs": [],
   "source": [
    "from dotenv import load_dotenv\n",
    "\n",
    "load_dotenv()\n",
    "\n",
    "try:\n",
    "    HOPSWORKS_API_KEY = os.environ['HOPSWORKS_API_KEY']\n",
    "except:\n",
    "    raise Exception('Set environment variable HOPSWORKS_API_KEY')"
   ]
  },
  {
   "attachments": {},
   "cell_type": "markdown",
   "id": "ad69f00b",
   "metadata": {},
   "source": [
    "**Activate Webdriver**"
   ]
  },
  {
   "cell_type": "code",
   "execution_count": 3,
   "id": "184930c3",
   "metadata": {},
   "outputs": [
    {
     "name": "stdout",
     "output_type": "stream",
     "text": [
      "2023-01-01 10:37:35,566 INFO: ====== WebDriver manager ======\n",
      "2023-01-01 10:37:35,864 INFO: Get LATEST geckodriver version for 108.0 firefox\n"
     ]
    },
    {
     "name": "stderr",
     "output_type": "stream",
     "text": [
      "[WDM] - Downloading: 19.0kB [00:00, 9.73MB/s]                   \n"
     ]
    },
    {
     "name": "stdout",
     "output_type": "stream",
     "text": [
      "2023-01-01 10:37:36,430 INFO: Driver [C:\\Users\\Chris\\.wdm\\drivers\\geckodriver\\win64\\0.32\\geckodriver.exe] found in cache\n"
     ]
    },
    {
     "name": "stderr",
     "output_type": "stream",
     "text": [
      "DeprecationWarning: HTTPResponse.getheader() is deprecated and will be removed in urllib3 v2.1.0. Instead use HTTResponse.headers.get(name, default).\n",
      "DeprecationWarning: HTTPResponse.getheader() is deprecated and will be removed in urllib3 v2.1.0. Instead use HTTResponse.headers.get(name, default).\n"
     ]
    }
   ],
   "source": [
    "# initiate a webdriver in selenium \n",
    "# since website data is dynamically generated\n",
    "\n",
    "driver = activate_web_driver('firefox')"
   ]
  },
  {
   "attachments": {},
   "cell_type": "markdown",
   "id": "2f29eac3-4b58-4a07-bdba-b4c72cb491ec",
   "metadata": {},
   "source": [
    "**Scrape New Completed Games and Format Them**"
   ]
  },
  {
   "cell_type": "code",
   "execution_count": 4,
   "id": "0e81e4bd-45fa-44f6-bbb3-7d1821c56963",
   "metadata": {},
   "outputs": [],
   "source": [
    "\n",
    "def get_new_games(driver)-> pd.DataFrame:\n",
    "\n",
    "    # set search for yesterday's games\n",
    "    DAYS = 1\n",
    "    SEASON = \"\" #no season will cause website to default to current season, format is \"2022-23\"\n",
    "    TODAY = datetime.now(timezone('EST')) #nba.com uses US Eastern Standard Time\n",
    "    LASTWEEK = (TODAY - timedelta(days=DAYS))\n",
    "    DATETO = TODAY.strftime(\"%m/%d/%y\")\n",
    "    DATEFROM = LASTWEEK.strftime(\"%m/%d/%y\")\n",
    "\n",
    "\n",
    "    df = scrape_to_dataframe(driver, Season=SEASON, DateFrom=DATEFROM, DateTo=DATETO)\n",
    "\n",
    "    df = convert_columns(df)\n",
    "\n",
    "    print(df.info())\n",
    "    df = combine_home_visitor(df)\n",
    "\n",
    "    return df\n",
    "\n",
    "#df_new = get_new_games(driver)\n",
    "\n",
    "# get the SEASON of the last game in the database\n",
    "# this will used when constructing rows for prediction\n",
    "#SEASON = df_new['SEASON'].max()\n",
    "\n",
    "#df_new\n",
    "\n",
    "\n"
   ]
  },
  {
   "attachments": {},
   "cell_type": "markdown",
   "id": "dfd78420",
   "metadata": {},
   "source": [
    "**Retrieve todays games**"
   ]
  },
  {
   "cell_type": "code",
   "execution_count": 5,
   "id": "45afa738",
   "metadata": {},
   "outputs": [
    {
     "name": "stdout",
     "output_type": "stream",
     "text": [
      "<div class=\"ScheduleDay_sdGames__NGdO5\"><div class=\"ScheduleGame_sg__RmD9I\"><div class=\"ScheduleGame_sgContent__lHCIC\"><div class=\"ScheduleGame_sgStatus__NqtTI\"><span class=\"ScheduleStatusText_base__Jgvjb\">8:00 pm ET</span><div class=\"Broadcasters_base__Wet1u ScheduleGame_sgBroadcasters__O2nwT Broadcasters_vertical__cOo2a\" tabindex=\"0\"><div class=\"Broadcasters_section__ISlyP\"><a data-content=\"SAC @ MEM\" data-content-id=\"0022200547\" data-content-type=\"packages\" data-id=\"nba:schedule:subscribe:undefined\" data-section=\"schedule:broadcasters\" data-text=\"LEAGUE PASS\" data-track=\"click\" data-type=\"logo\" href=\"https://www.nba.com/watch/league-pass-stream\"><img alt=\"LEAGUE PASS\" class=\"Broadcasters_icon__82MTV\" role=\"presentation\" src=\"https://cdn.nba.com/logos/nba/broadcast_logos/L/lp-hor.svg\" title=\"LEAGUE PASS\" width=\"100\"/></a></div><div class=\"Broadcasters_section__ISlyP\"><p class=\"Broadcasters_title__B1dGd\">LOCAL TV:</p><p><span class=\"Broadcasters_tv__AIeZb\" data-link-enabled=\"false\">Bally Sports SE-MEM</span><a class=\"Anchor_anchor__cSc3P Broadcasters_tv__AIeZb\" data-has-children=\"true\" data-has-more=\"false\" data-is-external=\"false\" data-link-enabled=\"true\" href=\"http://stream.nbcsports.com/rsn/nba-kings-live-stream\" rel=\"noopener noreferrer nofollow\" target=\"_blank\">NBCSCA</a></p></div><div class=\"Broadcasters_section__ISlyP\"><p class=\"Broadcasters_title__B1dGd\">RADIO</p><p><span class=\"Broadcasters_tv__AIeZb\">ESPN 92.9FM/680AM</span><span class=\"Broadcasters_tv__AIeZb\">Sactown Sports 1140 AM</span></p></div></div></div><div class=\"ScheduleGame_sgMatchup__SK1PV\"><div class=\"ScheduleGame_sgTeam__TEPZa\"><a class=\"Anchor_anchor__cSc3P Link_styled__okbXW\" data-content-id=\"1610612758\" data-has-children=\"true\" data-has-more=\"false\" data-id=\"nba:schedule:main:team:link\" data-is-external=\"false\" data-link-enabled=\"true\" data-text=\"Sacramento Kings\" data-track=\"click\" data-type=\"link\" href=\"/team/1610612758/kings/\">Sacramento Kings</a></div><div class=\"ScheduleGame_sgTeam__TEPZa\"><a class=\"Anchor_anchor__cSc3P Link_styled__okbXW\" data-content-id=\"1610612763\" data-has-children=\"true\" data-has-more=\"false\" data-id=\"nba:schedule:main:team:link\" data-is-external=\"false\" data-link-enabled=\"true\" data-text=\"Memphis Grizzlies\" data-track=\"click\" data-type=\"link\" href=\"/team/1610612763/grizzlies/\">Memphis Grizzlies</a></div></div></div><div class=\"ScheduleGame_sgLocation__9FrcS\"><div class=\"ScheduleGame_sgLocationInner__xxr0Z\"><div>FedExForum</div><div>Memphis,  TN</div></div><div class=\"ScheduleGame_sgOptions__lLzuQ\"><div class=\"ScheduleGame_tab__mVhtV\"><ul class=\"Tabs_tab__rnewb\" data-show-border=\"true\"><li class=\"TabLink_tab__uKOPj\"><a class=\"Anchor_anchor__cSc3P TabLink_link__f_15h\" data-content=\"SAC @ MEM, 2023-01-01\" data-content-id=\"0022200547\" data-has-children=\"true\" data-has-more=\"false\" data-id=\"nba:schedule:main:preview:cta\" data-is-external=\"false\" data-text=\"PREVIEW\" data-track=\"click\" data-type=\"cta\" href=\"/game/sac-vs-mem-0022200547\">PREVIEW</a></li><li class=\"TabLink_tab__uKOPj\" data-content=\"SAC @ MEM, 2023-01-01\" data-content-id=\"0022200547\" data-id=\"nba:schedule:main:tickets:cta\" data-text=\"TICKETS\" data-track=\"click\" data-type=\"cta\" rel=\"noopener\"><a class=\"Anchor_anchor__cSc3P TabLink_link__f_15h\" data-has-children=\"true\" data-has-more=\"false\" data-is-external=\"false\" href=\"https://a.data.nba.com/tickets/single/2022/0022200547/LEAG_GAMELINE\" rel=\"noopener noreferrer nofollow\" target=\"_blank\">TICKETS</a></li></ul></div><div class=\"ScheduleGame_gameOdds__xgiNL\"></div></div></div></div><div class=\"ScheduleGame_sg__RmD9I\"><div class=\"ScheduleGame_sgContent__lHCIC\"><div class=\"ScheduleGame_sgStatus__NqtTI\"><span class=\"ScheduleStatusText_base__Jgvjb\">8:00 pm ET</span><div class=\"Broadcasters_base__Wet1u ScheduleGame_sgBroadcasters__O2nwT Broadcasters_vertical__cOo2a\" tabindex=\"0\"><div class=\"Broadcasters_section__ISlyP\"><a data-content=\"WAS @ MIL\" data-content-id=\"0022200548\" data-content-type=\"packages\" data-id=\"nba:schedule:subscribe:undefined\" data-section=\"schedule:broadcasters\" data-text=\"LEAGUE PASS\" data-track=\"click\" data-type=\"logo\" href=\"https://www.nba.com/watch/league-pass-stream\"><img alt=\"LEAGUE PASS\" class=\"Broadcasters_icon__82MTV\" role=\"presentation\" src=\"https://cdn.nba.com/logos/nba/broadcast_logos/L/lp-hor.svg\" title=\"LEAGUE PASS\" width=\"100\"/></a></div><div class=\"Broadcasters_section__ISlyP\"><p class=\"Broadcasters_title__B1dGd\">LOCAL TV:</p><p><span class=\"Broadcasters_tv__AIeZb\" data-link-enabled=\"false\">Bally Sports WI</span><a class=\"Anchor_anchor__cSc3P Broadcasters_tv__AIeZb\" data-has-children=\"true\" data-has-more=\"false\" data-is-external=\"false\" data-link-enabled=\"true\" href=\"http://stream.nbcsports.com/rsn/nba-wizards-live-stream\" rel=\"noopener noreferrer nofollow\" target=\"_blank\">NBCSWA</a></p></div><div class=\"Broadcasters_section__ISlyP\"><p class=\"Broadcasters_title__B1dGd\">RADIO</p><p><span class=\"Broadcasters_tv__AIeZb\">620 AM/103.3 FM WTMJ</span><span class=\"Broadcasters_tv__AIeZb\">The Team 980</span></p></div></div></div><div class=\"ScheduleGame_sgMatchup__SK1PV\"><div class=\"ScheduleGame_sgTeam__TEPZa\"><a class=\"Anchor_anchor__cSc3P Link_styled__okbXW\" data-content-id=\"1610612764\" data-has-children=\"true\" data-has-more=\"false\" data-id=\"nba:schedule:main:team:link\" data-is-external=\"false\" data-link-enabled=\"true\" data-text=\"Washington Wizards\" data-track=\"click\" data-type=\"link\" href=\"/team/1610612764/wizards/\">Washington Wizards</a></div><div class=\"ScheduleGame_sgTeam__TEPZa\"><a class=\"Anchor_anchor__cSc3P Link_styled__okbXW\" data-content-id=\"1610612749\" data-has-children=\"true\" data-has-more=\"false\" data-id=\"nba:schedule:main:team:link\" data-is-external=\"false\" data-link-enabled=\"true\" data-text=\"Milwaukee Bucks\" data-track=\"click\" data-type=\"link\" href=\"/team/1610612749/bucks/\">Milwaukee Bucks</a></div></div></div><div class=\"ScheduleGame_sgLocation__9FrcS\"><div class=\"ScheduleGame_sgLocationInner__xxr0Z\"><div>Fiserv Forum</div><div>Milwaukee,  WI</div></div><div class=\"ScheduleGame_sgOptions__lLzuQ\"><div class=\"ScheduleGame_tab__mVhtV\"><ul class=\"Tabs_tab__rnewb\" data-show-border=\"true\"><li class=\"TabLink_tab__uKOPj\"><a class=\"Anchor_anchor__cSc3P TabLink_link__f_15h\" data-content=\"WAS @ MIL, 2023-01-01\" data-content-id=\"0022200548\" data-has-children=\"true\" data-has-more=\"false\" data-id=\"nba:schedule:main:preview:cta\" data-is-external=\"false\" data-text=\"PREVIEW\" data-track=\"click\" data-type=\"cta\" href=\"/game/was-vs-mil-0022200548\">PREVIEW</a></li><li class=\"TabLink_tab__uKOPj\" data-content=\"WAS @ MIL, 2023-01-01\" data-content-id=\"0022200548\" data-id=\"nba:schedule:main:tickets:cta\" data-text=\"TICKETS\" data-track=\"click\" data-type=\"cta\" rel=\"noopener\"><a class=\"Anchor_anchor__cSc3P TabLink_link__f_15h\" data-has-children=\"true\" data-has-more=\"false\" data-is-external=\"false\" href=\"https://a.data.nba.com/tickets/single/2022/0022200548/LEAG_GAMELINE\" rel=\"noopener noreferrer nofollow\" target=\"_blank\">TICKETS</a></li></ul></div><div class=\"ScheduleGame_gameOdds__xgiNL\"></div></div></div></div><div class=\"ScheduleGame_sg__RmD9I\"><div class=\"ScheduleGame_sgContent__lHCIC\"><div class=\"ScheduleGame_sgStatus__NqtTI\"><span class=\"ScheduleStatusText_base__Jgvjb\">8:00 pm ET</span><div class=\"Broadcasters_base__Wet1u ScheduleGame_sgBroadcasters__O2nwT Broadcasters_vertical__cOo2a\" tabindex=\"0\"><div class=\"Broadcasters_section__ISlyP\"><a data-content=\"BOS @ DEN\" data-content-id=\"0022200549\" data-content-type=\"packages\" data-id=\"nba:schedule:subscribe:undefined\" data-section=\"schedule:broadcasters\" data-text=\"LEAGUE PASS\" data-track=\"click\" data-type=\"logo\" href=\"https://www.nba.com/watch/league-pass-stream\"><img alt=\"LEAGUE PASS\" class=\"Broadcasters_icon__82MTV\" role=\"presentation\" src=\"https://cdn.nba.com/logos/nba/broadcast_logos/L/lp-hor.svg\" title=\"LEAGUE PASS\" width=\"100\"/></a></div><div class=\"Broadcasters_section__ISlyP\"><p class=\"Broadcasters_title__B1dGd\">LOCAL TV:</p><p><span class=\"Broadcasters_tv__AIeZb\" data-link-enabled=\"false\">Altitude</span><a class=\"Anchor_anchor__cSc3P Broadcasters_tv__AIeZb\" data-has-children=\"true\" data-has-more=\"false\" data-is-external=\"false\" data-link-enabled=\"true\" href=\"http://stream.nbcsports.com/rsn/nba-celtics-live-stream\" rel=\"noopener noreferrer nofollow\" target=\"_blank\">NBC Sports Boston</a></p></div><div class=\"Broadcasters_section__ISlyP\"><p class=\"Broadcasters_title__B1dGd\">RADIO</p><p><span class=\"Broadcasters_tv__AIeZb\">KKSE 92.5FM</span><span class=\"Broadcasters_tv__AIeZb\">98.5 The Sports Hub</span></p></div></div></div><div class=\"ScheduleGame_sgMatchup__SK1PV\"><div class=\"ScheduleGame_sgTeam__TEPZa\"><a class=\"Anchor_anchor__cSc3P Link_styled__okbXW\" data-content-id=\"1610612738\" data-has-children=\"true\" data-has-more=\"false\" data-id=\"nba:schedule:main:team:link\" data-is-external=\"false\" data-link-enabled=\"true\" data-text=\"Boston Celtics\" data-track=\"click\" data-type=\"link\" href=\"/team/1610612738/celtics/\">Boston Celtics</a></div><div class=\"ScheduleGame_sgTeam__TEPZa\"><a class=\"Anchor_anchor__cSc3P Link_styled__okbXW\" data-content-id=\"1610612743\" data-has-children=\"true\" data-has-more=\"false\" data-id=\"nba:schedule:main:team:link\" data-is-external=\"false\" data-link-enabled=\"true\" data-text=\"Denver Nuggets\" data-track=\"click\" data-type=\"link\" href=\"/team/1610612743/nuggets/\">Denver Nuggets</a></div></div></div><div class=\"ScheduleGame_sgLocation__9FrcS\"><div class=\"ScheduleGame_sgLocationInner__xxr0Z\"><div>Ball Arena</div><div>Denver,  CO</div></div><div class=\"ScheduleGame_sgOptions__lLzuQ\"><div class=\"ScheduleGame_tab__mVhtV\"><ul class=\"Tabs_tab__rnewb\" data-show-border=\"true\"><li class=\"TabLink_tab__uKOPj\"><a class=\"Anchor_anchor__cSc3P TabLink_link__f_15h\" data-content=\"BOS @ DEN, 2023-01-01\" data-content-id=\"0022200549\" data-has-children=\"true\" data-has-more=\"false\" data-id=\"nba:schedule:main:preview:cta\" data-is-external=\"false\" data-text=\"PREVIEW\" data-track=\"click\" data-type=\"cta\" href=\"/game/bos-vs-den-0022200549\">PREVIEW</a></li><li class=\"TabLink_tab__uKOPj\" data-content=\"BOS @ DEN, 2023-01-01\" data-content-id=\"0022200549\" data-id=\"nba:schedule:main:tickets:cta\" data-text=\"TICKETS\" data-track=\"click\" data-type=\"cta\" rel=\"noopener\"><a class=\"Anchor_anchor__cSc3P TabLink_link__f_15h\" data-has-children=\"true\" data-has-more=\"false\" data-is-external=\"false\" href=\"https://a.data.nba.com/tickets/single/2022/0022200549/LEAG_GAMELINE\" rel=\"noopener noreferrer nofollow\" target=\"_blank\">TICKETS</a></li></ul></div><div class=\"ScheduleGame_gameOdds__xgiNL\"></div></div></div></div></div>\n",
      "Links:\n",
      "[<a class=\"Anchor_anchor__cSc3P TabLink_link__f_15h\" data-content=\"SAC @ MEM, 2023-01-01\" data-content-id=\"0022200547\" data-has-children=\"true\" data-has-more=\"false\" data-id=\"nba:schedule:main:preview:cta\" data-is-external=\"false\" data-text=\"PREVIEW\" data-track=\"click\" data-type=\"cta\" href=\"/game/sac-vs-mem-0022200547\">PREVIEW</a>, <a class=\"Anchor_anchor__cSc3P TabLink_link__f_15h\" data-has-children=\"true\" data-has-more=\"false\" data-is-external=\"false\" href=\"https://a.data.nba.com/tickets/single/2022/0022200547/LEAG_GAMELINE\" rel=\"noopener noreferrer nofollow\" target=\"_blank\">TICKETS</a>, <a class=\"Anchor_anchor__cSc3P TabLink_link__f_15h\" data-content=\"WAS @ MIL, 2023-01-01\" data-content-id=\"0022200548\" data-has-children=\"true\" data-has-more=\"false\" data-id=\"nba:schedule:main:preview:cta\" data-is-external=\"false\" data-text=\"PREVIEW\" data-track=\"click\" data-type=\"cta\" href=\"/game/was-vs-mil-0022200548\">PREVIEW</a>, <a class=\"Anchor_anchor__cSc3P TabLink_link__f_15h\" data-has-children=\"true\" data-has-more=\"false\" data-is-external=\"false\" href=\"https://a.data.nba.com/tickets/single/2022/0022200548/LEAG_GAMELINE\" rel=\"noopener noreferrer nofollow\" target=\"_blank\">TICKETS</a>, <a class=\"Anchor_anchor__cSc3P TabLink_link__f_15h\" data-content=\"BOS @ DEN, 2023-01-01\" data-content-id=\"0022200549\" data-has-children=\"true\" data-has-more=\"false\" data-id=\"nba:schedule:main:preview:cta\" data-is-external=\"false\" data-text=\"PREVIEW\" data-track=\"click\" data-type=\"cta\" href=\"/game/bos-vs-den-0022200549\">PREVIEW</a>, <a class=\"Anchor_anchor__cSc3P TabLink_link__f_15h\" data-has-children=\"true\" data-has-more=\"false\" data-is-external=\"false\" href=\"https://a.data.nba.com/tickets/single/2022/0022200549/LEAG_GAMELINE\" rel=\"noopener noreferrer nofollow\" target=\"_blank\">TICKETS</a>]\n",
      "['/team/1610612758/kings/', '/team/1610612763/grizzlies/', '/team/1610612764/wizards/', '/team/1610612749/bucks/', '/team/1610612738/celtics/', '/team/1610612743/nuggets/']\n",
      "['/game/sac-vs-mem-0022200547', 'https://a.data.nba.com/tickets/single/2022/0022200547/LEAG_GAMELINE', '/game/was-vs-mil-0022200548', 'https://a.data.nba.com/tickets/single/2022/0022200548/LEAG_GAMELINE', '/game/bos-vs-den-0022200549', 'https://a.data.nba.com/tickets/single/2022/0022200549/LEAG_GAMELINE']\n"
     ]
    },
    {
     "data": {
      "text/plain": [
       "['22200547', '22200548', '22200549']"
      ]
     },
     "execution_count": 5,
     "metadata": {},
     "output_type": "execute_result"
    }
   ],
   "source": [
    "#retrieve list of teams playing today\n",
    "\n",
    "# get today's games on NBA schedule\n",
    "teams_list, game_id_list = get_todays_matchups(driver)\n",
    "\n",
    "# example output:\n",
    "# ['/team/1610612759/spurs/', '/team/1610612748/heat/',...\n",
    "\n",
    "print(teams_list)\n",
    "print(game_id_list)\n",
    "\n",
    "# create list of matchups by parsing out team ids from teams_list\n",
    "# second team id is always the home team\n",
    "team_count = len(teams_list) \n",
    "matchups = []\n",
    "for i in range(0,team_count,2):\n",
    "    visitor_id = teams_list[i].partition(\"team/\")[2].partition(\"/\")[0] #extract team id from text\n",
    "    home_id = teams_list[i+1].partition(\"team/\")[2].partition(\"/\")[0]\n",
    "    matchups.append([visitor_id, home_id])\n",
    "\n",
    "# create list of game IDs by parsing out from game_id_list\n",
    "games = []\n",
    "for game in game_id_list:\n",
    "    game_id = game.partition(\"-00\")[2] #extract team id from text\n",
    "    if len(game_id) > 0:   #some games have no game id\n",
    "        games.append(game_id)   \n",
    "\n",
    "games"
   ]
  },
  {
   "attachments": {},
   "cell_type": "markdown",
   "id": "3aef12e5",
   "metadata": {},
   "source": [
    "**Close Webdriver**"
   ]
  },
  {
   "cell_type": "code",
   "execution_count": 6,
   "id": "5766c712",
   "metadata": {},
   "outputs": [],
   "source": [
    "driver.close() "
   ]
  },
  {
   "attachments": {},
   "cell_type": "markdown",
   "id": "a43729ef",
   "metadata": {},
   "source": [
    "**Create Blank Rows**"
   ]
  },
  {
   "cell_type": "code",
   "execution_count": 7,
   "id": "dc4f3393",
   "metadata": {},
   "outputs": [
    {
     "ename": "NameError",
     "evalue": "name 'df_new' is not defined",
     "output_type": "error",
     "traceback": [
      "\u001b[1;31m---------------------------------------------------------------------------\u001b[0m",
      "\u001b[1;31mNameError\u001b[0m                                 Traceback (most recent call last)",
      "Cell \u001b[1;32mIn[7], line 10\u001b[0m\n\u001b[0;32m      1\u001b[0m \u001b[39m# append today's matchups to the new games dataframe\u001b[39;00m\n\u001b[0;32m      2\u001b[0m \n\u001b[0;32m      3\u001b[0m \u001b[39m# since we don't have access to official game ids, we will use the format 20MMDD00 + index as a game id\u001b[39;00m\n\u001b[0;32m      4\u001b[0m \u001b[39m# This format is used to insure that feature engineering will treat this as a regular season game\u001b[39;00m\n\u001b[0;32m      5\u001b[0m \u001b[39m# and to be able to find these incomplete games in the database\u001b[39;00m\n\u001b[0;32m      6\u001b[0m \u001b[39m# this data will be updated later after the game is played\u001b[39;00m\n\u001b[0;32m      8\u001b[0m DUMMY_GAME_ID \u001b[39m=\u001b[39m \u001b[39mint\u001b[39m(\u001b[39m\"\u001b[39m\u001b[39m20\u001b[39m\u001b[39m\"\u001b[39m \u001b[39m+\u001b[39m datetime\u001b[39m.\u001b[39mnow(timezone(\u001b[39m'\u001b[39m\u001b[39mEST\u001b[39m\u001b[39m'\u001b[39m))\u001b[39m.\u001b[39mstrftime(\u001b[39m\"\u001b[39m\u001b[39m%\u001b[39m\u001b[39mm\u001b[39m\u001b[39m%d\u001b[39;00m\u001b[39m\"\u001b[39m) \u001b[39m+\u001b[39m \u001b[39m\"\u001b[39m\u001b[39m00\u001b[39m\u001b[39m\"\u001b[39m)\n\u001b[1;32m---> 10\u001b[0m df_today \u001b[39m=\u001b[39m df_new\u001b[39m.\u001b[39mdrop(df_new\u001b[39m.\u001b[39mindex) \u001b[39m#empty copy of df_new with same columns\u001b[39;00m\n\u001b[0;32m     11\u001b[0m \u001b[39mfor\u001b[39;00m i, matchup \u001b[39min\u001b[39;00m \u001b[39menumerate\u001b[39m(matchups):\n\u001b[0;32m     12\u001b[0m     game_details \u001b[39m=\u001b[39m {\u001b[39m'\u001b[39m\u001b[39mHOME_TEAM_ID\u001b[39m\u001b[39m'\u001b[39m: matchup[\u001b[39m1\u001b[39m], \n\u001b[0;32m     13\u001b[0m                     \u001b[39m'\u001b[39m\u001b[39mVISITOR_TEAM_ID\u001b[39m\u001b[39m'\u001b[39m: matchup[\u001b[39m0\u001b[39m], \n\u001b[0;32m     14\u001b[0m                     \u001b[39m'\u001b[39m\u001b[39mGAME_DATE_EST\u001b[39m\u001b[39m'\u001b[39m: datetime\u001b[39m.\u001b[39mnow(timezone(\u001b[39m'\u001b[39m\u001b[39mEST\u001b[39m\u001b[39m'\u001b[39m))\u001b[39m.\u001b[39mstrftime(\u001b[39m\"\u001b[39m\u001b[39m%\u001b[39m\u001b[39mY-\u001b[39m\u001b[39m%\u001b[39m\u001b[39mm-\u001b[39m\u001b[39m%d\u001b[39;00m\u001b[39m\"\u001b[39m), \n\u001b[0;32m     15\u001b[0m                     \u001b[39m'\u001b[39m\u001b[39mGAME_ID\u001b[39m\u001b[39m'\u001b[39m: DUMMY_GAME_ID\u001b[39m+\u001b[39mi,\n\u001b[0;32m     16\u001b[0m                     \u001b[39m'\u001b[39m\u001b[39mSEASON\u001b[39m\u001b[39m'\u001b[39m: SEASON,\n\u001b[0;32m     17\u001b[0m                     } \n",
      "\u001b[1;31mNameError\u001b[0m: name 'df_new' is not defined"
     ]
    }
   ],
   "source": [
    "# append today's matchups to the new games dataframe\n",
    "\n",
    "# since we don't have access to official game ids, we will use the format 20MMDD00 + index as a game id\n",
    "# This format is used to insure that feature engineering will treat this as a regular season game\n",
    "# and to be able to find these incomplete games in the database\n",
    "# this data will be updated later after the game is played\n",
    "\n",
    "DUMMY_GAME_ID = int(\"20\" + datetime.now(timezone('EST')).strftime(\"%m%d\") + \"00\")\n",
    "\n",
    "df_today = df_new.drop(df_new.index) #empty copy of df_new with same columns\n",
    "for i, matchup in enumerate(matchups):\n",
    "    game_details = {'HOME_TEAM_ID': matchup[1], \n",
    "                    'VISITOR_TEAM_ID': matchup[0], \n",
    "                    'GAME_DATE_EST': datetime.now(timezone('EST')).strftime(\"%Y-%m-%d\"), \n",
    "                    'GAME_ID': DUMMY_GAME_ID+i,\n",
    "                    'SEASON': SEASON,\n",
    "                    } \n",
    "    game_details_df = pd.DataFrame(game_details, index=[i])\n",
    "    # append to new games dataframe\n",
    "    df_today = pd.concat([df_today, game_details_df], ignore_index = True)\n",
    "\n",
    "#blank rows will be filled with 0 to prevent issues with feature engineering\n",
    "df_today = df_today.fillna(0) \n",
    "\n",
    "df_today\n"
   ]
  },
  {
   "cell_type": "markdown",
   "id": "acfb1180-ea38-452c-9afd-73eea3ee7e17",
   "metadata": {},
   "source": [
    "**Access Feature Store**"
   ]
  },
  {
   "cell_type": "code",
   "execution_count": null,
   "id": "ba69a88c-691e-4f8d-b68e-e79f5582a939",
   "metadata": {},
   "outputs": [],
   "source": [
    "project = hopsworks.login(api_key_value=HOPSWORKS_API_KEY)\n",
    "fs = project.get_feature_store()"
   ]
  },
  {
   "cell_type": "markdown",
   "id": "256829e7",
   "metadata": {},
   "source": [
    "**Access Feature Group**"
   ]
  },
  {
   "cell_type": "code",
   "execution_count": null,
   "id": "641d97e5-0888-42c3-a9b1-97c9ef2b7082",
   "metadata": {},
   "outputs": [],
   "source": [
    "rolling_stats_fg = fs.get_feature_group(\n",
    "    name=\"rolling_stats\",\n",
    "    version=1,\n",
    ")"
   ]
  },
  {
   "attachments": {},
   "cell_type": "markdown",
   "id": "0acc836a",
   "metadata": {},
   "source": [
    "**Query Old Data Needed for Feature Engineering of New Data**\n",
    "\n",
    "To generate features like rolling averages for the new games, older data from previous games is needed since some of the rolling averages might extend back 15 or 20 games or so."
   ]
  },
  {
   "cell_type": "code",
   "execution_count": null,
   "id": "69a2b254",
   "metadata": {},
   "outputs": [],
   "source": [
    "BASE_FEATURES = ['game_date_est',\n",
    " 'game_id',\n",
    " 'home_team_id',\n",
    " 'visitor_team_id',\n",
    " 'season',\n",
    " 'pts_home',\n",
    " 'fg_pct_home',\n",
    " 'ft_pct_home',\n",
    " 'fg3_pct_home',\n",
    " 'ast_home',\n",
    " 'reb_home',\n",
    " 'pts_away',\n",
    " 'fg_pct_away',\n",
    " 'ft_pct_away',\n",
    " 'fg3_pct_away',\n",
    " 'ast_away',\n",
    " 'reb_away',\n",
    " 'home_team_wins',\n",
    "]\n",
    "\n",
    "ds_query = rolling_stats_fg.select(BASE_FEATURES)\n",
    "df_old = ds_query.read()\n",
    "df_old\n"
   ]
  },
  {
   "attachments": {},
   "cell_type": "markdown",
   "id": "3185e1e1",
   "metadata": {},
   "source": [
    "**Convert Feature Names back to original mixed case**"
   ]
  },
  {
   "cell_type": "code",
   "execution_count": null,
   "id": "11fc2684",
   "metadata": {},
   "outputs": [],
   "source": [
    "df_old = convert_feature_names(df_old)\n",
    "df_old"
   ]
  },
  {
   "attachments": {},
   "cell_type": "markdown",
   "id": "9453ea9a",
   "metadata": {},
   "source": [
    "**Update Yesterday's Matchup Predictions with New Final Results**"
   ]
  },
  {
   "cell_type": "code",
   "execution_count": null,
   "id": "f5be2f9c",
   "metadata": {},
   "outputs": [],
   "source": [
    "# filter out games that are pending final results\n",
    "# (these were the rows used for prediction yesterday)\n",
    "# and then update these with the new results\n",
    "#>>> df1.set_index('Code', inplace=True)\n",
    "#>>> df1.update(df2.set_index('Code'))\n",
    "#>>> df1.reset_index()  # to recover the initial structure\n",
    "\n",
    "df_pending = df_old[df_old['GAME_ID'] < 20000100]\n",
    "\n",
    "df_pending.update(df_new)\n",
    "\n",
    "df_pending"
   ]
  },
  {
   "attachments": {},
   "cell_type": "markdown",
   "id": "f169f4ce",
   "metadata": {},
   "source": [
    "**Add Today's Matchups for Feature Engineering**"
   ]
  },
  {
   "cell_type": "code",
   "execution_count": null,
   "id": "a82bf4a8",
   "metadata": {},
   "outputs": [],
   "source": [
    "df_combined = pd.concat([df_combined, df_today], ignore_index = True)\n",
    "df_combined"
   ]
  },
  {
   "cell_type": "markdown",
   "id": "835625fc-be47-4a8f-a532-02dc8e79363e",
   "metadata": {},
   "source": [
    "**Data Processing**"
   ]
  },
  {
   "cell_type": "code",
   "execution_count": null,
   "id": "8577f0e2-39f7-4cef-9f8f-e687cb73f1bb",
   "metadata": {},
   "outputs": [],
   "source": [
    "df_combined = process_games(df_combined) \n",
    "df_combined = add_TARGET(df_combined)\n",
    "df_combined"
   ]
  },
  {
   "cell_type": "markdown",
   "id": "cccb588e",
   "metadata": {},
   "source": [
    "**Feature Engineering**"
   ]
  },
  {
   "cell_type": "code",
   "execution_count": null,
   "id": "19484061",
   "metadata": {},
   "outputs": [],
   "source": [
    "# Feature engineering to add: \n",
    "    # rolling averages of key stats, \n",
    "    # win/lose streaks, \n",
    "    # home/away streaks, \n",
    "    # specific matchup (team X vs team Y) rolling averages and streaks\n",
    "\n",
    "df_combined = process_features(df_combined)\n",
    "df_combined\n"
   ]
  },
  {
   "attachments": {},
   "cell_type": "markdown",
   "id": "67eea1e5",
   "metadata": {},
   "source": [
    "**Insert New Data into Feature Group**"
   ]
  },
  {
   "cell_type": "code",
   "execution_count": null,
   "id": "a76fc400",
   "metadata": {},
   "outputs": [],
   "source": [
    "\n",
    "def test():\n",
    "    # retrieve only new games from the combined dataframe now that feature engineering is complete\n",
    "\n",
    "    # set index to GAME_ID\n",
    "    df_combined = df_combined.set_index('GAME_ID')\n",
    "    df_new = df_new.set_index('GAME_ID')\n",
    "    \n",
    "    # retrieve only new games\n",
    "    df_new = df_combined.loc[df_new.index]\n",
    "\n",
    "    # reset GAME_ID index back to column\n",
    "    df_new = df_new.reset_index()\n",
    "\n",
    "    # convert certain features back to int32 for Hopsworks compatibility\n",
    "    df_new['GAME_ID'] = df_new['GAME_ID'].astype('int32')\n",
    "    df_new['HOME_TEAM_WINS'] = df_new['HOME_TEAM_WINS'].astype('int32')\n",
    "    df_new['TARGET'] = df_new['TARGET'].astype('int32')\n",
    "\n",
    "    # save new games to Hopsworks feature group\n",
    "    rolling_stats_fg.insert(df_new, write_options={\"wait_for_job\" : False})\n",
    "\n",
    "    df_new \n",
    "\n",
    "rolling_stats_fg.insert(df_combined, write_options={\"wait_for_job\" : False})"
   ]
  }
 ],
 "metadata": {
  "kernelspec": {
   "display_name": "nba3",
   "language": "python",
   "name": "python3"
  },
  "language_info": {
   "codemirror_mode": {
    "name": "ipython",
    "version": 3
   },
   "file_extension": ".py",
   "mimetype": "text/x-python",
   "name": "python",
   "nbconvert_exporter": "python",
   "pygments_lexer": "ipython3",
   "version": "3.9.13"
  },
  "vscode": {
   "interpreter": {
    "hash": "4655998f62ad965cbd25df51edb717f2326f5df53d53899f0ae604225aa5ae06"
   }
  }
 },
 "nbformat": 4,
 "nbformat_minor": 5
}
