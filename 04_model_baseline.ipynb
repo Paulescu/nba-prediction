{
 "cells": [
  {
   "cell_type": "markdown",
   "id": "0097f2a4-79c5-4731-8570-6cb6630fc397",
   "metadata": {},
   "source": [
    "### Baseline Models\n",
    "\n",
    "Simple If-Then Models\n",
    "\n",
    " - Team with best record wins\n",
    " - Home team always wins\n",
    " - Home team wins unless they have losing home record\n",
    " - Home team wins unless visitor has won 2 of 3 last away games\n",
    " \n",
    "ML Models\n",
    "\n",
    " - LightGBM\n",
    " - XGBoost\n",
    "    "
   ]
  },
  {
   "cell_type": "code",
   "execution_count": 1,
   "id": "f71787a4-84ae-44fc-bcaf-ea41b56807c4",
   "metadata": {},
   "outputs": [],
   "source": [
    "import pandas as pd\n",
    "import numpy as np\n",
    "\n",
    "pd.set_option('display.max_columns', 500)\n",
    "\n",
    "from sklearn.metrics import accuracy_score\n",
    "from sklearn.metrics import roc_auc_score\n",
    "\n",
    "# For Visualization\n",
    "import matplotlib.pyplot as plt\n",
    "import seaborn as sns\n",
    "\n",
    "from pathlib import Path  #for Windows/Linux compatibility\n",
    "DATAPATH = Path(r'data')\n"
   ]
  },
  {
   "cell_type": "code",
   "execution_count": 2,
   "id": "f2f46e0f-af90-49eb-a7b6-16ba9020744b",
   "metadata": {},
   "outputs": [
    {
     "data": {
      "text/html": [
       "<div>\n",
       "<style scoped>\n",
       "    .dataframe tbody tr th:only-of-type {\n",
       "        vertical-align: middle;\n",
       "    }\n",
       "\n",
       "    .dataframe tbody tr th {\n",
       "        vertical-align: top;\n",
       "    }\n",
       "\n",
       "    .dataframe thead th {\n",
       "        text-align: right;\n",
       "    }\n",
       "</style>\n",
       "<table border=\"1\" class=\"dataframe\">\n",
       "  <thead>\n",
       "    <tr style=\"text-align: right;\">\n",
       "      <th></th>\n",
       "      <th>GAME_DATE_EST</th>\n",
       "      <th>GAME_ID</th>\n",
       "      <th>HOME_TEAM_ID</th>\n",
       "      <th>VISITOR_TEAM_ID</th>\n",
       "      <th>SEASON</th>\n",
       "      <th>PTS_home</th>\n",
       "      <th>FG_PCT_home</th>\n",
       "      <th>FT_PCT_home</th>\n",
       "      <th>FG3_PCT_home</th>\n",
       "      <th>AST_home</th>\n",
       "      <th>REB_home</th>\n",
       "      <th>PTS_away</th>\n",
       "      <th>FG_PCT_away</th>\n",
       "      <th>FT_PCT_away</th>\n",
       "      <th>FG3_PCT_away</th>\n",
       "      <th>AST_away</th>\n",
       "      <th>REB_away</th>\n",
       "      <th>HOME_TEAM_WINS</th>\n",
       "      <th>PLAYOFF</th>\n",
       "      <th>CONFERENCE_x</th>\n",
       "      <th>G_x</th>\n",
       "      <th>W_x</th>\n",
       "      <th>L_x</th>\n",
       "      <th>W_PCT_x</th>\n",
       "      <th>HOME_W_x</th>\n",
       "      <th>HOME_L_x</th>\n",
       "      <th>HOME_W_PCT_x</th>\n",
       "      <th>ROAD_W_x</th>\n",
       "      <th>ROAD_L_x</th>\n",
       "      <th>ROAD_W_PCT_x</th>\n",
       "      <th>CONFERENCE_y</th>\n",
       "      <th>G_y</th>\n",
       "      <th>W_y</th>\n",
       "      <th>L_y</th>\n",
       "      <th>W_PCT_y</th>\n",
       "      <th>HOME_W_y</th>\n",
       "      <th>HOME_L_y</th>\n",
       "      <th>HOME_W_PCT_y</th>\n",
       "      <th>ROAD_W_y</th>\n",
       "      <th>ROAD_L_y</th>\n",
       "      <th>ROAD_W_PCT_y</th>\n",
       "      <th>TARGET</th>\n",
       "      <th>HOME_WINS_LAST_3_HOME</th>\n",
       "      <th>PTS_home_LAST_3_HOME</th>\n",
       "      <th>AWAY_WINS_LAST_3_AWAY</th>\n",
       "      <th>PTS_away_LAST_3_AWAY</th>\n",
       "    </tr>\n",
       "  </thead>\n",
       "  <tbody>\n",
       "    <tr>\n",
       "      <th>0</th>\n",
       "      <td>2003-10-29</td>\n",
       "      <td>20300006</td>\n",
       "      <td>1610612740</td>\n",
       "      <td>1610612737</td>\n",
       "      <td>2003</td>\n",
       "      <td>88.0</td>\n",
       "      <td>0.324</td>\n",
       "      <td>0.700</td>\n",
       "      <td>0.160</td>\n",
       "      <td>24.0</td>\n",
       "      <td>55.0</td>\n",
       "      <td>83.0</td>\n",
       "      <td>0.398</td>\n",
       "      <td>0.737</td>\n",
       "      <td>0.214</td>\n",
       "      <td>18.0</td>\n",
       "      <td>58.0</td>\n",
       "      <td>1</td>\n",
       "      <td>0</td>\n",
       "      <td>0</td>\n",
       "      <td>1</td>\n",
       "      <td>1</td>\n",
       "      <td>0</td>\n",
       "      <td>1.00</td>\n",
       "      <td>1</td>\n",
       "      <td>0</td>\n",
       "      <td>1.000000</td>\n",
       "      <td>0</td>\n",
       "      <td>0</td>\n",
       "      <td>NaN</td>\n",
       "      <td>0</td>\n",
       "      <td>1</td>\n",
       "      <td>0</td>\n",
       "      <td>1</td>\n",
       "      <td>0.000</td>\n",
       "      <td>0</td>\n",
       "      <td>0</td>\n",
       "      <td>NaN</td>\n",
       "      <td>0</td>\n",
       "      <td>1</td>\n",
       "      <td>0.0</td>\n",
       "      <td>1.0</td>\n",
       "      <td>2.0</td>\n",
       "      <td>91.666667</td>\n",
       "      <td>NaN</td>\n",
       "      <td>NaN</td>\n",
       "    </tr>\n",
       "    <tr>\n",
       "      <th>1</th>\n",
       "      <td>2003-10-31</td>\n",
       "      <td>20300024</td>\n",
       "      <td>1610612741</td>\n",
       "      <td>1610612737</td>\n",
       "      <td>2003</td>\n",
       "      <td>100.0</td>\n",
       "      <td>0.400</td>\n",
       "      <td>0.759</td>\n",
       "      <td>0.500</td>\n",
       "      <td>27.0</td>\n",
       "      <td>53.0</td>\n",
       "      <td>94.0</td>\n",
       "      <td>0.400</td>\n",
       "      <td>0.714</td>\n",
       "      <td>0.583</td>\n",
       "      <td>22.0</td>\n",
       "      <td>48.0</td>\n",
       "      <td>1</td>\n",
       "      <td>0</td>\n",
       "      <td>0</td>\n",
       "      <td>2</td>\n",
       "      <td>1</td>\n",
       "      <td>1</td>\n",
       "      <td>0.50</td>\n",
       "      <td>1</td>\n",
       "      <td>1</td>\n",
       "      <td>0.500000</td>\n",
       "      <td>0</td>\n",
       "      <td>0</td>\n",
       "      <td>NaN</td>\n",
       "      <td>0</td>\n",
       "      <td>2</td>\n",
       "      <td>0</td>\n",
       "      <td>2</td>\n",
       "      <td>0.000</td>\n",
       "      <td>0</td>\n",
       "      <td>0</td>\n",
       "      <td>NaN</td>\n",
       "      <td>0</td>\n",
       "      <td>2</td>\n",
       "      <td>0.0</td>\n",
       "      <td>0.0</td>\n",
       "      <td>1.0</td>\n",
       "      <td>88.666667</td>\n",
       "      <td>NaN</td>\n",
       "      <td>NaN</td>\n",
       "    </tr>\n",
       "    <tr>\n",
       "      <th>2</th>\n",
       "      <td>2003-11-05</td>\n",
       "      <td>20300060</td>\n",
       "      <td>1610612744</td>\n",
       "      <td>1610612737</td>\n",
       "      <td>2003</td>\n",
       "      <td>99.0</td>\n",
       "      <td>0.446</td>\n",
       "      <td>0.645</td>\n",
       "      <td>0.278</td>\n",
       "      <td>23.0</td>\n",
       "      <td>52.0</td>\n",
       "      <td>72.0</td>\n",
       "      <td>0.367</td>\n",
       "      <td>0.500</td>\n",
       "      <td>0.333</td>\n",
       "      <td>19.0</td>\n",
       "      <td>43.0</td>\n",
       "      <td>1</td>\n",
       "      <td>0</td>\n",
       "      <td>1</td>\n",
       "      <td>4</td>\n",
       "      <td>2</td>\n",
       "      <td>2</td>\n",
       "      <td>0.50</td>\n",
       "      <td>2</td>\n",
       "      <td>1</td>\n",
       "      <td>0.666667</td>\n",
       "      <td>0</td>\n",
       "      <td>1</td>\n",
       "      <td>0.0</td>\n",
       "      <td>0</td>\n",
       "      <td>5</td>\n",
       "      <td>1</td>\n",
       "      <td>4</td>\n",
       "      <td>0.200</td>\n",
       "      <td>1</td>\n",
       "      <td>1</td>\n",
       "      <td>0.5</td>\n",
       "      <td>0</td>\n",
       "      <td>3</td>\n",
       "      <td>0.0</td>\n",
       "      <td>1.0</td>\n",
       "      <td>3.0</td>\n",
       "      <td>96.666667</td>\n",
       "      <td>1.0</td>\n",
       "      <td>83.0</td>\n",
       "    </tr>\n",
       "    <tr>\n",
       "      <th>3</th>\n",
       "      <td>2003-11-08</td>\n",
       "      <td>20300084</td>\n",
       "      <td>1610612757</td>\n",
       "      <td>1610612737</td>\n",
       "      <td>2003</td>\n",
       "      <td>90.0</td>\n",
       "      <td>0.425</td>\n",
       "      <td>0.900</td>\n",
       "      <td>0.500</td>\n",
       "      <td>28.0</td>\n",
       "      <td>41.0</td>\n",
       "      <td>83.0</td>\n",
       "      <td>0.438</td>\n",
       "      <td>0.786</td>\n",
       "      <td>0.100</td>\n",
       "      <td>21.0</td>\n",
       "      <td>45.0</td>\n",
       "      <td>1</td>\n",
       "      <td>0</td>\n",
       "      <td>1</td>\n",
       "      <td>6</td>\n",
       "      <td>3</td>\n",
       "      <td>3</td>\n",
       "      <td>0.50</td>\n",
       "      <td>3</td>\n",
       "      <td>1</td>\n",
       "      <td>0.750000</td>\n",
       "      <td>0</td>\n",
       "      <td>2</td>\n",
       "      <td>0.0</td>\n",
       "      <td>0</td>\n",
       "      <td>6</td>\n",
       "      <td>1</td>\n",
       "      <td>5</td>\n",
       "      <td>0.167</td>\n",
       "      <td>1</td>\n",
       "      <td>1</td>\n",
       "      <td>0.5</td>\n",
       "      <td>0</td>\n",
       "      <td>4</td>\n",
       "      <td>0.0</td>\n",
       "      <td>1.0</td>\n",
       "      <td>3.0</td>\n",
       "      <td>88.666667</td>\n",
       "      <td>1.0</td>\n",
       "      <td>83.0</td>\n",
       "    </tr>\n",
       "    <tr>\n",
       "      <th>4</th>\n",
       "      <td>2003-11-09</td>\n",
       "      <td>20300089</td>\n",
       "      <td>1610612760</td>\n",
       "      <td>1610612737</td>\n",
       "      <td>2003</td>\n",
       "      <td>81.0</td>\n",
       "      <td>0.379</td>\n",
       "      <td>0.737</td>\n",
       "      <td>0.056</td>\n",
       "      <td>12.0</td>\n",
       "      <td>46.0</td>\n",
       "      <td>91.0</td>\n",
       "      <td>0.479</td>\n",
       "      <td>0.789</td>\n",
       "      <td>0.533</td>\n",
       "      <td>16.0</td>\n",
       "      <td>41.0</td>\n",
       "      <td>0</td>\n",
       "      <td>0</td>\n",
       "      <td>1</td>\n",
       "      <td>4</td>\n",
       "      <td>3</td>\n",
       "      <td>1</td>\n",
       "      <td>0.75</td>\n",
       "      <td>2</td>\n",
       "      <td>1</td>\n",
       "      <td>0.666667</td>\n",
       "      <td>1</td>\n",
       "      <td>0</td>\n",
       "      <td>1.0</td>\n",
       "      <td>0</td>\n",
       "      <td>7</td>\n",
       "      <td>2</td>\n",
       "      <td>5</td>\n",
       "      <td>0.286</td>\n",
       "      <td>1</td>\n",
       "      <td>1</td>\n",
       "      <td>0.5</td>\n",
       "      <td>1</td>\n",
       "      <td>4</td>\n",
       "      <td>0.2</td>\n",
       "      <td>0.0</td>\n",
       "      <td>1.0</td>\n",
       "      <td>96.666667</td>\n",
       "      <td>1.0</td>\n",
       "      <td>82.0</td>\n",
       "    </tr>\n",
       "  </tbody>\n",
       "</table>\n",
       "</div>"
      ],
      "text/plain": [
       "  GAME_DATE_EST   GAME_ID  HOME_TEAM_ID  VISITOR_TEAM_ID  SEASON  PTS_home  \\\n",
       "0    2003-10-29  20300006    1610612740       1610612737    2003      88.0   \n",
       "1    2003-10-31  20300024    1610612741       1610612737    2003     100.0   \n",
       "2    2003-11-05  20300060    1610612744       1610612737    2003      99.0   \n",
       "3    2003-11-08  20300084    1610612757       1610612737    2003      90.0   \n",
       "4    2003-11-09  20300089    1610612760       1610612737    2003      81.0   \n",
       "\n",
       "   FG_PCT_home  FT_PCT_home  FG3_PCT_home  AST_home  REB_home  PTS_away  \\\n",
       "0        0.324        0.700         0.160      24.0      55.0      83.0   \n",
       "1        0.400        0.759         0.500      27.0      53.0      94.0   \n",
       "2        0.446        0.645         0.278      23.0      52.0      72.0   \n",
       "3        0.425        0.900         0.500      28.0      41.0      83.0   \n",
       "4        0.379        0.737         0.056      12.0      46.0      91.0   \n",
       "\n",
       "   FG_PCT_away  FT_PCT_away  FG3_PCT_away  AST_away  REB_away  HOME_TEAM_WINS  \\\n",
       "0        0.398        0.737         0.214      18.0      58.0               1   \n",
       "1        0.400        0.714         0.583      22.0      48.0               1   \n",
       "2        0.367        0.500         0.333      19.0      43.0               1   \n",
       "3        0.438        0.786         0.100      21.0      45.0               1   \n",
       "4        0.479        0.789         0.533      16.0      41.0               0   \n",
       "\n",
       "   PLAYOFF  CONFERENCE_x  G_x  W_x  L_x  W_PCT_x  HOME_W_x  HOME_L_x  \\\n",
       "0        0             0    1    1    0     1.00         1         0   \n",
       "1        0             0    2    1    1     0.50         1         1   \n",
       "2        0             1    4    2    2     0.50         2         1   \n",
       "3        0             1    6    3    3     0.50         3         1   \n",
       "4        0             1    4    3    1     0.75         2         1   \n",
       "\n",
       "   HOME_W_PCT_x  ROAD_W_x  ROAD_L_x  ROAD_W_PCT_x  CONFERENCE_y  G_y  W_y  \\\n",
       "0      1.000000         0         0           NaN             0    1    0   \n",
       "1      0.500000         0         0           NaN             0    2    0   \n",
       "2      0.666667         0         1           0.0             0    5    1   \n",
       "3      0.750000         0         2           0.0             0    6    1   \n",
       "4      0.666667         1         0           1.0             0    7    2   \n",
       "\n",
       "   L_y  W_PCT_y  HOME_W_y  HOME_L_y  HOME_W_PCT_y  ROAD_W_y  ROAD_L_y  \\\n",
       "0    1    0.000         0         0           NaN         0         1   \n",
       "1    2    0.000         0         0           NaN         0         2   \n",
       "2    4    0.200         1         1           0.5         0         3   \n",
       "3    5    0.167         1         1           0.5         0         4   \n",
       "4    5    0.286         1         1           0.5         1         4   \n",
       "\n",
       "   ROAD_W_PCT_y  TARGET  HOME_WINS_LAST_3_HOME  PTS_home_LAST_3_HOME  \\\n",
       "0           0.0     1.0                    2.0             91.666667   \n",
       "1           0.0     0.0                    1.0             88.666667   \n",
       "2           0.0     1.0                    3.0             96.666667   \n",
       "3           0.0     1.0                    3.0             88.666667   \n",
       "4           0.2     0.0                    1.0             96.666667   \n",
       "\n",
       "   AWAY_WINS_LAST_3_AWAY  PTS_away_LAST_3_AWAY  \n",
       "0                    NaN                   NaN  \n",
       "1                    NaN                   NaN  \n",
       "2                    1.0                  83.0  \n",
       "3                    1.0                  83.0  \n",
       "4                    1.0                  82.0  "
      ]
     },
     "execution_count": 2,
     "metadata": {},
     "output_type": "execute_result"
    }
   ],
   "source": [
    "train = pd.read_csv(DATAPATH / \"train.csv\")\n",
    "test = pd.read_csv(DATAPATH / \"test.csv\")\n",
    "\n",
    "train.head()"
   ]
  },
  {
   "cell_type": "markdown",
   "id": "ad9aab59-5715-47e9-b775-db7090b10128",
   "metadata": {},
   "source": [
    "**Model - Team with best record wins**"
   ]
  },
  {
   "cell_type": "code",
   "execution_count": 3,
   "id": "8a4593c1-6281-4994-842d-737528a7a175",
   "metadata": {},
   "outputs": [
    {
     "data": {
      "text/plain": [
       "(0.5725690979303163, 0.5752392109878647)"
      ]
     },
     "execution_count": 3,
     "metadata": {},
     "output_type": "execute_result"
    }
   ],
   "source": [
    "# train data\n",
    "predict = (train['W_PCT_x'] > train['W_PCT_y']).astype('int8')\n",
    "true =  train['TARGET']\n",
    "\n",
    "accuracy_score(true,predict), roc_auc_score(true,predict)"
   ]
  },
  {
   "cell_type": "code",
   "execution_count": 4,
   "id": "66a85943-cb0b-4ab2-8271-e7d54a349ac1",
   "metadata": {},
   "outputs": [
    {
     "data": {
      "text/plain": [
       "(0.5574257425742575, 0.5574603174603174)"
      ]
     },
     "execution_count": 4,
     "metadata": {},
     "output_type": "execute_result"
    }
   ],
   "source": [
    "# test data\n",
    "predict = (test['W_PCT_x'] > test['W_PCT_y']).astype('int8')\n",
    "true =  test['TARGET']\n",
    "\n",
    "accuracy_score(true,predict), roc_auc_score(true,predict)"
   ]
  },
  {
   "cell_type": "markdown",
   "id": "22804f68-1979-4173-8b7f-a2b28af87f83",
   "metadata": {},
   "source": [
    "**Model - Home team always wins**"
   ]
  },
  {
   "cell_type": "code",
   "execution_count": 5,
   "id": "9ee0951a-c3b8-448c-bed8-f783dc9bd8c3",
   "metadata": {},
   "outputs": [
    {
     "data": {
      "text/plain": [
       "(0.5928320388770772, 0.5)"
      ]
     },
     "execution_count": 5,
     "metadata": {},
     "output_type": "execute_result"
    }
   ],
   "source": [
    "# train data\n",
    "n = train.shape[0]\n",
    "predict = pd.Series(1, index=range(n))\n",
    "true =  train['TARGET']\n",
    "\n",
    "accuracy_score(true,predict), roc_auc_score(true,predict)"
   ]
  },
  {
   "cell_type": "code",
   "execution_count": 6,
   "id": "879c8a82-3f72-4804-b9bc-275cc051a75b",
   "metadata": {},
   "outputs": [
    {
     "data": {
      "text/plain": [
       "(0.5544554455445545, 0.5)"
      ]
     },
     "execution_count": 6,
     "metadata": {},
     "output_type": "execute_result"
    }
   ],
   "source": [
    "# test data\n",
    "n = test.shape[0]\n",
    "predict = pd.Series(1, index=range(n))\n",
    "true =  test['TARGET']\n",
    "\n",
    "accuracy_score(true,predict), roc_auc_score(true,predict)"
   ]
  },
  {
   "cell_type": "markdown",
   "id": "4f2613d4-0390-48d3-b03b-26a2a21d76f6",
   "metadata": {},
   "source": [
    "**Model - Home team wins unless they have a losing home record**"
   ]
  },
  {
   "cell_type": "code",
   "execution_count": 7,
   "id": "e3ba0c03-9210-4136-8531-4630e1e9aad8",
   "metadata": {},
   "outputs": [
    {
     "data": {
      "text/plain": [
       "(0.6245932225452336, 0.5856594049716664)"
      ]
     },
     "execution_count": 7,
     "metadata": {},
     "output_type": "execute_result"
    }
   ],
   "source": [
    "# train data\n",
    "predict = train['HOME_W_PCT_x'].apply(lambda x: 0 if x < 0.50 else 1)\n",
    "true =  train['TARGET']\n",
    "\n",
    "accuracy_score(true,predict), roc_auc_score(true,predict)"
   ]
  },
  {
   "cell_type": "code",
   "execution_count": 8,
   "id": "e73fe09c-3f54-4ea9-935f-fc9df5da5fc7",
   "metadata": {},
   "outputs": [
    {
     "data": {
      "text/plain": [
       "(0.5881188118811881, 0.570952380952381)"
      ]
     },
     "execution_count": 8,
     "metadata": {},
     "output_type": "execute_result"
    }
   ],
   "source": [
    "# test data\n",
    "predict = test['HOME_W_PCT_x'].apply(lambda x: 0 if x < 0.50 else 1)\n",
    "true =  test['TARGET']\n",
    "\n",
    "accuracy_score(true,predict), roc_auc_score(true,predict)"
   ]
  },
  {
   "cell_type": "markdown",
   "id": "af96d141-f9bb-47dd-ae11-7f87f919bd92",
   "metadata": {},
   "source": [
    "**Model - Home team wins unless Away team has won 2 of last three away games**"
   ]
  },
  {
   "cell_type": "code",
   "execution_count": 9,
   "id": "bda8ce78-0dc1-4a14-b664-1d21bca612a3",
   "metadata": {},
   "outputs": [
    {
     "data": {
      "text/plain": [
       "(0.7604026554432247, 0.7433715958913312)"
      ]
     },
     "execution_count": 9,
     "metadata": {},
     "output_type": "execute_result"
    }
   ],
   "source": [
    "# train data\n",
    "predict = train['AWAY_WINS_LAST_3_AWAY'].apply(lambda x: 0 if x > 1 else 1)\n",
    "true =  train['TARGET']\n",
    "\n",
    "accuracy_score(true,predict), roc_auc_score(true,predict)"
   ]
  },
  {
   "cell_type": "code",
   "execution_count": 10,
   "id": "ae575838-8a86-4486-8fe8-717261be1acd",
   "metadata": {},
   "outputs": [
    {
     "data": {
      "text/plain": [
       "(0.7504950495049505, 0.7440079365079365)"
      ]
     },
     "execution_count": 10,
     "metadata": {},
     "output_type": "execute_result"
    }
   ],
   "source": [
    "# test data\n",
    "predict = test['AWAY_WINS_LAST_3_AWAY'].apply(lambda x: 0 if x > 1 else 1)\n",
    "true =  test['TARGET']\n",
    "\n",
    "accuracy_score(true,predict), roc_auc_score(true,predict)"
   ]
  },
  {
   "cell_type": "markdown",
   "id": "5ac38807-8e97-433c-8e38-37b25bcd461b",
   "metadata": {},
   "source": [
    "### ML Baseline Models"
   ]
  },
  {
   "cell_type": "markdown",
   "id": "7554abb2-d72b-45e9-b51d-f31f5aa8f3b6",
   "metadata": {},
   "source": [
    "**Encoding / Smaller memory footprint**"
   ]
  },
  {
   "cell_type": "code",
   "execution_count": 11,
   "id": "7de2db65-2803-45c0-831f-23423c610078",
   "metadata": {},
   "outputs": [],
   "source": [
    "def encode_data(df):\n",
    "    df['GAME_DATE_EST'] = pd.to_datetime(df['GAME_DATE_EST'])\n",
    "\n",
    "    category_fields = ['GAME_ID', 'HOME_TEAM_ID', 'VISITOR_TEAM_ID', 'SEASON', 'HOME_TEAM_WINS', 'PLAYOFF', 'CONFERENCE_x', 'CONFERENCE_y', 'TARGET']\n",
    "\n",
    "    long_integer_fields = ['GAME_ID', 'HOME_TEAM_ID', 'VISITOR_TEAM_ID']\n",
    "\n",
    "    #convert long integer fields to int32 from int64\n",
    "    for field in long_integer_fields:\n",
    "        df[field] = df[field].astype('int32')\n",
    "    \n",
    "    #convert the remaining int64s to int8\n",
    "    for field in df.select_dtypes(include=['int64']).columns.tolist():\n",
    "        df[field] = df[field].astype('int8')\n",
    "        \n",
    "    #convert float64s to float16s\n",
    "    for field in df.select_dtypes(include=['float64']).columns.tolist():\n",
    "        df[field] = df[field].astype('float16')\n",
    "        \n",
    "    return df\n",
    "\n",
    "train = encode_data(train)\n",
    "test = encode_data(test)\n"
   ]
  },
  {
   "cell_type": "code",
   "execution_count": null,
   "id": "02a50770-0f9f-45c0-8f21-1bff0b6a5bb1",
   "metadata": {},
   "outputs": [],
   "source": []
  }
 ],
 "metadata": {
  "kernelspec": {
   "display_name": "nba",
   "language": "python",
   "name": "nba"
  },
  "language_info": {
   "codemirror_mode": {
    "name": "ipython",
    "version": 3
   },
   "file_extension": ".py",
   "mimetype": "text/x-python",
   "name": "python",
   "nbconvert_exporter": "python",
   "pygments_lexer": "ipython3",
   "version": "3.9.12"
  }
 },
 "nbformat": 4,
 "nbformat_minor": 5
}
