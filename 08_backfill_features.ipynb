{
 "cells": [
  {
   "cell_type": "code",
   "execution_count": 1,
   "id": "548fdd0a-cd73-40ff-9154-6ca6a3233947",
   "metadata": {},
   "outputs": [],
   "source": [
    "import pandas as pd\n",
    "import numpy as np\n",
    "\n",
    "import hopsworks\n",
    "\n",
    "from src.data_processing import (\n",
    "    process_games,\n",
    "    add_TARGET,\n",
    ")\n",
    "\n",
    "from src.feature_engineering import (\n",
    "    fix_datatypes,\n",
    "    add_date_features,\n",
    "    remove_playoff_games,\n",
    "    add_rolling_home_visitor,\n",
    "    process_games_consecutively,\n",
    "    add_matchups,\n",
    "    add_past_performance_all,\n",
    "    combine_new_features,\n",
    "    process_x_minus_y,  \n",
    "    remove_non_rolling,\n",
    ")\n",
    "\n",
    "from pathlib import Path  #for Windows/Linux compatibility\n",
    "DATAPATH = Path(r'data')\n",
    "\n"
   ]
  },
  {
   "cell_type": "markdown",
   "id": "e6e2fa64-2b05-4a16-afd4-ffde457317d3",
   "metadata": {},
   "source": [
    "### Get Data"
   ]
  },
  {
   "cell_type": "code",
   "execution_count": 2,
   "id": "b8d21056-c888-4435-a5be-1e024c91ec18",
   "metadata": {},
   "outputs": [],
   "source": [
    "games = pd.read_csv(DATAPATH / \"games.csv\")"
   ]
  },
  {
   "cell_type": "markdown",
   "id": "20f21020-f3bf-49b8-ab33-be63b470fbf8",
   "metadata": {},
   "source": [
    "### Data Processing"
   ]
  },
  {
   "cell_type": "code",
   "execution_count": 3,
   "id": "ebd6432f-d540-40cf-877a-944584b8ff55",
   "metadata": {},
   "outputs": [
    {
     "name": "stderr",
     "output_type": "stream",
     "text": [
      "SettingWithCopyWarning: \n",
      "A value is trying to be set on a copy of a slice from a DataFrame.\n",
      "Try using .loc[row_indexer,col_indexer] = value instead\n",
      "\n",
      "See the caveats in the documentation: https://pandas.pydata.org/pandas-docs/stable/user_guide/indexing.html#returning-a-view-versus-a-copy\n"
     ]
    }
   ],
   "source": [
    "games = process_games(games) \n",
    "games = add_TARGET(games)"
   ]
  },
  {
   "cell_type": "markdown",
   "id": "e48eeee6-f3b9-46c3-b425-5a198a76b95a",
   "metadata": {},
   "source": [
    "### Feature Engineering"
   ]
  },
  {
   "cell_type": "code",
   "execution_count": 4,
   "id": "2720f06c-e829-4d8c-8365-00aafdb43e62",
   "metadata": {},
   "outputs": [
    {
     "name": "stderr",
     "output_type": "stream",
     "text": [
      "SettingWithCopyWarning: \n",
      "A value is trying to be set on a copy of a slice from a DataFrame\n",
      "\n",
      "See the caveats in the documentation: https://pandas.pydata.org/pandas-docs/stable/user_guide/indexing.html#returning-a-view-versus-a-copy\n",
      "SettingWithCopyWarning: \n",
      "A value is trying to be set on a copy of a slice from a DataFrame\n",
      "\n",
      "See the caveats in the documentation: https://pandas.pydata.org/pandas-docs/stable/user_guide/indexing.html#returning-a-view-versus-a-copy\n",
      "SettingWithCopyWarning: \n",
      "A value is trying to be set on a copy of a slice from a DataFrame\n",
      "\n",
      "See the caveats in the documentation: https://pandas.pydata.org/pandas-docs/stable/user_guide/indexing.html#returning-a-view-versus-a-copy\n",
      "SettingWithCopyWarning: \n",
      "A value is trying to be set on a copy of a slice from a DataFrame\n",
      "\n",
      "See the caveats in the documentation: https://pandas.pydata.org/pandas-docs/stable/user_guide/indexing.html#returning-a-view-versus-a-copy\n",
      "SettingWithCopyWarning: \n",
      "A value is trying to be set on a copy of a slice from a DataFrame\n",
      "\n",
      "See the caveats in the documentation: https://pandas.pydata.org/pandas-docs/stable/user_guide/indexing.html#returning-a-view-versus-a-copy\n"
     ]
    }
   ],
   "source": [
    "def process_features(df):\n",
    "    \n",
    "    home_visitor_roll_list = [3, 7, 10]\n",
    "    all_roll_list = [3, 7, 10, 15]\n",
    "    \n",
    "    df = fix_datatypes(df)\n",
    "    df = add_date_features(df)\n",
    "    df = remove_playoff_games(df)\n",
    "    df = add_rolling_home_visitor(df, \"HOME\", home_visitor_roll_list)\n",
    "    df = add_rolling_home_visitor(df, \"VISITOR\", home_visitor_roll_list)\n",
    "    \n",
    "    df_consecutive = process_games_consecutively(df)\n",
    "    df_consecutive = add_matchups(df_consecutive, home_visitor_roll_list)\n",
    "    df_consecutive = add_past_performance_all(df_consecutive, all_roll_list)\n",
    "\n",
    "    #add these features back to main dataframe\n",
    "    df = combine_new_features(df,df_consecutive) \n",
    "    \n",
    "    df = remove_non_rolling(df)\n",
    "    \n",
    "    df = process_x_minus_y(df)\n",
    "    \n",
    "    return df\n",
    "\n",
    "games = process_features(games)"
   ]
  },
  {
   "cell_type": "markdown",
   "id": "3a088979-09aa-4d02-bc4f-df2d77e7d45c",
   "metadata": {},
   "source": [
    "### Backfill Feature Store"
   ]
  },
  {
   "cell_type": "code",
   "execution_count": 5,
   "id": "ba69a88c-691e-4f8d-b68e-e79f5582a939",
   "metadata": {},
   "outputs": [
    {
     "name": "stdout",
     "output_type": "stream",
     "text": [
      "Connected. Call `.close()` to terminate connection gracefully.\n"
     ]
    },
    {
     "ename": "TypeError",
     "evalue": "__init__() got an unexpected keyword argument 'creation_status'",
     "output_type": "error",
     "traceback": [
      "\u001b[1;31m---------------------------------------------------------------------------\u001b[0m",
      "\u001b[1;31mTypeError\u001b[0m                                 Traceback (most recent call last)",
      "Cell \u001b[1;32mIn [5], line 1\u001b[0m\n\u001b[1;32m----> 1\u001b[0m project \u001b[38;5;241m=\u001b[39m \u001b[43mhopsworks\u001b[49m\u001b[38;5;241;43m.\u001b[39;49m\u001b[43mlogin\u001b[49m\u001b[43m(\u001b[49m\u001b[43m)\u001b[49m\n\u001b[0;32m      2\u001b[0m fs \u001b[38;5;241m=\u001b[39m project\u001b[38;5;241m.\u001b[39mget_feature_store()\n",
      "File \u001b[1;32m~\\.conda\\envs\\test\\lib\\site-packages\\hopsworks\\__init__.py:162\u001b[0m, in \u001b[0;36mlogin\u001b[1;34m(host, port, project, api_key_value, api_key_file)\u001b[0m\n\u001b[0;32m    158\u001b[0m \u001b[38;5;28;01mtry\u001b[39;00m:\n\u001b[0;32m    159\u001b[0m     _saas_connection \u001b[38;5;241m=\u001b[39m _saas_connection(\n\u001b[0;32m    160\u001b[0m         host\u001b[38;5;241m=\u001b[39mhost, port\u001b[38;5;241m=\u001b[39mport, api_key_file\u001b[38;5;241m=\u001b[39mapi_key_path\n\u001b[0;32m    161\u001b[0m     )\n\u001b[1;32m--> 162\u001b[0m     project_obj \u001b[38;5;241m=\u001b[39m \u001b[43m_prompt_project\u001b[49m\u001b[43m(\u001b[49m\u001b[43m_saas_connection\u001b[49m\u001b[43m,\u001b[49m\u001b[43m \u001b[49m\u001b[43mproject\u001b[49m\u001b[43m)\u001b[49m\n\u001b[0;32m    163\u001b[0m     \u001b[38;5;28mprint\u001b[39m(\u001b[38;5;124m\"\u001b[39m\u001b[38;5;130;01m\\n\u001b[39;00m\u001b[38;5;124mLogged in to project, explore it here \u001b[39m\u001b[38;5;124m\"\u001b[39m \u001b[38;5;241m+\u001b[39m project_obj\u001b[38;5;241m.\u001b[39mget_url())\n\u001b[0;32m    164\u001b[0m     \u001b[38;5;28;01mreturn\u001b[39;00m project_obj\n",
      "File \u001b[1;32m~\\.conda\\envs\\test\\lib\\site-packages\\hopsworks\\__init__.py:195\u001b[0m, in \u001b[0;36m_prompt_project\u001b[1;34m(valid_connection, project)\u001b[0m\n\u001b[0;32m    194\u001b[0m \u001b[38;5;28;01mdef\u001b[39;00m \u001b[38;5;21m_prompt_project\u001b[39m(valid_connection, project):\n\u001b[1;32m--> 195\u001b[0m     saas_projects \u001b[38;5;241m=\u001b[39m \u001b[43mvalid_connection\u001b[49m\u001b[38;5;241;43m.\u001b[39;49m\u001b[43mget_projects\u001b[49m\u001b[43m(\u001b[49m\u001b[43m)\u001b[49m\n\u001b[0;32m    196\u001b[0m     \u001b[38;5;28;01mif\u001b[39;00m project \u001b[38;5;129;01mis\u001b[39;00m \u001b[38;5;28;01mNone\u001b[39;00m:\n\u001b[0;32m    197\u001b[0m         \u001b[38;5;28;01mif\u001b[39;00m \u001b[38;5;28mlen\u001b[39m(saas_projects) \u001b[38;5;241m==\u001b[39m \u001b[38;5;241m0\u001b[39m:\n",
      "File \u001b[1;32m~\\.conda\\envs\\test\\lib\\site-packages\\hopsworks\\decorators.py:35\u001b[0m, in \u001b[0;36mconnected.<locals>.if_connected\u001b[1;34m(inst, *args, **kwargs)\u001b[0m\n\u001b[0;32m     33\u001b[0m \u001b[38;5;28;01mif\u001b[39;00m \u001b[38;5;129;01mnot\u001b[39;00m inst\u001b[38;5;241m.\u001b[39m_connected:\n\u001b[0;32m     34\u001b[0m     \u001b[38;5;28;01mraise\u001b[39;00m NoHopsworksConnectionError\n\u001b[1;32m---> 35\u001b[0m \u001b[38;5;28;01mreturn\u001b[39;00m fn(inst, \u001b[38;5;241m*\u001b[39margs, \u001b[38;5;241m*\u001b[39m\u001b[38;5;241m*\u001b[39mkwargs)\n",
      "File \u001b[1;32m~\\.conda\\envs\\test\\lib\\site-packages\\hopsworks\\connection.py:171\u001b[0m, in \u001b[0;36mConnection.get_projects\u001b[1;34m(self)\u001b[0m\n\u001b[0;32m    163\u001b[0m \u001b[38;5;129m@connected\u001b[39m\n\u001b[0;32m    164\u001b[0m \u001b[38;5;28;01mdef\u001b[39;00m \u001b[38;5;21mget_projects\u001b[39m(\u001b[38;5;28mself\u001b[39m):\n\u001b[0;32m    165\u001b[0m     \u001b[38;5;124;03m\"\"\"Get all projects.\u001b[39;00m\n\u001b[0;32m    166\u001b[0m \n\u001b[0;32m    167\u001b[0m \u001b[38;5;124;03m    # Returns\u001b[39;00m\n\u001b[0;32m    168\u001b[0m \u001b[38;5;124;03m        `List[Project]`: List of Project objects\u001b[39;00m\n\u001b[0;32m    169\u001b[0m \u001b[38;5;124;03m    \"\"\"\u001b[39;00m\n\u001b[1;32m--> 171\u001b[0m     \u001b[38;5;28;01mreturn\u001b[39;00m \u001b[38;5;28;43mself\u001b[39;49m\u001b[38;5;241;43m.\u001b[39;49m\u001b[43m_project_api\u001b[49m\u001b[38;5;241;43m.\u001b[39;49m\u001b[43m_get_projects\u001b[49m\u001b[43m(\u001b[49m\u001b[43m)\u001b[49m\n",
      "File \u001b[1;32m~\\.conda\\envs\\test\\lib\\site-packages\\hopsworks\\core\\project_api.py:54\u001b[0m, in \u001b[0;36mProjectApi._get_projects\u001b[1;34m(self)\u001b[0m\n\u001b[0;32m     52\u001b[0m projects \u001b[38;5;241m=\u001b[39m []\n\u001b[0;32m     53\u001b[0m \u001b[38;5;28;01mfor\u001b[39;00m project_team \u001b[38;5;129;01min\u001b[39;00m project_team_json:\n\u001b[1;32m---> 54\u001b[0m     projects\u001b[38;5;241m.\u001b[39mappend(\u001b[38;5;28;43mself\u001b[39;49m\u001b[38;5;241;43m.\u001b[39;49m\u001b[43m_get_project\u001b[49m\u001b[43m(\u001b[49m\u001b[43mproject_team\u001b[49m\u001b[43m[\u001b[49m\u001b[38;5;124;43m\"\u001b[39;49m\u001b[38;5;124;43mproject\u001b[39;49m\u001b[38;5;124;43m\"\u001b[39;49m\u001b[43m]\u001b[49m\u001b[43m[\u001b[49m\u001b[38;5;124;43m\"\u001b[39;49m\u001b[38;5;124;43mname\u001b[39;49m\u001b[38;5;124;43m\"\u001b[39;49m\u001b[43m]\u001b[49m\u001b[43m)\u001b[49m)\n\u001b[0;32m     55\u001b[0m \u001b[38;5;28;01mreturn\u001b[39;00m projects\n",
      "File \u001b[1;32m~\\.conda\\envs\\test\\lib\\site-packages\\hopsworks\\core\\project_api.py:74\u001b[0m, in \u001b[0;36mProjectApi._get_project\u001b[1;34m(self, name)\u001b[0m\n\u001b[0;32m     68\u001b[0m path_params \u001b[38;5;241m=\u001b[39m [\n\u001b[0;32m     69\u001b[0m     \u001b[38;5;124m\"\u001b[39m\u001b[38;5;124mproject\u001b[39m\u001b[38;5;124m\"\u001b[39m,\n\u001b[0;32m     70\u001b[0m     \u001b[38;5;124m\"\u001b[39m\u001b[38;5;124mgetProjectInfo\u001b[39m\u001b[38;5;124m\"\u001b[39m,\n\u001b[0;32m     71\u001b[0m     name,\n\u001b[0;32m     72\u001b[0m ]\n\u001b[0;32m     73\u001b[0m project_json \u001b[38;5;241m=\u001b[39m _client\u001b[38;5;241m.\u001b[39m_send_request(\u001b[38;5;124m\"\u001b[39m\u001b[38;5;124mGET\u001b[39m\u001b[38;5;124m\"\u001b[39m, path_params)\n\u001b[1;32m---> 74\u001b[0m \u001b[38;5;28;01mreturn\u001b[39;00m \u001b[43mproject\u001b[49m\u001b[38;5;241;43m.\u001b[39;49m\u001b[43mProject\u001b[49m\u001b[38;5;241;43m.\u001b[39;49m\u001b[43mfrom_response_json\u001b[49m\u001b[43m(\u001b[49m\u001b[43mproject_json\u001b[49m\u001b[43m)\u001b[49m\n",
      "File \u001b[1;32m~\\.conda\\envs\\test\\lib\\site-packages\\hopsworks\\project.py:61\u001b[0m, in \u001b[0;36mProject.from_response_json\u001b[1;34m(cls, json_dict)\u001b[0m\n\u001b[0;32m     59\u001b[0m \u001b[38;5;28;01mif\u001b[39;00m json_dict:\n\u001b[0;32m     60\u001b[0m     json_decamelized \u001b[38;5;241m=\u001b[39m humps\u001b[38;5;241m.\u001b[39mdecamelize(json_dict)\n\u001b[1;32m---> 61\u001b[0m     \u001b[38;5;28;01mreturn\u001b[39;00m \u001b[38;5;28mcls\u001b[39m(\u001b[38;5;241m*\u001b[39m\u001b[38;5;241m*\u001b[39mjson_decamelized)\n\u001b[0;32m     62\u001b[0m \u001b[38;5;28;01melse\u001b[39;00m:\n\u001b[0;32m     63\u001b[0m     \u001b[38;5;28;01mreturn\u001b[39;00m \u001b[38;5;28;01mNone\u001b[39;00m\n",
      "\u001b[1;31mTypeError\u001b[0m: __init__() got an unexpected keyword argument 'creation_status'"
     ]
    }
   ],
   "source": [
    "project = hopsworks.login()\n",
    "fs = project.get_feature_store()"
   ]
  },
  {
   "cell_type": "markdown",
   "id": "548a2746-67d0-4917-bb68-1514b481bc25",
   "metadata": {},
   "source": [
    "**Rolling Stats Features**"
   ]
  },
  {
   "cell_type": "code",
   "execution_count": null,
   "id": "40331ef1-e0ff-406e-862d-4deedbdc6bd0",
   "metadata": {},
   "outputs": [],
   "source": [
    "rolling_stats_fg = fs.get_or_create_feature_group(\n",
    "    name=\"rolling_stats\",\n",
    "    version=1,\n",
    "    description=\"Rolling averages and current win/lose streaks\",\n",
    "    primary_key=[\"GAME_ID\"],\n",
    ")"
   ]
  },
  {
   "cell_type": "code",
   "execution_count": null,
   "id": "c697be83-fae0-4e80-95d2-471b7233e4a7",
   "metadata": {},
   "outputs": [],
   "source": [
    "rolling_stats_fg.insert(games, write_options={\"wait_for_job\" : False})"
   ]
  },
  {
   "cell_type": "code",
   "execution_count": 6,
   "id": "eb66ddab-68c6-47aa-9c4d-5d7bea5a24bb",
   "metadata": {},
   "outputs": [
    {
     "ename": "NameError",
     "evalue": "name 'project' is not defined",
     "output_type": "error",
     "traceback": [
      "\u001b[1;31m---------------------------------------------------------------------------\u001b[0m",
      "\u001b[1;31mNameError\u001b[0m                                 Traceback (most recent call last)",
      "Cell \u001b[1;32mIn [6], line 1\u001b[0m\n\u001b[1;32m----> 1\u001b[0m \u001b[43mproject\u001b[49m\u001b[38;5;241m.\u001b[39mclose()\n",
      "\u001b[1;31mNameError\u001b[0m: name 'project' is not defined"
     ]
    }
   ],
   "source": [
    "project.close()"
   ]
  },
  {
   "cell_type": "code",
   "execution_count": null,
   "id": "b017a173-2cf0-4186-a40c-c0a36ff9744e",
   "metadata": {},
   "outputs": [],
   "source": []
  }
 ],
 "metadata": {
  "kernelspec": {
   "display_name": "Python 3 (ipykernel)",
   "language": "python",
   "name": "python3"
  },
  "language_info": {
   "codemirror_mode": {
    "name": "ipython",
    "version": 3
   },
   "file_extension": ".py",
   "mimetype": "text/x-python",
   "name": "python",
   "nbconvert_exporter": "python",
   "pygments_lexer": "ipython3",
   "version": "3.9.13"
  }
 },
 "nbformat": 4,
 "nbformat_minor": 5
}
