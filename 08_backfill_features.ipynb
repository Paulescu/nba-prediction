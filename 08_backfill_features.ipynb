{
 "cells": [
  {
   "cell_type": "code",
   "execution_count": 1,
   "id": "548fdd0a-cd73-40ff-9154-6ca6a3233947",
   "metadata": {},
   "outputs": [],
   "source": [
    "import os\n",
    "\n",
    "import pandas as pd\n",
    "import numpy as np\n",
    "\n",
    "import hopsworks\n",
    "\n",
    "from src.data_processing import (\n",
    "    process_games,\n",
    "    add_TARGET,\n",
    ")\n",
    "\n",
    "from src.feature_engineering import (\n",
    "    process_features,\n",
    ")\n",
    "\n",
    "from pathlib import Path  #for Windows/Linux compatibility\n",
    "DATAPATH = Path(r'data')\n",
    "\n"
   ]
  },
  {
   "cell_type": "code",
   "execution_count": 2,
   "id": "f5ae7431-32cc-4231-a586-6de7d271dab4",
   "metadata": {},
   "outputs": [],
   "source": [
    "try:\n",
    "    HOPSWORKS_API_KEY = os.environ['HOPSWORKS_API_KEY']\n",
    "except:\n",
    "    raise Exception('Set environment variable HOPSWORKS_API_KEY')"
   ]
  },
  {
   "cell_type": "markdown",
   "id": "e6e2fa64-2b05-4a16-afd4-ffde457317d3",
   "metadata": {},
   "source": [
    "### Get Data"
   ]
  },
  {
   "cell_type": "code",
   "execution_count": 3,
   "id": "b8d21056-c888-4435-a5be-1e024c91ec18",
   "metadata": {},
   "outputs": [],
   "source": [
    "games = pd.read_csv(DATAPATH / \"games.csv\")"
   ]
  },
  {
   "cell_type": "markdown",
   "id": "20f21020-f3bf-49b8-ab33-be63b470fbf8",
   "metadata": {},
   "source": [
    "### Data Processing"
   ]
  },
  {
   "cell_type": "code",
   "execution_count": 4,
   "id": "ebd6432f-d540-40cf-877a-944584b8ff55",
   "metadata": {},
   "outputs": [
    {
     "name": "stderr",
     "output_type": "stream",
     "text": [
      "SettingWithCopyWarning: \n",
      "A value is trying to be set on a copy of a slice from a DataFrame.\n",
      "Try using .loc[row_indexer,col_indexer] = value instead\n",
      "\n",
      "See the caveats in the documentation: https://pandas.pydata.org/pandas-docs/stable/user_guide/indexing.html#returning-a-view-versus-a-copy\n"
     ]
    }
   ],
   "source": [
    "games = process_games(games) \n",
    "games = add_TARGET(games)"
   ]
  },
  {
   "cell_type": "markdown",
   "id": "e48eeee6-f3b9-46c3-b425-5a198a76b95a",
   "metadata": {},
   "source": [
    "### Feature Engineering"
   ]
  },
  {
   "cell_type": "code",
   "execution_count": 5,
   "id": "2720f06c-e829-4d8c-8365-00aafdb43e62",
   "metadata": {},
   "outputs": [
    {
     "name": "stderr",
     "output_type": "stream",
     "text": [
      "SettingWithCopyWarning: \n",
      "A value is trying to be set on a copy of a slice from a DataFrame\n",
      "\n",
      "See the caveats in the documentation: https://pandas.pydata.org/pandas-docs/stable/user_guide/indexing.html#returning-a-view-versus-a-copy\n",
      "SettingWithCopyWarning: \n",
      "A value is trying to be set on a copy of a slice from a DataFrame\n",
      "\n",
      "See the caveats in the documentation: https://pandas.pydata.org/pandas-docs/stable/user_guide/indexing.html#returning-a-view-versus-a-copy\n"
     ]
    },
    {
     "name": "stdout",
     "output_type": "stream",
     "text": [
      "HOME_TEAM_ID\n",
      "['GAME_DATE_EST', 'GAME_ID', 'HOME_TEAM_ID', 'VISITOR_TEAM_ID', 'SEASON', 'PTS_home', 'FG_PCT_home', 'FT_PCT_home', 'FG3_PCT_home', 'AST_home', 'REB_home', 'PTS_away', 'FG_PCT_away', 'FT_PCT_away', 'FG3_PCT_away', 'AST_away', 'REB_away', 'HOME_TEAM_WINS', 'TARGET', 'MONTH', 'HOME_TEAM_WIN_STREAK', 'HOME_TEAM_WINS_AVG_LAST_3_HOME', 'HOME_TEAM_WINS_AVG_LAST_7_HOME', 'HOME_TEAM_WINS_AVG_LAST_10_HOME', 'HOME_PTS_home_AVG_LAST_3_HOME', 'HOME_PTS_home_AVG_LAST_7_HOME', 'HOME_PTS_home_AVG_LAST_10_HOME', 'HOME_FG_PCT_home_AVG_LAST_3_HOME', 'HOME_FG_PCT_home_AVG_LAST_7_HOME', 'HOME_FG_PCT_home_AVG_LAST_10_HOME', 'HOME_FT_PCT_home_AVG_LAST_3_HOME', 'HOME_FT_PCT_home_AVG_LAST_7_HOME', 'HOME_FT_PCT_home_AVG_LAST_10_HOME', 'HOME_FG3_PCT_home_AVG_LAST_3_HOME', 'HOME_FG3_PCT_home_AVG_LAST_7_HOME', 'HOME_FG3_PCT_home_AVG_LAST_10_HOME', 'HOME_AST_home_AVG_LAST_3_HOME', 'HOME_AST_home_AVG_LAST_7_HOME', 'HOME_AST_home_AVG_LAST_10_HOME', 'HOME_REB_home_AVG_LAST_3_HOME', 'HOME_REB_home_AVG_LAST_7_HOME', 'HOME_REB_home_AVG_LAST_10_HOME']\n",
      "['HOME_PTS_home_AVG_LAST_3_HOME', 'HOME_PTS_home_AVG_LAST_7_HOME', 'HOME_PTS_home_AVG_LAST_10_HOME', 'HOME_FG_PCT_home_AVG_LAST_3_HOME', 'HOME_FG_PCT_home_AVG_LAST_7_HOME', 'HOME_FG_PCT_home_AVG_LAST_10_HOME', 'HOME_FT_PCT_home_AVG_LAST_3_HOME', 'HOME_FT_PCT_home_AVG_LAST_7_HOME', 'HOME_FT_PCT_home_AVG_LAST_10_HOME', 'HOME_FG3_PCT_home_AVG_LAST_3_HOME', 'HOME_FG3_PCT_home_AVG_LAST_7_HOME', 'HOME_FG3_PCT_home_AVG_LAST_10_HOME', 'HOME_AST_home_AVG_LAST_3_HOME', 'HOME_AST_home_AVG_LAST_7_HOME', 'HOME_AST_home_AVG_LAST_10_HOME', 'HOME_REB_home_AVG_LAST_3_HOME', 'HOME_REB_home_AVG_LAST_7_HOME', 'HOME_REB_home_AVG_LAST_10_HOME', 'HOME_TEAM_ID', 'GAME_DATE_EST']\n",
      "VISITOR_TEAM_ID\n",
      "['GAME_DATE_EST', 'GAME_ID', 'HOME_TEAM_ID', 'VISITOR_TEAM_ID', 'SEASON', 'PTS_home', 'FG_PCT_home', 'FT_PCT_home', 'FG3_PCT_home', 'AST_home', 'REB_home', 'PTS_away', 'FG_PCT_away', 'FT_PCT_away', 'FG3_PCT_away', 'AST_away', 'REB_away', 'HOME_TEAM_WINS', 'TARGET', 'MONTH', 'HOME_TEAM_WIN_STREAK', 'HOME_TEAM_WINS_AVG_LAST_3_HOME', 'HOME_TEAM_WINS_AVG_LAST_7_HOME', 'HOME_TEAM_WINS_AVG_LAST_10_HOME', 'HOME_PTS_home_AVG_LAST_3_HOME', 'HOME_PTS_home_AVG_LAST_7_HOME', 'HOME_PTS_home_AVG_LAST_10_HOME', 'HOME_FG_PCT_home_AVG_LAST_3_HOME', 'HOME_FG_PCT_home_AVG_LAST_7_HOME', 'HOME_FG_PCT_home_AVG_LAST_10_HOME', 'HOME_FT_PCT_home_AVG_LAST_3_HOME', 'HOME_FT_PCT_home_AVG_LAST_7_HOME', 'HOME_FT_PCT_home_AVG_LAST_10_HOME', 'HOME_FG3_PCT_home_AVG_LAST_3_HOME', 'HOME_FG3_PCT_home_AVG_LAST_7_HOME', 'HOME_FG3_PCT_home_AVG_LAST_10_HOME', 'HOME_AST_home_AVG_LAST_3_HOME', 'HOME_AST_home_AVG_LAST_7_HOME', 'HOME_AST_home_AVG_LAST_10_HOME', 'HOME_REB_home_AVG_LAST_3_HOME', 'HOME_REB_home_AVG_LAST_7_HOME', 'HOME_REB_home_AVG_LAST_10_HOME', 'HOME_PTS_home_AVG_LAST_3_HOME_MINUS_LEAGUE_AVG', 'HOME_PTS_home_AVG_LAST_7_HOME_MINUS_LEAGUE_AVG', 'HOME_PTS_home_AVG_LAST_10_HOME_MINUS_LEAGUE_AVG', 'HOME_FG_PCT_home_AVG_LAST_3_HOME_MINUS_LEAGUE_AVG', 'HOME_FG_PCT_home_AVG_LAST_7_HOME_MINUS_LEAGUE_AVG', 'HOME_FG_PCT_home_AVG_LAST_10_HOME_MINUS_LEAGUE_AVG', 'HOME_FT_PCT_home_AVG_LAST_3_HOME_MINUS_LEAGUE_AVG', 'HOME_FT_PCT_home_AVG_LAST_7_HOME_MINUS_LEAGUE_AVG', 'HOME_FT_PCT_home_AVG_LAST_10_HOME_MINUS_LEAGUE_AVG', 'HOME_FG3_PCT_home_AVG_LAST_3_HOME_MINUS_LEAGUE_AVG', 'HOME_FG3_PCT_home_AVG_LAST_7_HOME_MINUS_LEAGUE_AVG', 'HOME_FG3_PCT_home_AVG_LAST_10_HOME_MINUS_LEAGUE_AVG', 'HOME_AST_home_AVG_LAST_3_HOME_MINUS_LEAGUE_AVG', 'HOME_AST_home_AVG_LAST_7_HOME_MINUS_LEAGUE_AVG', 'HOME_AST_home_AVG_LAST_10_HOME_MINUS_LEAGUE_AVG', 'HOME_REB_home_AVG_LAST_3_HOME_MINUS_LEAGUE_AVG', 'HOME_REB_home_AVG_LAST_7_HOME_MINUS_LEAGUE_AVG', 'HOME_REB_home_AVG_LAST_10_HOME_MINUS_LEAGUE_AVG', 'VISITOR_TEAM_WIN_STREAK', 'VISITOR_TEAM_WINS_AVG_LAST_3_VISITOR', 'VISITOR_TEAM_WINS_AVG_LAST_7_VISITOR', 'VISITOR_TEAM_WINS_AVG_LAST_10_VISITOR', 'VISITOR_PTS_away_AVG_LAST_3_VISITOR', 'VISITOR_PTS_away_AVG_LAST_7_VISITOR', 'VISITOR_PTS_away_AVG_LAST_10_VISITOR', 'VISITOR_FG_PCT_away_AVG_LAST_3_VISITOR', 'VISITOR_FG_PCT_away_AVG_LAST_7_VISITOR', 'VISITOR_FG_PCT_away_AVG_LAST_10_VISITOR', 'VISITOR_FT_PCT_away_AVG_LAST_3_VISITOR', 'VISITOR_FT_PCT_away_AVG_LAST_7_VISITOR', 'VISITOR_FT_PCT_away_AVG_LAST_10_VISITOR', 'VISITOR_FG3_PCT_away_AVG_LAST_3_VISITOR', 'VISITOR_FG3_PCT_away_AVG_LAST_7_VISITOR', 'VISITOR_FG3_PCT_away_AVG_LAST_10_VISITOR', 'VISITOR_AST_away_AVG_LAST_3_VISITOR', 'VISITOR_AST_away_AVG_LAST_7_VISITOR', 'VISITOR_AST_away_AVG_LAST_10_VISITOR', 'VISITOR_REB_away_AVG_LAST_3_VISITOR', 'VISITOR_REB_away_AVG_LAST_7_VISITOR', 'VISITOR_REB_away_AVG_LAST_10_VISITOR']\n",
      "['VISITOR_TEAM_WINS_AVG_LAST_3_VISITOR', 'VISITOR_TEAM_WINS_AVG_LAST_7_VISITOR', 'VISITOR_TEAM_WINS_AVG_LAST_10_VISITOR', 'VISITOR_PTS_away_AVG_LAST_3_VISITOR', 'VISITOR_PTS_away_AVG_LAST_7_VISITOR', 'VISITOR_PTS_away_AVG_LAST_10_VISITOR', 'VISITOR_FG_PCT_away_AVG_LAST_3_VISITOR', 'VISITOR_FG_PCT_away_AVG_LAST_7_VISITOR', 'VISITOR_FG_PCT_away_AVG_LAST_10_VISITOR', 'VISITOR_FT_PCT_away_AVG_LAST_3_VISITOR', 'VISITOR_FT_PCT_away_AVG_LAST_7_VISITOR', 'VISITOR_FT_PCT_away_AVG_LAST_10_VISITOR', 'VISITOR_FG3_PCT_away_AVG_LAST_3_VISITOR', 'VISITOR_FG3_PCT_away_AVG_LAST_7_VISITOR', 'VISITOR_FG3_PCT_away_AVG_LAST_10_VISITOR', 'VISITOR_AST_away_AVG_LAST_3_VISITOR', 'VISITOR_AST_away_AVG_LAST_7_VISITOR', 'VISITOR_AST_away_AVG_LAST_10_VISITOR', 'VISITOR_REB_away_AVG_LAST_3_VISITOR', 'VISITOR_REB_away_AVG_LAST_7_VISITOR', 'VISITOR_REB_away_AVG_LAST_10_VISITOR', 'VISITOR_TEAM_ID', 'GAME_DATE_EST']\n"
     ]
    },
    {
     "name": "stderr",
     "output_type": "stream",
     "text": [
      "SettingWithCopyWarning: \n",
      "A value is trying to be set on a copy of a slice from a DataFrame\n",
      "\n",
      "See the caveats in the documentation: https://pandas.pydata.org/pandas-docs/stable/user_guide/indexing.html#returning-a-view-versus-a-copy\n",
      "SettingWithCopyWarning: \n",
      "A value is trying to be set on a copy of a slice from a DataFrame\n",
      "\n",
      "See the caveats in the documentation: https://pandas.pydata.org/pandas-docs/stable/user_guide/indexing.html#returning-a-view-versus-a-copy\n",
      "SettingWithCopyWarning: \n",
      "A value is trying to be set on a copy of a slice from a DataFrame\n",
      "\n",
      "See the caveats in the documentation: https://pandas.pydata.org/pandas-docs/stable/user_guide/indexing.html#returning-a-view-versus-a-copy\n"
     ]
    },
    {
     "name": "stdout",
     "output_type": "stream",
     "text": [
      "['GAME_DATE_EST', 'GAME_ID', 'TEAM1', 'TEAM1_home', 'TEAM2', 'TEAM1_win', 'SEASON', 'PTS', 'FG_PCT', 'FT_PCT', 'FG3_PCT', 'AST', 'REB', 'MATCHUP_WINPCT_3', 'MATCHUP_WINPCT_7', 'MATCHUP_WINPCT_10', 'MATCHUP_WIN_STREAK', 'WIN_STREAK', 'HOME_AWAY_STREAK', 'TEAM1_win_AVG_LAST_3_ALL', 'TEAM1_win_AVG_LAST_7_ALL', 'TEAM1_win_AVG_LAST_10_ALL', 'TEAM1_win_AVG_LAST_15_ALL', 'PTS_AVG_LAST_3_ALL', 'PTS_AVG_LAST_7_ALL', 'PTS_AVG_LAST_10_ALL', 'PTS_AVG_LAST_15_ALL', 'FG_PCT_AVG_LAST_3_ALL', 'FG_PCT_AVG_LAST_7_ALL', 'FG_PCT_AVG_LAST_10_ALL', 'FG_PCT_AVG_LAST_15_ALL', 'FT_PCT_AVG_LAST_3_ALL', 'FT_PCT_AVG_LAST_7_ALL', 'FT_PCT_AVG_LAST_10_ALL', 'FT_PCT_AVG_LAST_15_ALL', 'FG3_PCT_AVG_LAST_3_ALL', 'FG3_PCT_AVG_LAST_7_ALL', 'FG3_PCT_AVG_LAST_10_ALL', 'FG3_PCT_AVG_LAST_15_ALL', 'AST_AVG_LAST_3_ALL', 'AST_AVG_LAST_7_ALL', 'AST_AVG_LAST_10_ALL', 'AST_AVG_LAST_15_ALL', 'REB_AVG_LAST_3_ALL', 'REB_AVG_LAST_7_ALL', 'REB_AVG_LAST_10_ALL', 'REB_AVG_LAST_15_ALL']\n",
      "['PTS_AVG_LAST_3_ALL', 'PTS_AVG_LAST_7_ALL', 'PTS_AVG_LAST_10_ALL', 'PTS_AVG_LAST_15_ALL', 'FG_PCT_AVG_LAST_3_ALL', 'FG_PCT_AVG_LAST_7_ALL', 'FG_PCT_AVG_LAST_10_ALL', 'FG_PCT_AVG_LAST_15_ALL', 'FT_PCT_AVG_LAST_3_ALL', 'FT_PCT_AVG_LAST_7_ALL', 'FT_PCT_AVG_LAST_10_ALL', 'FT_PCT_AVG_LAST_15_ALL', 'FG3_PCT_AVG_LAST_3_ALL', 'FG3_PCT_AVG_LAST_7_ALL', 'FG3_PCT_AVG_LAST_10_ALL', 'FG3_PCT_AVG_LAST_15_ALL', 'AST_AVG_LAST_3_ALL', 'AST_AVG_LAST_7_ALL', 'AST_AVG_LAST_10_ALL', 'AST_AVG_LAST_15_ALL', 'REB_AVG_LAST_3_ALL', 'REB_AVG_LAST_7_ALL', 'REB_AVG_LAST_10_ALL', 'REB_AVG_LAST_15_ALL', 'TEAM1', 'GAME_DATE_EST']\n"
     ]
    }
   ],
   "source": [
    "# Feature engineering to add: \n",
    "    # rolling averages of key stats, \n",
    "    # win/lose streaks, \n",
    "    # home/away streaks, \n",
    "    # specific matchup (team X vs team Y) rolling averages and streaks\n",
    "\n",
    "games = process_features(games)"
   ]
  },
  {
   "cell_type": "markdown",
   "id": "3a088979-09aa-4d02-bc4f-df2d77e7d45c",
   "metadata": {},
   "source": [
    "### Backfill Feature Store"
   ]
  },
  {
   "cell_type": "code",
   "execution_count": 6,
   "id": "ba69a88c-691e-4f8d-b68e-e79f5582a939",
   "metadata": {},
   "outputs": [
    {
     "name": "stdout",
     "output_type": "stream",
     "text": [
      "Connected. Call `.close()` to terminate connection gracefully.\n",
      "\n",
      "Logged in to project, explore it here https://c.app.hopsworks.ai:443/p/3350\n"
     ]
    },
    {
     "name": "stderr",
     "output_type": "stream",
     "text": [
      "DeprecationWarning: the imp module is deprecated in favour of importlib; see the module's documentation for alternative uses\n"
     ]
    },
    {
     "name": "stdout",
     "output_type": "stream",
     "text": [
      "Connected. Call `.close()` to terminate connection gracefully.\n"
     ]
    }
   ],
   "source": [
    "project = hopsworks.login(api_key_value=HOPSWORKS_API_KEY)\n",
    "fs = project.get_feature_store()"
   ]
  },
  {
   "cell_type": "markdown",
   "id": "548a2746-67d0-4917-bb68-1514b481bc25",
   "metadata": {},
   "source": [
    "**Rolling Stats Features**"
   ]
  },
  {
   "cell_type": "code",
   "execution_count": 7,
   "id": "40331ef1-e0ff-406e-862d-4deedbdc6bd0",
   "metadata": {},
   "outputs": [],
   "source": [
    "rolling_stats_fg = fs.get_or_create_feature_group(\n",
    "    name=\"rolling_stats\",\n",
    "    version=1,\n",
    "    description=\"Rolling averages and current win/lose streaks\",\n",
    "    #primary_key=[\"GAME_ID\"],\n",
    "    primary_key = ['GAME_DATE_EST','HOME_TEAM_ID'],\n",
    "    event_time=\"game_date_est\", #must be lowercase\n",
    ")"
   ]
  },
  {
   "cell_type": "code",
   "execution_count": 8,
   "id": "c697be83-fae0-4e80-95d2-471b7233e4a7",
   "metadata": {},
   "outputs": [
    {
     "name": "stderr",
     "output_type": "stream",
     "text": [
      "FeatureGroupWarning: The ingested dataframe contains upper case letters in feature names: `['GAME_DATE_EST', 'GAME_ID', 'HOME_TEAM_ID', 'VISITOR_TEAM_ID', 'SEASON', 'TARGET', 'MONTH', 'HOME_TEAM_WIN_STREAK', 'HOME_TEAM_WINS_AVG_LAST_3_HOME', 'HOME_TEAM_WINS_AVG_LAST_7_HOME', 'HOME_TEAM_WINS_AVG_LAST_10_HOME', 'HOME_PTS_home_AVG_LAST_3_HOME', 'HOME_PTS_home_AVG_LAST_7_HOME', 'HOME_PTS_home_AVG_LAST_10_HOME', 'HOME_FG_PCT_home_AVG_LAST_3_HOME', 'HOME_FG_PCT_home_AVG_LAST_7_HOME', 'HOME_FG_PCT_home_AVG_LAST_10_HOME', 'HOME_FT_PCT_home_AVG_LAST_3_HOME', 'HOME_FT_PCT_home_AVG_LAST_7_HOME', 'HOME_FT_PCT_home_AVG_LAST_10_HOME', 'HOME_FG3_PCT_home_AVG_LAST_3_HOME', 'HOME_FG3_PCT_home_AVG_LAST_7_HOME', 'HOME_FG3_PCT_home_AVG_LAST_10_HOME', 'HOME_AST_home_AVG_LAST_3_HOME', 'HOME_AST_home_AVG_LAST_7_HOME', 'HOME_AST_home_AVG_LAST_10_HOME', 'HOME_REB_home_AVG_LAST_3_HOME', 'HOME_REB_home_AVG_LAST_7_HOME', 'HOME_REB_home_AVG_LAST_10_HOME', 'HOME_PTS_home_AVG_LAST_3_HOME_MINUS_LEAGUE_AVG', 'HOME_PTS_home_AVG_LAST_7_HOME_MINUS_LEAGUE_AVG', 'HOME_PTS_home_AVG_LAST_10_HOME_MINUS_LEAGUE_AVG', 'HOME_FG_PCT_home_AVG_LAST_3_HOME_MINUS_LEAGUE_AVG', 'HOME_FG_PCT_home_AVG_LAST_7_HOME_MINUS_LEAGUE_AVG', 'HOME_FG_PCT_home_AVG_LAST_10_HOME_MINUS_LEAGUE_AVG', 'HOME_FT_PCT_home_AVG_LAST_3_HOME_MINUS_LEAGUE_AVG', 'HOME_FT_PCT_home_AVG_LAST_7_HOME_MINUS_LEAGUE_AVG', 'HOME_FT_PCT_home_AVG_LAST_10_HOME_MINUS_LEAGUE_AVG', 'HOME_FG3_PCT_home_AVG_LAST_3_HOME_MINUS_LEAGUE_AVG', 'HOME_FG3_PCT_home_AVG_LAST_7_HOME_MINUS_LEAGUE_AVG', 'HOME_FG3_PCT_home_AVG_LAST_10_HOME_MINUS_LEAGUE_AVG', 'HOME_AST_home_AVG_LAST_3_HOME_MINUS_LEAGUE_AVG', 'HOME_AST_home_AVG_LAST_7_HOME_MINUS_LEAGUE_AVG', 'HOME_AST_home_AVG_LAST_10_HOME_MINUS_LEAGUE_AVG', 'HOME_REB_home_AVG_LAST_3_HOME_MINUS_LEAGUE_AVG', 'HOME_REB_home_AVG_LAST_7_HOME_MINUS_LEAGUE_AVG', 'HOME_REB_home_AVG_LAST_10_HOME_MINUS_LEAGUE_AVG', 'VISITOR_TEAM_WIN_STREAK', 'VISITOR_TEAM_WINS_AVG_LAST_3_VISITOR', 'VISITOR_TEAM_WINS_AVG_LAST_7_VISITOR', 'VISITOR_TEAM_WINS_AVG_LAST_10_VISITOR', 'VISITOR_PTS_away_AVG_LAST_3_VISITOR', 'VISITOR_PTS_away_AVG_LAST_7_VISITOR', 'VISITOR_PTS_away_AVG_LAST_10_VISITOR', 'VISITOR_FG_PCT_away_AVG_LAST_3_VISITOR', 'VISITOR_FG_PCT_away_AVG_LAST_7_VISITOR', 'VISITOR_FG_PCT_away_AVG_LAST_10_VISITOR', 'VISITOR_FT_PCT_away_AVG_LAST_3_VISITOR', 'VISITOR_FT_PCT_away_AVG_LAST_7_VISITOR', 'VISITOR_FT_PCT_away_AVG_LAST_10_VISITOR', 'VISITOR_FG3_PCT_away_AVG_LAST_3_VISITOR', 'VISITOR_FG3_PCT_away_AVG_LAST_7_VISITOR', 'VISITOR_FG3_PCT_away_AVG_LAST_10_VISITOR', 'VISITOR_AST_away_AVG_LAST_3_VISITOR', 'VISITOR_AST_away_AVG_LAST_7_VISITOR', 'VISITOR_AST_away_AVG_LAST_10_VISITOR', 'VISITOR_REB_away_AVG_LAST_3_VISITOR', 'VISITOR_REB_away_AVG_LAST_7_VISITOR', 'VISITOR_REB_away_AVG_LAST_10_VISITOR', 'VISITOR_TEAM_WINS_AVG_LAST_3_VISITOR_MINUS_LEAGUE_AVG', 'VISITOR_TEAM_WINS_AVG_LAST_7_VISITOR_MINUS_LEAGUE_AVG', 'VISITOR_TEAM_WINS_AVG_LAST_10_VISITOR_MINUS_LEAGUE_AVG', 'VISITOR_PTS_away_AVG_LAST_3_VISITOR_MINUS_LEAGUE_AVG', 'VISITOR_PTS_away_AVG_LAST_7_VISITOR_MINUS_LEAGUE_AVG', 'VISITOR_PTS_away_AVG_LAST_10_VISITOR_MINUS_LEAGUE_AVG', 'VISITOR_FG_PCT_away_AVG_LAST_3_VISITOR_MINUS_LEAGUE_AVG', 'VISITOR_FG_PCT_away_AVG_LAST_7_VISITOR_MINUS_LEAGUE_AVG', 'VISITOR_FG_PCT_away_AVG_LAST_10_VISITOR_MINUS_LEAGUE_AVG', 'VISITOR_FT_PCT_away_AVG_LAST_3_VISITOR_MINUS_LEAGUE_AVG', 'VISITOR_FT_PCT_away_AVG_LAST_7_VISITOR_MINUS_LEAGUE_AVG', 'VISITOR_FT_PCT_away_AVG_LAST_10_VISITOR_MINUS_LEAGUE_AVG', 'VISITOR_FG3_PCT_away_AVG_LAST_3_VISITOR_MINUS_LEAGUE_AVG', 'VISITOR_FG3_PCT_away_AVG_LAST_7_VISITOR_MINUS_LEAGUE_AVG', 'VISITOR_FG3_PCT_away_AVG_LAST_10_VISITOR_MINUS_LEAGUE_AVG', 'VISITOR_AST_away_AVG_LAST_3_VISITOR_MINUS_LEAGUE_AVG', 'VISITOR_AST_away_AVG_LAST_7_VISITOR_MINUS_LEAGUE_AVG', 'VISITOR_AST_away_AVG_LAST_10_VISITOR_MINUS_LEAGUE_AVG', 'VISITOR_REB_away_AVG_LAST_3_VISITOR_MINUS_LEAGUE_AVG', 'VISITOR_REB_away_AVG_LAST_7_VISITOR_MINUS_LEAGUE_AVG', 'VISITOR_REB_away_AVG_LAST_10_VISITOR_MINUS_LEAGUE_AVG', 'MATCHUP_WINPCT_3_x', 'MATCHUP_WINPCT_7_x', 'MATCHUP_WINPCT_10_x', 'MATCHUP_WIN_STREAK_x', 'WIN_STREAK_x', 'HOME_AWAY_STREAK_x', 'TEAM1_win_AVG_LAST_3_ALL_x', 'TEAM1_win_AVG_LAST_7_ALL_x', 'TEAM1_win_AVG_LAST_10_ALL_x', 'TEAM1_win_AVG_LAST_15_ALL_x', 'PTS_AVG_LAST_3_ALL_x', 'PTS_AVG_LAST_7_ALL_x', 'PTS_AVG_LAST_10_ALL_x', 'PTS_AVG_LAST_15_ALL_x', 'FG_PCT_AVG_LAST_3_ALL_x', 'FG_PCT_AVG_LAST_7_ALL_x', 'FG_PCT_AVG_LAST_10_ALL_x', 'FG_PCT_AVG_LAST_15_ALL_x', 'FT_PCT_AVG_LAST_3_ALL_x', 'FT_PCT_AVG_LAST_7_ALL_x', 'FT_PCT_AVG_LAST_10_ALL_x', 'FT_PCT_AVG_LAST_15_ALL_x', 'FG3_PCT_AVG_LAST_3_ALL_x', 'FG3_PCT_AVG_LAST_7_ALL_x', 'FG3_PCT_AVG_LAST_10_ALL_x', 'FG3_PCT_AVG_LAST_15_ALL_x', 'AST_AVG_LAST_3_ALL_x', 'AST_AVG_LAST_7_ALL_x', 'AST_AVG_LAST_10_ALL_x', 'AST_AVG_LAST_15_ALL_x', 'REB_AVG_LAST_3_ALL_x', 'REB_AVG_LAST_7_ALL_x', 'REB_AVG_LAST_10_ALL_x', 'REB_AVG_LAST_15_ALL_x', 'PTS_AVG_LAST_3_ALL_MINUS_LEAGUE_AVG_x', 'PTS_AVG_LAST_7_ALL_MINUS_LEAGUE_AVG_x', 'PTS_AVG_LAST_10_ALL_MINUS_LEAGUE_AVG_x', 'PTS_AVG_LAST_15_ALL_MINUS_LEAGUE_AVG_x', 'FG_PCT_AVG_LAST_3_ALL_MINUS_LEAGUE_AVG_x', 'FG_PCT_AVG_LAST_7_ALL_MINUS_LEAGUE_AVG_x', 'FG_PCT_AVG_LAST_10_ALL_MINUS_LEAGUE_AVG_x', 'FG_PCT_AVG_LAST_15_ALL_MINUS_LEAGUE_AVG_x', 'FT_PCT_AVG_LAST_3_ALL_MINUS_LEAGUE_AVG_x', 'FT_PCT_AVG_LAST_7_ALL_MINUS_LEAGUE_AVG_x', 'FT_PCT_AVG_LAST_10_ALL_MINUS_LEAGUE_AVG_x', 'FT_PCT_AVG_LAST_15_ALL_MINUS_LEAGUE_AVG_x', 'FG3_PCT_AVG_LAST_3_ALL_MINUS_LEAGUE_AVG_x', 'FG3_PCT_AVG_LAST_7_ALL_MINUS_LEAGUE_AVG_x', 'FG3_PCT_AVG_LAST_10_ALL_MINUS_LEAGUE_AVG_x', 'FG3_PCT_AVG_LAST_15_ALL_MINUS_LEAGUE_AVG_x', 'AST_AVG_LAST_3_ALL_MINUS_LEAGUE_AVG_x', 'AST_AVG_LAST_7_ALL_MINUS_LEAGUE_AVG_x', 'AST_AVG_LAST_10_ALL_MINUS_LEAGUE_AVG_x', 'AST_AVG_LAST_15_ALL_MINUS_LEAGUE_AVG_x', 'REB_AVG_LAST_3_ALL_MINUS_LEAGUE_AVG_x', 'REB_AVG_LAST_7_ALL_MINUS_LEAGUE_AVG_x', 'REB_AVG_LAST_10_ALL_MINUS_LEAGUE_AVG_x', 'REB_AVG_LAST_15_ALL_MINUS_LEAGUE_AVG_x', 'WIN_STREAK_y', 'HOME_AWAY_STREAK_y', 'TEAM1_win_AVG_LAST_3_ALL_y', 'TEAM1_win_AVG_LAST_7_ALL_y', 'TEAM1_win_AVG_LAST_10_ALL_y', 'TEAM1_win_AVG_LAST_15_ALL_y', 'PTS_AVG_LAST_3_ALL_y', 'PTS_AVG_LAST_7_ALL_y', 'PTS_AVG_LAST_10_ALL_y', 'PTS_AVG_LAST_15_ALL_y', 'FG_PCT_AVG_LAST_3_ALL_y', 'FG_PCT_AVG_LAST_7_ALL_y', 'FG_PCT_AVG_LAST_10_ALL_y', 'FG_PCT_AVG_LAST_15_ALL_y', 'FT_PCT_AVG_LAST_3_ALL_y', 'FT_PCT_AVG_LAST_7_ALL_y', 'FT_PCT_AVG_LAST_10_ALL_y', 'FT_PCT_AVG_LAST_15_ALL_y', 'FG3_PCT_AVG_LAST_3_ALL_y', 'FG3_PCT_AVG_LAST_7_ALL_y', 'FG3_PCT_AVG_LAST_10_ALL_y', 'FG3_PCT_AVG_LAST_15_ALL_y', 'AST_AVG_LAST_3_ALL_y', 'AST_AVG_LAST_7_ALL_y', 'AST_AVG_LAST_10_ALL_y', 'AST_AVG_LAST_15_ALL_y', 'REB_AVG_LAST_3_ALL_y', 'REB_AVG_LAST_7_ALL_y', 'REB_AVG_LAST_10_ALL_y', 'REB_AVG_LAST_15_ALL_y', 'PTS_AVG_LAST_3_ALL_MINUS_LEAGUE_AVG_y', 'PTS_AVG_LAST_7_ALL_MINUS_LEAGUE_AVG_y', 'PTS_AVG_LAST_10_ALL_MINUS_LEAGUE_AVG_y', 'PTS_AVG_LAST_15_ALL_MINUS_LEAGUE_AVG_y', 'FG_PCT_AVG_LAST_3_ALL_MINUS_LEAGUE_AVG_y', 'FG_PCT_AVG_LAST_7_ALL_MINUS_LEAGUE_AVG_y', 'FG_PCT_AVG_LAST_10_ALL_MINUS_LEAGUE_AVG_y', 'FG_PCT_AVG_LAST_15_ALL_MINUS_LEAGUE_AVG_y', 'FT_PCT_AVG_LAST_3_ALL_MINUS_LEAGUE_AVG_y', 'FT_PCT_AVG_LAST_7_ALL_MINUS_LEAGUE_AVG_y', 'FT_PCT_AVG_LAST_10_ALL_MINUS_LEAGUE_AVG_y', 'FT_PCT_AVG_LAST_15_ALL_MINUS_LEAGUE_AVG_y', 'FG3_PCT_AVG_LAST_3_ALL_MINUS_LEAGUE_AVG_y', 'FG3_PCT_AVG_LAST_7_ALL_MINUS_LEAGUE_AVG_y', 'FG3_PCT_AVG_LAST_10_ALL_MINUS_LEAGUE_AVG_y', 'FG3_PCT_AVG_LAST_15_ALL_MINUS_LEAGUE_AVG_y', 'AST_AVG_LAST_3_ALL_MINUS_LEAGUE_AVG_y', 'AST_AVG_LAST_7_ALL_MINUS_LEAGUE_AVG_y', 'AST_AVG_LAST_10_ALL_MINUS_LEAGUE_AVG_y', 'AST_AVG_LAST_15_ALL_MINUS_LEAGUE_AVG_y', 'REB_AVG_LAST_3_ALL_MINUS_LEAGUE_AVG_y', 'REB_AVG_LAST_7_ALL_MINUS_LEAGUE_AVG_y', 'REB_AVG_LAST_10_ALL_MINUS_LEAGUE_AVG_y', 'REB_AVG_LAST_15_ALL_MINUS_LEAGUE_AVG_y', 'WIN_STREAK_x_minus_y', 'HOME_AWAY_STREAK_x_minus_y', 'TEAM1_win_AVG_LAST_3_ALL_x_minus_y', 'TEAM1_win_AVG_LAST_7_ALL_x_minus_y', 'TEAM1_win_AVG_LAST_10_ALL_x_minus_y', 'TEAM1_win_AVG_LAST_15_ALL_x_minus_y', 'PTS_AVG_LAST_3_ALL_x_minus_y', 'PTS_AVG_LAST_7_ALL_x_minus_y', 'PTS_AVG_LAST_10_ALL_x_minus_y', 'PTS_AVG_LAST_15_ALL_x_minus_y', 'FG_PCT_AVG_LAST_3_ALL_x_minus_y', 'FG_PCT_AVG_LAST_7_ALL_x_minus_y', 'FG_PCT_AVG_LAST_10_ALL_x_minus_y', 'FG_PCT_AVG_LAST_15_ALL_x_minus_y', 'FT_PCT_AVG_LAST_3_ALL_x_minus_y', 'FT_PCT_AVG_LAST_7_ALL_x_minus_y', 'FT_PCT_AVG_LAST_10_ALL_x_minus_y', 'FT_PCT_AVG_LAST_15_ALL_x_minus_y', 'FG3_PCT_AVG_LAST_3_ALL_x_minus_y', 'FG3_PCT_AVG_LAST_7_ALL_x_minus_y', 'FG3_PCT_AVG_LAST_10_ALL_x_minus_y', 'FG3_PCT_AVG_LAST_15_ALL_x_minus_y', 'AST_AVG_LAST_3_ALL_x_minus_y', 'AST_AVG_LAST_7_ALL_x_minus_y', 'AST_AVG_LAST_10_ALL_x_minus_y', 'AST_AVG_LAST_15_ALL_x_minus_y', 'REB_AVG_LAST_3_ALL_x_minus_y', 'REB_AVG_LAST_7_ALL_x_minus_y', 'REB_AVG_LAST_10_ALL_x_minus_y', 'REB_AVG_LAST_15_ALL_x_minus_y']`. Feature names are sanitized to lower case in the feature store.\n"
     ]
    },
    {
     "data": {
      "application/json": {
       "ascii": false,
       "bar_format": "{desc}: {percentage:.2f}% |{bar}| Rows {n_fmt}/{total_fmt} | Elapsed Time: {elapsed} | Remaining Time: {remaining}",
       "colour": null,
       "elapsed": 0.007999658584594727,
       "initial": 0,
       "n": 0,
       "ncols": null,
       "nrows": null,
       "postfix": null,
       "prefix": "Uploading Dataframe",
       "rate": null,
       "total": 22547,
       "unit": "it",
       "unit_divisor": 1000,
       "unit_scale": false
      },
      "application/vnd.jupyter.widget-view+json": {
       "model_id": "2552a4bbb0704355b0217925ecf6e7b0",
       "version_major": 2,
       "version_minor": 0
      },
      "text/plain": [
       "Uploading Dataframe: 0.00% |          | Rows 0/22547 | Elapsed Time: 00:00 | Remaining Time: ?"
      ]
     },
     "metadata": {},
     "output_type": "display_data"
    },
    {
     "name": "stdout",
     "output_type": "stream",
     "text": [
      "Launching offline feature group backfill job...\n",
      "Backfill Job started successfully, you can follow the progress at \n",
      "https://c.app.hopsworks.ai/p/3350/jobs/named/rolling_stats_1_offline_fg_backfill/executions\n"
     ]
    },
    {
     "data": {
      "text/plain": [
       "(<hsfs.core.job.Job at 0x25f75cd4220>, None)"
      ]
     },
     "execution_count": 8,
     "metadata": {},
     "output_type": "execute_result"
    }
   ],
   "source": [
    "rolling_stats_fg.insert(games, write_options={\"wait_for_job\" : False})"
   ]
  },
  {
   "cell_type": "code",
   "execution_count": null,
   "id": "960d4841-3c9b-4393-b915-ea7459a0fecb",
   "metadata": {},
   "outputs": [],
   "source": []
  }
 ],
 "metadata": {
  "kernelspec": {
   "display_name": "Python 3.9.7 ('nba4': venv)",
   "language": "python",
   "name": "python3"
  },
  "language_info": {
   "codemirror_mode": {
    "name": "ipython",
    "version": 3
   },
   "file_extension": ".py",
   "mimetype": "text/x-python",
   "name": "python",
   "nbconvert_exporter": "python",
   "pygments_lexer": "ipython3",
   "version": "3.9.7"
  },
  "vscode": {
   "interpreter": {
    "hash": "729172a66af1727b9222f9f9549aeee10cb3550f88b120e98ac49f450cd2fb5c"
   }
  }
 },
 "nbformat": 4,
 "nbformat_minor": 5
}
