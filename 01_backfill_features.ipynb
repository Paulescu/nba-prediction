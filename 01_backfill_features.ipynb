{
 "cells": [
  {
   "cell_type": "code",
   "execution_count": 1,
   "id": "548fdd0a-cd73-40ff-9154-6ca6a3233947",
   "metadata": {},
   "outputs": [],
   "source": [
    "import pandas as pd\n",
    "import numpy as np\n",
    "\n",
    "import hopsworks\n",
    "\n",
    "from src.data_processing import (\n",
    "    process_games,\n",
    "    add_TARGET,\n",
    ")\n",
    "\n",
    "from src.feature_engineering import (\n",
    "    fix_datatypes,\n",
    "    add_date_features,\n",
    ")\n",
    "\n",
    "from pathlib import Path  #for Windows/Linux compatibility\n",
    "DATAPATH = Path(r'data')\n",
    "\n"
   ]
  },
  {
   "cell_type": "markdown",
   "id": "e6e2fa64-2b05-4a16-afd4-ffde457317d3",
   "metadata": {},
   "source": [
    "### Get Data"
   ]
  },
  {
   "cell_type": "code",
   "execution_count": 2,
   "id": "b8d21056-c888-4435-a5be-1e024c91ec18",
   "metadata": {},
   "outputs": [],
   "source": [
    "games = pd.read_csv(DATAPATH / \"games.csv\")"
   ]
  },
  {
   "cell_type": "markdown",
   "id": "20f21020-f3bf-49b8-ab33-be63b470fbf8",
   "metadata": {},
   "source": [
    "### Data Processing"
   ]
  },
  {
   "cell_type": "code",
   "execution_count": 3,
   "id": "ebd6432f-d540-40cf-877a-944584b8ff55",
   "metadata": {},
   "outputs": [
    {
     "name": "stderr",
     "output_type": "stream",
     "text": [
      "SettingWithCopyWarning: \n",
      "A value is trying to be set on a copy of a slice from a DataFrame.\n",
      "Try using .loc[row_indexer,col_indexer] = value instead\n",
      "\n",
      "See the caveats in the documentation: https://pandas.pydata.org/pandas-docs/stable/user_guide/indexing.html#returning-a-view-versus-a-copy\n",
      "SettingWithCopyWarning: \n",
      "A value is trying to be set on a copy of a slice from a DataFrame\n",
      "\n",
      "See the caveats in the documentation: https://pandas.pydata.org/pandas-docs/stable/user_guide/indexing.html#returning-a-view-versus-a-copy\n"
     ]
    }
   ],
   "source": [
    "games = process_games(games) \n",
    "games = add_TARGET(games)"
   ]
  },
  {
   "cell_type": "markdown",
   "id": "e48eeee6-f3b9-46c3-b425-5a198a76b95a",
   "metadata": {},
   "source": [
    "### Feature Engineering"
   ]
  },
  {
   "cell_type": "code",
   "execution_count": 4,
   "id": "2720f06c-e829-4d8c-8365-00aafdb43e62",
   "metadata": {},
   "outputs": [
    {
     "name": "stderr",
     "output_type": "stream",
     "text": [
      "SettingWithCopyWarning: \n",
      "A value is trying to be set on a copy of a slice from a DataFrame.\n",
      "Try using .loc[row_indexer,col_indexer] = value instead\n",
      "\n",
      "See the caveats in the documentation: https://pandas.pydata.org/pandas-docs/stable/user_guide/indexing.html#returning-a-view-versus-a-copy\n",
      "SettingWithCopyWarning: \n",
      "A value is trying to be set on a copy of a slice from a DataFrame.\n",
      "Try using .loc[row_indexer,col_indexer] = value instead\n",
      "\n",
      "See the caveats in the documentation: https://pandas.pydata.org/pandas-docs/stable/user_guide/indexing.html#returning-a-view-versus-a-copy\n",
      "SettingWithCopyWarning: \n",
      "A value is trying to be set on a copy of a slice from a DataFrame.\n",
      "Try using .loc[row_indexer,col_indexer] = value instead\n",
      "\n",
      "See the caveats in the documentation: https://pandas.pydata.org/pandas-docs/stable/user_guide/indexing.html#returning-a-view-versus-a-copy\n",
      "SettingWithCopyWarning: \n",
      "A value is trying to be set on a copy of a slice from a DataFrame.\n",
      "Try using .loc[row_indexer,col_indexer] = value instead\n",
      "\n",
      "See the caveats in the documentation: https://pandas.pydata.org/pandas-docs/stable/user_guide/indexing.html#returning-a-view-versus-a-copy\n",
      "SettingWithCopyWarning: \n",
      "A value is trying to be set on a copy of a slice from a DataFrame.\n",
      "Try using .loc[row_indexer,col_indexer] = value instead\n",
      "\n",
      "See the caveats in the documentation: https://pandas.pydata.org/pandas-docs/stable/user_guide/indexing.html#returning-a-view-versus-a-copy\n"
     ]
    }
   ],
   "source": [
    "games = fix_datatypes(games)\n",
    "games = add_date_features(games)"
   ]
  },
  {
   "cell_type": "markdown",
   "id": "3a088979-09aa-4d02-bc4f-df2d77e7d45c",
   "metadata": {},
   "source": [
    "### Backfill Feature Store"
   ]
  },
  {
   "cell_type": "code",
   "execution_count": 5,
   "id": "ba69a88c-691e-4f8d-b68e-e79f5582a939",
   "metadata": {},
   "outputs": [
    {
     "name": "stdout",
     "output_type": "stream",
     "text": [
      "Connected. Call `.close()` to terminate connection gracefully.\n",
      "\n",
      "Logged in to project, explore it here https://c.app.hopsworks.ai:443/p/3350\n"
     ]
    },
    {
     "name": "stderr",
     "output_type": "stream",
     "text": [
      "DeprecationWarning: the imp module is deprecated in favour of importlib; see the module's documentation for alternative uses\n"
     ]
    },
    {
     "ename": "FeatureStoreException",
     "evalue": "Trying to instantiate Python as engine, but 'python' extras are missing in HSFS installation. Install with `pip install hsfs[python]`.",
     "output_type": "error",
     "traceback": [
      "\u001b[1;31m---------------------------------------------------------------------------\u001b[0m",
      "\u001b[1;31mImportError\u001b[0m                               Traceback (most recent call last)",
      "File \u001b[1;32m~\\Desktop\\DataScienceProjects\\nba_game_predictor\\venv\\lib\\site-packages\\hsfs\\engine\\__init__.py:33\u001b[0m, in \u001b[0;36minit\u001b[1;34m(engine_type)\u001b[0m\n\u001b[0;32m     32\u001b[0m \u001b[38;5;28;01mtry\u001b[39;00m:\n\u001b[1;32m---> 33\u001b[0m     \u001b[38;5;28;01mfrom\u001b[39;00m \u001b[38;5;21;01mhsfs\u001b[39;00m\u001b[38;5;21;01m.\u001b[39;00m\u001b[38;5;21;01mengine\u001b[39;00m \u001b[38;5;28;01mimport\u001b[39;00m python\n\u001b[0;32m     34\u001b[0m \u001b[38;5;28;01mexcept\u001b[39;00m \u001b[38;5;167;01mImportError\u001b[39;00m:\n",
      "File \u001b[1;32m~\\Desktop\\DataScienceProjects\\nba_game_predictor\\venv\\lib\\site-packages\\hsfs\\engine\\python.py:37\u001b[0m\n\u001b[0;32m     36\u001b[0m \u001b[38;5;28;01mfrom\u001b[39;00m \u001b[38;5;21;01mtyping\u001b[39;00m \u001b[38;5;28;01mimport\u001b[39;00m TypeVar, Optional, Dict, Any\n\u001b[1;32m---> 37\u001b[0m \u001b[38;5;28;01mfrom\u001b[39;00m \u001b[38;5;21;01mconfluent_kafka\u001b[39;00m \u001b[38;5;28;01mimport\u001b[39;00m Producer\n\u001b[0;32m     38\u001b[0m \u001b[38;5;28;01mfrom\u001b[39;00m \u001b[38;5;21;01mtqdm\u001b[39;00m\u001b[38;5;21;01m.\u001b[39;00m\u001b[38;5;21;01mauto\u001b[39;00m \u001b[38;5;28;01mimport\u001b[39;00m tqdm\n",
      "File \u001b[1;32m~\\Desktop\\DataScienceProjects\\nba_game_predictor\\venv\\lib\\site-packages\\confluent_kafka\\__init__.py:40\u001b[0m\n\u001b[0;32m     20\u001b[0m \u001b[38;5;66;03m# end delvewheel patch\u001b[39;00m\n\u001b[0;32m     21\u001b[0m \n\u001b[0;32m     22\u001b[0m \u001b[38;5;66;03m#!/usr/bin/env python\u001b[39;00m\n\u001b[1;32m   (...)\u001b[0m\n\u001b[0;32m     37\u001b[0m \u001b[38;5;66;03m# limitations under the License.\u001b[39;00m\n\u001b[0;32m     38\u001b[0m \u001b[38;5;66;03m#\u001b[39;00m\n\u001b[1;32m---> 40\u001b[0m \u001b[38;5;28;01mfrom\u001b[39;00m \u001b[38;5;21;01m.\u001b[39;00m\u001b[38;5;21;01mdeserializing_consumer\u001b[39;00m \u001b[38;5;28;01mimport\u001b[39;00m DeserializingConsumer\n\u001b[0;32m     41\u001b[0m \u001b[38;5;28;01mfrom\u001b[39;00m \u001b[38;5;21;01m.\u001b[39;00m\u001b[38;5;21;01mserializing_producer\u001b[39;00m \u001b[38;5;28;01mimport\u001b[39;00m SerializingProducer\n",
      "File \u001b[1;32m~\\Desktop\\DataScienceProjects\\nba_game_predictor\\venv\\lib\\site-packages\\confluent_kafka\\deserializing_consumer.py:19\u001b[0m\n\u001b[0;32m      1\u001b[0m \u001b[38;5;66;03m#!/usr/bin/env python\u001b[39;00m\n\u001b[0;32m      2\u001b[0m \u001b[38;5;66;03m# -*- coding: utf-8 -*-\u001b[39;00m\n\u001b[0;32m      3\u001b[0m \u001b[38;5;66;03m#\u001b[39;00m\n\u001b[1;32m   (...)\u001b[0m\n\u001b[0;32m     16\u001b[0m \u001b[38;5;66;03m# limitations under the License.\u001b[39;00m\n\u001b[0;32m     17\u001b[0m \u001b[38;5;66;03m#\u001b[39;00m\n\u001b[1;32m---> 19\u001b[0m \u001b[38;5;28;01mfrom\u001b[39;00m \u001b[38;5;21;01mconfluent_kafka\u001b[39;00m\u001b[38;5;21;01m.\u001b[39;00m\u001b[38;5;21;01mcimpl\u001b[39;00m \u001b[38;5;28;01mimport\u001b[39;00m Consumer \u001b[38;5;28;01mas\u001b[39;00m _ConsumerImpl\n\u001b[0;32m     20\u001b[0m \u001b[38;5;28;01mfrom\u001b[39;00m \u001b[38;5;21;01m.\u001b[39;00m\u001b[38;5;21;01merror\u001b[39;00m \u001b[38;5;28;01mimport\u001b[39;00m (ConsumeError,\n\u001b[0;32m     21\u001b[0m                     KeyDeserializationError,\n\u001b[0;32m     22\u001b[0m                     ValueDeserializationError)\n",
      "\u001b[1;31mImportError\u001b[0m: DLL load failed while importing cimpl: The specified module could not be found.",
      "\nDuring handling of the above exception, another exception occurred:\n",
      "\u001b[1;31mFeatureStoreException\u001b[0m                     Traceback (most recent call last)",
      "Cell \u001b[1;32mIn [5], line 2\u001b[0m\n\u001b[0;32m      1\u001b[0m project \u001b[38;5;241m=\u001b[39m hopsworks\u001b[38;5;241m.\u001b[39mlogin()\n\u001b[1;32m----> 2\u001b[0m fs \u001b[38;5;241m=\u001b[39m project\u001b[38;5;241m.\u001b[39mget_feature_store()\n",
      "File \u001b[1;32m~\\Desktop\\DataScienceProjects\\nba_game_predictor\\venv\\lib\\site-packages\\hopsworks\\project.py:102\u001b[0m, in \u001b[0;36mProject.get_feature_store\u001b[1;34m(self)\u001b[0m\n\u001b[0;32m    100\u001b[0m _client \u001b[38;5;241m=\u001b[39m client\u001b[38;5;241m.\u001b[39mget_instance()\n\u001b[0;32m    101\u001b[0m \u001b[38;5;28;01mif\u001b[39;00m \u001b[38;5;28mtype\u001b[39m(_client) \u001b[38;5;241m==\u001b[39m Client:  \u001b[38;5;66;03m# If external client\u001b[39;00m\n\u001b[1;32m--> 102\u001b[0m     \u001b[38;5;28;01mreturn\u001b[39;00m \u001b[43mconnection\u001b[49m\u001b[43m(\u001b[49m\n\u001b[0;32m    103\u001b[0m \u001b[43m        \u001b[49m\u001b[43mhost\u001b[49m\u001b[38;5;241;43m=\u001b[39;49m\u001b[43m_client\u001b[49m\u001b[38;5;241;43m.\u001b[39;49m\u001b[43m_host\u001b[49m\u001b[43m,\u001b[49m\n\u001b[0;32m    104\u001b[0m \u001b[43m        \u001b[49m\u001b[43mport\u001b[49m\u001b[38;5;241;43m=\u001b[39;49m\u001b[43m_client\u001b[49m\u001b[38;5;241;43m.\u001b[39;49m\u001b[43m_port\u001b[49m\u001b[43m,\u001b[49m\n\u001b[0;32m    105\u001b[0m \u001b[43m        \u001b[49m\u001b[43mproject\u001b[49m\u001b[38;5;241;43m=\u001b[39;49m\u001b[38;5;28;43mself\u001b[39;49m\u001b[38;5;241;43m.\u001b[39;49m\u001b[43mname\u001b[49m\u001b[43m,\u001b[49m\n\u001b[0;32m    106\u001b[0m \u001b[43m        \u001b[49m\u001b[43mapi_key_value\u001b[49m\u001b[38;5;241;43m=\u001b[39;49m\u001b[43m_client\u001b[49m\u001b[38;5;241;43m.\u001b[39;49m\u001b[43m_auth\u001b[49m\u001b[38;5;241;43m.\u001b[39;49m\u001b[43m_token\u001b[49m\u001b[43m,\u001b[49m\n\u001b[0;32m    107\u001b[0m \u001b[43m        \u001b[49m\u001b[43mengine\u001b[49m\u001b[38;5;241;43m=\u001b[39;49m\u001b[38;5;124;43m\"\u001b[39;49m\u001b[38;5;124;43mpython\u001b[39;49m\u001b[38;5;124;43m\"\u001b[39;49m\u001b[43m,\u001b[49m\n\u001b[0;32m    108\u001b[0m \u001b[43m    \u001b[49m\u001b[43m)\u001b[49m\u001b[38;5;241m.\u001b[39mget_feature_store()\n\u001b[0;32m    109\u001b[0m \u001b[38;5;28;01melse\u001b[39;00m:\n\u001b[0;32m    110\u001b[0m     \u001b[38;5;28;01mreturn\u001b[39;00m connection()\u001b[38;5;241m.\u001b[39mget_feature_store()\n",
      "File \u001b[1;32m~\\Desktop\\DataScienceProjects\\nba_game_predictor\\venv\\lib\\site-packages\\hsfs\\connection.py:306\u001b[0m, in \u001b[0;36mConnection.connection\u001b[1;34m(cls, host, port, project, engine, region_name, secrets_store, hostname_verification, trust_store_path, cert_folder, api_key_file, api_key_value)\u001b[0m\n\u001b[0;32m    290\u001b[0m \u001b[38;5;129m@classmethod\u001b[39m\n\u001b[0;32m    291\u001b[0m \u001b[38;5;28;01mdef\u001b[39;00m \u001b[38;5;21mconnection\u001b[39m(\n\u001b[0;32m    292\u001b[0m     \u001b[38;5;28mcls\u001b[39m,\n\u001b[1;32m   (...)\u001b[0m\n\u001b[0;32m    303\u001b[0m     api_key_value: \u001b[38;5;28mstr\u001b[39m \u001b[38;5;241m=\u001b[39m \u001b[38;5;28;01mNone\u001b[39;00m,\n\u001b[0;32m    304\u001b[0m ):\n\u001b[0;32m    305\u001b[0m     \u001b[38;5;124;03m\"\"\"Connection factory method, accessible through `hsfs.connection()`.\"\"\"\u001b[39;00m\n\u001b[1;32m--> 306\u001b[0m     \u001b[38;5;28;01mreturn\u001b[39;00m \u001b[38;5;28;43mcls\u001b[39;49m\u001b[43m(\u001b[49m\n\u001b[0;32m    307\u001b[0m \u001b[43m        \u001b[49m\u001b[43mhost\u001b[49m\u001b[43m,\u001b[49m\n\u001b[0;32m    308\u001b[0m \u001b[43m        \u001b[49m\u001b[43mport\u001b[49m\u001b[43m,\u001b[49m\n\u001b[0;32m    309\u001b[0m \u001b[43m        \u001b[49m\u001b[43mproject\u001b[49m\u001b[43m,\u001b[49m\n\u001b[0;32m    310\u001b[0m \u001b[43m        \u001b[49m\u001b[43mengine\u001b[49m\u001b[43m,\u001b[49m\n\u001b[0;32m    311\u001b[0m \u001b[43m        \u001b[49m\u001b[43mregion_name\u001b[49m\u001b[43m,\u001b[49m\n\u001b[0;32m    312\u001b[0m \u001b[43m        \u001b[49m\u001b[43msecrets_store\u001b[49m\u001b[43m,\u001b[49m\n\u001b[0;32m    313\u001b[0m \u001b[43m        \u001b[49m\u001b[43mhostname_verification\u001b[49m\u001b[43m,\u001b[49m\n\u001b[0;32m    314\u001b[0m \u001b[43m        \u001b[49m\u001b[43mtrust_store_path\u001b[49m\u001b[43m,\u001b[49m\n\u001b[0;32m    315\u001b[0m \u001b[43m        \u001b[49m\u001b[43mcert_folder\u001b[49m\u001b[43m,\u001b[49m\n\u001b[0;32m    316\u001b[0m \u001b[43m        \u001b[49m\u001b[43mapi_key_file\u001b[49m\u001b[43m,\u001b[49m\n\u001b[0;32m    317\u001b[0m \u001b[43m        \u001b[49m\u001b[43mapi_key_value\u001b[49m\u001b[43m,\u001b[49m\n\u001b[0;32m    318\u001b[0m \u001b[43m    \u001b[49m\u001b[43m)\u001b[49m\n",
      "File \u001b[1;32m~\\Desktop\\DataScienceProjects\\nba_game_predictor\\venv\\lib\\site-packages\\hsfs\\connection.py:139\u001b[0m, in \u001b[0;36mConnection.__init__\u001b[1;34m(self, host, port, project, engine, region_name, secrets_store, hostname_verification, trust_store_path, cert_folder, api_key_file, api_key_value)\u001b[0m\n\u001b[0;32m    136\u001b[0m \u001b[38;5;28mself\u001b[39m\u001b[38;5;241m.\u001b[39m_api_key_value \u001b[38;5;241m=\u001b[39m api_key_value\n\u001b[0;32m    137\u001b[0m \u001b[38;5;28mself\u001b[39m\u001b[38;5;241m.\u001b[39m_connected \u001b[38;5;241m=\u001b[39m \u001b[38;5;28;01mFalse\u001b[39;00m\n\u001b[1;32m--> 139\u001b[0m \u001b[38;5;28;43mself\u001b[39;49m\u001b[38;5;241;43m.\u001b[39;49m\u001b[43mconnect\u001b[49m\u001b[43m(\u001b[49m\u001b[43m)\u001b[49m\n",
      "File \u001b[1;32m~\\Desktop\\DataScienceProjects\\nba_game_predictor\\venv\\lib\\site-packages\\hsfs\\decorators.py:25\u001b[0m, in \u001b[0;36mnot_connected.<locals>.if_not_connected\u001b[1;34m(inst, *args, **kwargs)\u001b[0m\n\u001b[0;32m     23\u001b[0m \u001b[38;5;28;01mif\u001b[39;00m inst\u001b[38;5;241m.\u001b[39m_connected:\n\u001b[0;32m     24\u001b[0m     \u001b[38;5;28;01mraise\u001b[39;00m HopsworksConnectionError\n\u001b[1;32m---> 25\u001b[0m \u001b[38;5;28;01mreturn\u001b[39;00m fn(inst, \u001b[38;5;241m*\u001b[39margs, \u001b[38;5;241m*\u001b[39m\u001b[38;5;241m*\u001b[39mkwargs)\n",
      "File \u001b[1;32m~\\Desktop\\DataScienceProjects\\nba_game_predictor\\venv\\lib\\site-packages\\hsfs\\connection.py:216\u001b[0m, in \u001b[0;36mConnection.connect\u001b[1;34m(self)\u001b[0m\n\u001b[0;32m    213\u001b[0m     client\u001b[38;5;241m.\u001b[39minit(\u001b[38;5;124m\"\u001b[39m\u001b[38;5;124mhopsworks\u001b[39m\u001b[38;5;124m\"\u001b[39m)\n\u001b[0;32m    215\u001b[0m \u001b[38;5;66;03m# init engine\u001b[39;00m\n\u001b[1;32m--> 216\u001b[0m \u001b[43mengine\u001b[49m\u001b[38;5;241;43m.\u001b[39;49m\u001b[43minit\u001b[49m\u001b[43m(\u001b[49m\u001b[38;5;28;43mself\u001b[39;49m\u001b[38;5;241;43m.\u001b[39;49m\u001b[43m_engine\u001b[49m\u001b[43m)\u001b[49m\n\u001b[0;32m    218\u001b[0m \u001b[38;5;28mself\u001b[39m\u001b[38;5;241m.\u001b[39m_feature_store_api \u001b[38;5;241m=\u001b[39m feature_store_api\u001b[38;5;241m.\u001b[39mFeatureStoreApi()\n\u001b[0;32m    219\u001b[0m \u001b[38;5;28mself\u001b[39m\u001b[38;5;241m.\u001b[39m_project_api \u001b[38;5;241m=\u001b[39m project_api\u001b[38;5;241m.\u001b[39mProjectApi()\n",
      "File \u001b[1;32m~\\Desktop\\DataScienceProjects\\nba_game_predictor\\venv\\lib\\site-packages\\hsfs\\engine\\__init__.py:35\u001b[0m, in \u001b[0;36minit\u001b[1;34m(engine_type)\u001b[0m\n\u001b[0;32m     33\u001b[0m     \u001b[38;5;28;01mfrom\u001b[39;00m \u001b[38;5;21;01mhsfs\u001b[39;00m\u001b[38;5;21;01m.\u001b[39;00m\u001b[38;5;21;01mengine\u001b[39;00m \u001b[38;5;28;01mimport\u001b[39;00m python\n\u001b[0;32m     34\u001b[0m \u001b[38;5;28;01mexcept\u001b[39;00m \u001b[38;5;167;01mImportError\u001b[39;00m:\n\u001b[1;32m---> 35\u001b[0m     \u001b[38;5;28;01mraise\u001b[39;00m exceptions\u001b[38;5;241m.\u001b[39mFeatureStoreException(\n\u001b[0;32m     36\u001b[0m         \u001b[38;5;124m\"\u001b[39m\u001b[38;5;124mTrying to instantiate Python as engine, but \u001b[39m\u001b[38;5;124m'\u001b[39m\u001b[38;5;124mpython\u001b[39m\u001b[38;5;124m'\u001b[39m\u001b[38;5;124m extras are \u001b[39m\u001b[38;5;124m\"\u001b[39m\n\u001b[0;32m     37\u001b[0m         \u001b[38;5;124m\"\u001b[39m\u001b[38;5;124mmissing in HSFS installation. Install with `pip install \u001b[39m\u001b[38;5;124m\"\u001b[39m\n\u001b[0;32m     38\u001b[0m         \u001b[38;5;124m\"\u001b[39m\u001b[38;5;124mhsfs[python]`.\u001b[39m\u001b[38;5;124m\"\u001b[39m\n\u001b[0;32m     39\u001b[0m     )\n\u001b[0;32m     40\u001b[0m _engine_type \u001b[38;5;241m=\u001b[39m \u001b[38;5;124m\"\u001b[39m\u001b[38;5;124mpython\u001b[39m\u001b[38;5;124m\"\u001b[39m\n\u001b[0;32m     41\u001b[0m _engine \u001b[38;5;241m=\u001b[39m python\u001b[38;5;241m.\u001b[39mEngine()\n",
      "\u001b[1;31mFeatureStoreException\u001b[0m: Trying to instantiate Python as engine, but 'python' extras are missing in HSFS installation. Install with `pip install hsfs[python]`."
     ]
    }
   ],
   "source": [
    "project = hopsworks.login()\n",
    "fs = project.get_feature_store()"
   ]
  },
  {
   "cell_type": "markdown",
   "id": "548a2746-67d0-4917-bb68-1514b481bc25",
   "metadata": {},
   "source": [
    "**Single-Game Features**"
   ]
  },
  {
   "cell_type": "code",
   "execution_count": null,
   "id": "40331ef1-e0ff-406e-862d-4deedbdc6bd0",
   "metadata": {},
   "outputs": [],
   "source": [
    "single_game_fg = fs.get_or_create_feature_group(\n",
    "    name=\"single_game_stats\",\n",
    "    version=1,\n",
    "    description=\"Stats from a specific game\",\n",
    "    primary_key=[\"GAME_ID\"],\n",
    ")"
   ]
  },
  {
   "cell_type": "code",
   "execution_count": null,
   "id": "c697be83-fae0-4e80-95d2-471b7233e4a7",
   "metadata": {},
   "outputs": [],
   "source": [
    "single_game_fg.insert(games, write_options={\"wait_for_job\" : False})"
   ]
  },
  {
   "cell_type": "code",
   "execution_count": null,
   "id": "3e58d200-4bbf-4c6c-bd30-9382c7d3ca91",
   "metadata": {},
   "outputs": [],
   "source": [
    "feature_descriptions = [\n",
    "    {\"name\": \"GAME_ID\", \"description\": \"Unique game identifier (primary key), e.g. 22101005\"},\n",
    "    {\"name\": \"GAME_DATE_EST\", \"description\": \"Game date (Eastern Standard Time), e.g. 2022-03-12\"},\n",
    "    {\"name\": \"MONTH\", \"description\": \"Month (numerical) that the game was played, e.g. 12\"},\n",
    "    {\"name\": \"HOME_TEAM_ID\", \"description\": \"Home team ID, e.g. 1610612748\"},\n",
    "    {\"name\": \"VISITOR_TEAM_ID\", \"description\": \"Visitor team ID, e.g. 1610612748\"},\n",
    "    {\"name\": \"SEASON \", \"description\": \"Year in which season began, e.g. 2021\"},\n",
    "    {\"name\": \"PTS_home\", \"description\": \"Points scored by home team, e.g. 112\"},\n",
    "    {\"name\": \"FG_PCT_home\", \"description\": \"Field Goal Percentage of home team, e.g. 0.398\"},\n",
    "    {\"name\": \"FT_PCT_home\", \"description\": \"Free Throw Percentage of home team, e.g. 0.398\"},\n",
    "    {\"name\": \"FG3_PCT_home\", \"description\": \"3-Point Field Goal Percentage of home team, e.g. 0.398\"},\n",
    "    {\"name\": \"AST_home\", \"description\": \"Assists by home team, e.g. 21\"},\n",
    "    {\"name\": \"REB_home\", \"description\": \"Rebounds by home team, e.g. 31\"},\n",
    "    {\"name\": \"PTS_away\", \"description\": \"Points scored by visitor team, e.g. 112\"},\n",
    "    {\"name\": \"FG_PCT_away\", \"description\": \"Field Goal Percentage of visitor team, e.g. 0.398\"},\n",
    "    {\"name\": \"FT_PCT_away\", \"description\": \"Free Throw Percentage of visitor team, e.g. 0.398\"},\n",
    "    {\"name\": \"FG3_PCT_away\", \"description\": \"3-Point Field Goal Percentage of visitor team, e.g. 0.398\"},\n",
    "    {\"name\": \"AST_away\", \"description\": \"Assists by visitor team, e.g. 21\"},\n",
    "    {\"name\": \"REB_away\", \"description\": \"Rebounds by visitor team, e.g. 31\"},\n",
    "    {\"name\": \"HOME_TEAM_WINS\", \"description\": \"Home team won this game: 1 - yes, 0 - no\"},\n",
    "    {\"name\": \"TARGET\", \"description\": \"Home team wins NEXT game: 1 - yes, 0 - no\"},\n",
    "    \n",
    "]\n",
    "\n",
    "for desc in feature_descriptions: \n",
    "    single_game_fg.update_feature_description(desc[\"name\"], desc[\"description\"])"
   ]
  }
 ],
 "metadata": {
  "kernelspec": {
   "display_name": "nba",
   "language": "python",
   "name": "nba"
  },
  "language_info": {
   "codemirror_mode": {
    "name": "ipython",
    "version": 3
   },
   "file_extension": ".py",
   "mimetype": "text/x-python",
   "name": "python",
   "nbconvert_exporter": "python",
   "pygments_lexer": "ipython3",
   "version": "3.9.12"
  }
 },
 "nbformat": 4,
 "nbformat_minor": 5
}
