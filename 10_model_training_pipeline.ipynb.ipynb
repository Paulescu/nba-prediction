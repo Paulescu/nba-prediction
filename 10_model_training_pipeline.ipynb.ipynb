{
 "cells": [
  {
   "attachments": {},
   "cell_type": "markdown",
   "id": "ddabba99",
   "metadata": {},
   "source": [
    "### Model Training Pipeline\n",
    "\n",
    "This notebook retrains the model and saves the model and performance metrics (Accuracy and AUC) to the Hopsworks.ai Model Registry.\n",
    "\n",
    "It executes Notebook 07 as part of the process and will use parameters as set there (GPU/no GPU, retune Hyperparameters or not, etc...).\n",
    "\n",
    "Notebook 07 is executed as a subprocess and the output is captured and displayed in this notebook.\n",
    "\n",
    "Notebook 07 includes experiment tracking with Neptune.ai."
   ]
  },
  {
   "cell_type": "code",
   "execution_count": 1,
   "id": "548fdd0a-cd73-40ff-9154-6ca6a3233947",
   "metadata": {},
   "outputs": [],
   "source": [
    "import os\n",
    "\n",
    "import pandas as pd\n",
    "import numpy as np\n",
    "\n",
    "import hopsworks\n",
    "\n",
    "from hsml.schema import Schema\n",
    "from hsml.model_schema import ModelSchema\n",
    "from hsfs.client.exceptions import RestAPIError\n",
    "\n",
    "from pathlib import Path  #for Windows/Linux compatibility\n",
    "DATAPATH = Path(r'data')\n",
    "\n",
    "import json\n",
    "\n",
    "from datetime import datetime, timedelta\n",
    "\n",
    "from src.hopsworks_utils import (\n",
    "    convert_feature_names,\n",
    ")\n",
    "\n",
    "from dotenv import load_dotenv\n",
    "\n"
   ]
  },
  {
   "cell_type": "markdown",
   "id": "dae0623f-03c7-42ef-82e3-9423d2a6f18c",
   "metadata": {},
   "source": [
    "**Connect to Hopsworks FeatureStore**"
   ]
  },
  {
   "cell_type": "code",
   "execution_count": 2,
   "id": "f5ae7431-32cc-4231-a586-6de7d271dab4",
   "metadata": {},
   "outputs": [],
   "source": [
    "try:\n",
    "    HOPSWORKS_API_KEY = os.environ['HOPSWORKS_API_KEY']\n",
    "except:\n",
    "    raise Exception('Set environment variable HOPSWORKS_API_KEY')"
   ]
  },
  {
   "cell_type": "code",
   "execution_count": 3,
   "id": "ba69a88c-691e-4f8d-b68e-e79f5582a939",
   "metadata": {},
   "outputs": [
    {
     "name": "stdout",
     "output_type": "stream",
     "text": [
      "Connected. Call `.close()` to terminate connection gracefully.\n"
     ]
    },
    {
     "ename": "ConnectionError",
     "evalue": "HTTPSConnectionPool(host='c.app.hopsworks.ai', port=443): Max retries exceeded with url: /hopsworks-api/api/project (Caused by NewConnectionError('<urllib3.connection.HTTPSConnection object at 0x00000279E8F9CE20>: Failed to establish a new connection: [WinError 10060] A connection attempt failed because the connected party did not properly respond after a period of time, or established connection failed because connected host has failed to respond'))",
     "output_type": "error",
     "traceback": [
      "\u001b[1;31m---------------------------------------------------------------------------\u001b[0m",
      "\u001b[1;31mTimeoutError\u001b[0m                              Traceback (most recent call last)",
      "File \u001b[1;32mc:\\Users\\Chris\\Desktop\\DataScienceProjects\\nba_game_predictor\\nba3\\lib\\site-packages\\urllib3\\connection.py:174\u001b[0m, in \u001b[0;36mHTTPConnection._new_conn\u001b[1;34m(self)\u001b[0m\n\u001b[0;32m    173\u001b[0m \u001b[39mtry\u001b[39;00m:\n\u001b[1;32m--> 174\u001b[0m     conn \u001b[39m=\u001b[39m connection\u001b[39m.\u001b[39mcreate_connection(\n\u001b[0;32m    175\u001b[0m         (\u001b[39mself\u001b[39m\u001b[39m.\u001b[39m_dns_host, \u001b[39mself\u001b[39m\u001b[39m.\u001b[39mport), \u001b[39mself\u001b[39m\u001b[39m.\u001b[39mtimeout, \u001b[39m*\u001b[39m\u001b[39m*\u001b[39mextra_kw\n\u001b[0;32m    176\u001b[0m     )\n\u001b[0;32m    178\u001b[0m \u001b[39mexcept\u001b[39;00m SocketTimeout:\n",
      "File \u001b[1;32mc:\\Users\\Chris\\Desktop\\DataScienceProjects\\nba_game_predictor\\nba3\\lib\\site-packages\\urllib3\\util\\connection.py:95\u001b[0m, in \u001b[0;36mcreate_connection\u001b[1;34m(address, timeout, source_address, socket_options)\u001b[0m\n\u001b[0;32m     94\u001b[0m \u001b[39mif\u001b[39;00m err \u001b[39mis\u001b[39;00m \u001b[39mnot\u001b[39;00m \u001b[39mNone\u001b[39;00m:\n\u001b[1;32m---> 95\u001b[0m     \u001b[39mraise\u001b[39;00m err\n\u001b[0;32m     97\u001b[0m \u001b[39mraise\u001b[39;00m socket\u001b[39m.\u001b[39merror(\u001b[39m\"\u001b[39m\u001b[39mgetaddrinfo returns an empty list\u001b[39m\u001b[39m\"\u001b[39m)\n",
      "File \u001b[1;32mc:\\Users\\Chris\\Desktop\\DataScienceProjects\\nba_game_predictor\\nba3\\lib\\site-packages\\urllib3\\util\\connection.py:85\u001b[0m, in \u001b[0;36mcreate_connection\u001b[1;34m(address, timeout, source_address, socket_options)\u001b[0m\n\u001b[0;32m     84\u001b[0m     sock\u001b[39m.\u001b[39mbind(source_address)\n\u001b[1;32m---> 85\u001b[0m sock\u001b[39m.\u001b[39;49mconnect(sa)\n\u001b[0;32m     86\u001b[0m \u001b[39mreturn\u001b[39;00m sock\n",
      "\u001b[1;31mTimeoutError\u001b[0m: [WinError 10060] A connection attempt failed because the connected party did not properly respond after a period of time, or established connection failed because connected host has failed to respond",
      "\nDuring handling of the above exception, another exception occurred:\n",
      "\u001b[1;31mNewConnectionError\u001b[0m                        Traceback (most recent call last)",
      "File \u001b[1;32mc:\\Users\\Chris\\Desktop\\DataScienceProjects\\nba_game_predictor\\nba3\\lib\\site-packages\\urllib3\\connectionpool.py:703\u001b[0m, in \u001b[0;36mHTTPConnectionPool.urlopen\u001b[1;34m(self, method, url, body, headers, retries, redirect, assert_same_host, timeout, pool_timeout, release_conn, chunked, body_pos, **response_kw)\u001b[0m\n\u001b[0;32m    702\u001b[0m \u001b[39m# Make the request on the httplib connection object.\u001b[39;00m\n\u001b[1;32m--> 703\u001b[0m httplib_response \u001b[39m=\u001b[39m \u001b[39mself\u001b[39;49m\u001b[39m.\u001b[39;49m_make_request(\n\u001b[0;32m    704\u001b[0m     conn,\n\u001b[0;32m    705\u001b[0m     method,\n\u001b[0;32m    706\u001b[0m     url,\n\u001b[0;32m    707\u001b[0m     timeout\u001b[39m=\u001b[39;49mtimeout_obj,\n\u001b[0;32m    708\u001b[0m     body\u001b[39m=\u001b[39;49mbody,\n\u001b[0;32m    709\u001b[0m     headers\u001b[39m=\u001b[39;49mheaders,\n\u001b[0;32m    710\u001b[0m     chunked\u001b[39m=\u001b[39;49mchunked,\n\u001b[0;32m    711\u001b[0m )\n\u001b[0;32m    713\u001b[0m \u001b[39m# If we're going to release the connection in ``finally:``, then\u001b[39;00m\n\u001b[0;32m    714\u001b[0m \u001b[39m# the response doesn't need to know about the connection. Otherwise\u001b[39;00m\n\u001b[0;32m    715\u001b[0m \u001b[39m# it will also try to release it and we'll have a double-release\u001b[39;00m\n\u001b[0;32m    716\u001b[0m \u001b[39m# mess.\u001b[39;00m\n",
      "File \u001b[1;32mc:\\Users\\Chris\\Desktop\\DataScienceProjects\\nba_game_predictor\\nba3\\lib\\site-packages\\urllib3\\connectionpool.py:386\u001b[0m, in \u001b[0;36mHTTPConnectionPool._make_request\u001b[1;34m(self, conn, method, url, timeout, chunked, **httplib_request_kw)\u001b[0m\n\u001b[0;32m    385\u001b[0m \u001b[39mtry\u001b[39;00m:\n\u001b[1;32m--> 386\u001b[0m     \u001b[39mself\u001b[39;49m\u001b[39m.\u001b[39;49m_validate_conn(conn)\n\u001b[0;32m    387\u001b[0m \u001b[39mexcept\u001b[39;00m (SocketTimeout, BaseSSLError) \u001b[39mas\u001b[39;00m e:\n\u001b[0;32m    388\u001b[0m     \u001b[39m# Py2 raises this as a BaseSSLError, Py3 raises it as socket timeout.\u001b[39;00m\n",
      "File \u001b[1;32mc:\\Users\\Chris\\Desktop\\DataScienceProjects\\nba_game_predictor\\nba3\\lib\\site-packages\\urllib3\\connectionpool.py:1042\u001b[0m, in \u001b[0;36mHTTPSConnectionPool._validate_conn\u001b[1;34m(self, conn)\u001b[0m\n\u001b[0;32m   1041\u001b[0m \u001b[39mif\u001b[39;00m \u001b[39mnot\u001b[39;00m \u001b[39mgetattr\u001b[39m(conn, \u001b[39m\"\u001b[39m\u001b[39msock\u001b[39m\u001b[39m\"\u001b[39m, \u001b[39mNone\u001b[39;00m):  \u001b[39m# AppEngine might not have  `.sock`\u001b[39;00m\n\u001b[1;32m-> 1042\u001b[0m     conn\u001b[39m.\u001b[39;49mconnect()\n\u001b[0;32m   1044\u001b[0m \u001b[39mif\u001b[39;00m \u001b[39mnot\u001b[39;00m conn\u001b[39m.\u001b[39mis_verified:\n",
      "File \u001b[1;32mc:\\Users\\Chris\\Desktop\\DataScienceProjects\\nba_game_predictor\\nba3\\lib\\site-packages\\urllib3\\connection.py:358\u001b[0m, in \u001b[0;36mHTTPSConnection.connect\u001b[1;34m(self)\u001b[0m\n\u001b[0;32m    356\u001b[0m \u001b[39mdef\u001b[39;00m \u001b[39mconnect\u001b[39m(\u001b[39mself\u001b[39m):\n\u001b[0;32m    357\u001b[0m     \u001b[39m# Add certificate verification\u001b[39;00m\n\u001b[1;32m--> 358\u001b[0m     \u001b[39mself\u001b[39m\u001b[39m.\u001b[39msock \u001b[39m=\u001b[39m conn \u001b[39m=\u001b[39m \u001b[39mself\u001b[39;49m\u001b[39m.\u001b[39;49m_new_conn()\n\u001b[0;32m    359\u001b[0m     hostname \u001b[39m=\u001b[39m \u001b[39mself\u001b[39m\u001b[39m.\u001b[39mhost\n",
      "File \u001b[1;32mc:\\Users\\Chris\\Desktop\\DataScienceProjects\\nba_game_predictor\\nba3\\lib\\site-packages\\urllib3\\connection.py:186\u001b[0m, in \u001b[0;36mHTTPConnection._new_conn\u001b[1;34m(self)\u001b[0m\n\u001b[0;32m    185\u001b[0m \u001b[39mexcept\u001b[39;00m SocketError \u001b[39mas\u001b[39;00m e:\n\u001b[1;32m--> 186\u001b[0m     \u001b[39mraise\u001b[39;00m NewConnectionError(\n\u001b[0;32m    187\u001b[0m         \u001b[39mself\u001b[39m, \u001b[39m\"\u001b[39m\u001b[39mFailed to establish a new connection: \u001b[39m\u001b[39m%s\u001b[39;00m\u001b[39m\"\u001b[39m \u001b[39m%\u001b[39m e\n\u001b[0;32m    188\u001b[0m     )\n\u001b[0;32m    190\u001b[0m \u001b[39mreturn\u001b[39;00m conn\n",
      "\u001b[1;31mNewConnectionError\u001b[0m: <urllib3.connection.HTTPSConnection object at 0x00000279E8F9CE20>: Failed to establish a new connection: [WinError 10060] A connection attempt failed because the connected party did not properly respond after a period of time, or established connection failed because connected host has failed to respond",
      "\nDuring handling of the above exception, another exception occurred:\n",
      "\u001b[1;31mMaxRetryError\u001b[0m                             Traceback (most recent call last)",
      "File \u001b[1;32mc:\\Users\\Chris\\Desktop\\DataScienceProjects\\nba_game_predictor\\nba3\\lib\\site-packages\\requests\\adapters.py:489\u001b[0m, in \u001b[0;36mHTTPAdapter.send\u001b[1;34m(self, request, stream, timeout, verify, cert, proxies)\u001b[0m\n\u001b[0;32m    488\u001b[0m \u001b[39mif\u001b[39;00m \u001b[39mnot\u001b[39;00m chunked:\n\u001b[1;32m--> 489\u001b[0m     resp \u001b[39m=\u001b[39m conn\u001b[39m.\u001b[39;49murlopen(\n\u001b[0;32m    490\u001b[0m         method\u001b[39m=\u001b[39;49mrequest\u001b[39m.\u001b[39;49mmethod,\n\u001b[0;32m    491\u001b[0m         url\u001b[39m=\u001b[39;49murl,\n\u001b[0;32m    492\u001b[0m         body\u001b[39m=\u001b[39;49mrequest\u001b[39m.\u001b[39;49mbody,\n\u001b[0;32m    493\u001b[0m         headers\u001b[39m=\u001b[39;49mrequest\u001b[39m.\u001b[39;49mheaders,\n\u001b[0;32m    494\u001b[0m         redirect\u001b[39m=\u001b[39;49m\u001b[39mFalse\u001b[39;49;00m,\n\u001b[0;32m    495\u001b[0m         assert_same_host\u001b[39m=\u001b[39;49m\u001b[39mFalse\u001b[39;49;00m,\n\u001b[0;32m    496\u001b[0m         preload_content\u001b[39m=\u001b[39;49m\u001b[39mFalse\u001b[39;49;00m,\n\u001b[0;32m    497\u001b[0m         decode_content\u001b[39m=\u001b[39;49m\u001b[39mFalse\u001b[39;49;00m,\n\u001b[0;32m    498\u001b[0m         retries\u001b[39m=\u001b[39;49m\u001b[39mself\u001b[39;49m\u001b[39m.\u001b[39;49mmax_retries,\n\u001b[0;32m    499\u001b[0m         timeout\u001b[39m=\u001b[39;49mtimeout,\n\u001b[0;32m    500\u001b[0m     )\n\u001b[0;32m    502\u001b[0m \u001b[39m# Send the request.\u001b[39;00m\n\u001b[0;32m    503\u001b[0m \u001b[39melse\u001b[39;00m:\n",
      "File \u001b[1;32mc:\\Users\\Chris\\Desktop\\DataScienceProjects\\nba_game_predictor\\nba3\\lib\\site-packages\\urllib3\\connectionpool.py:787\u001b[0m, in \u001b[0;36mHTTPConnectionPool.urlopen\u001b[1;34m(self, method, url, body, headers, retries, redirect, assert_same_host, timeout, pool_timeout, release_conn, chunked, body_pos, **response_kw)\u001b[0m\n\u001b[0;32m    785\u001b[0m     e \u001b[39m=\u001b[39m ProtocolError(\u001b[39m\"\u001b[39m\u001b[39mConnection aborted.\u001b[39m\u001b[39m\"\u001b[39m, e)\n\u001b[1;32m--> 787\u001b[0m retries \u001b[39m=\u001b[39m retries\u001b[39m.\u001b[39;49mincrement(\n\u001b[0;32m    788\u001b[0m     method, url, error\u001b[39m=\u001b[39;49me, _pool\u001b[39m=\u001b[39;49m\u001b[39mself\u001b[39;49m, _stacktrace\u001b[39m=\u001b[39;49msys\u001b[39m.\u001b[39;49mexc_info()[\u001b[39m2\u001b[39;49m]\n\u001b[0;32m    789\u001b[0m )\n\u001b[0;32m    790\u001b[0m retries\u001b[39m.\u001b[39msleep()\n",
      "File \u001b[1;32mc:\\Users\\Chris\\Desktop\\DataScienceProjects\\nba_game_predictor\\nba3\\lib\\site-packages\\urllib3\\util\\retry.py:592\u001b[0m, in \u001b[0;36mRetry.increment\u001b[1;34m(self, method, url, response, error, _pool, _stacktrace)\u001b[0m\n\u001b[0;32m    591\u001b[0m \u001b[39mif\u001b[39;00m new_retry\u001b[39m.\u001b[39mis_exhausted():\n\u001b[1;32m--> 592\u001b[0m     \u001b[39mraise\u001b[39;00m MaxRetryError(_pool, url, error \u001b[39mor\u001b[39;00m ResponseError(cause))\n\u001b[0;32m    594\u001b[0m log\u001b[39m.\u001b[39mdebug(\u001b[39m\"\u001b[39m\u001b[39mIncremented Retry for (url=\u001b[39m\u001b[39m'\u001b[39m\u001b[39m%s\u001b[39;00m\u001b[39m'\u001b[39m\u001b[39m): \u001b[39m\u001b[39m%r\u001b[39;00m\u001b[39m\"\u001b[39m, url, new_retry)\n",
      "\u001b[1;31mMaxRetryError\u001b[0m: HTTPSConnectionPool(host='c.app.hopsworks.ai', port=443): Max retries exceeded with url: /hopsworks-api/api/project (Caused by NewConnectionError('<urllib3.connection.HTTPSConnection object at 0x00000279E8F9CE20>: Failed to establish a new connection: [WinError 10060] A connection attempt failed because the connected party did not properly respond after a period of time, or established connection failed because connected host has failed to respond'))",
      "\nDuring handling of the above exception, another exception occurred:\n",
      "\u001b[1;31mConnectionError\u001b[0m                           Traceback (most recent call last)",
      "Cell \u001b[1;32mIn[3], line 1\u001b[0m\n\u001b[1;32m----> 1\u001b[0m project \u001b[39m=\u001b[39m hopsworks\u001b[39m.\u001b[39;49mlogin(api_key_value\u001b[39m=\u001b[39;49mHOPSWORKS_API_KEY)\n\u001b[0;32m      2\u001b[0m fs \u001b[39m=\u001b[39m project\u001b[39m.\u001b[39mget_feature_store()\n",
      "File \u001b[1;32mc:\\Users\\Chris\\Desktop\\DataScienceProjects\\nba_game_predictor\\nba3\\lib\\site-packages\\hopsworks\\__init__.py:186\u001b[0m, in \u001b[0;36mlogin\u001b[1;34m(host, port, project, api_key_value, api_key_file)\u001b[0m\n\u001b[0;32m    184\u001b[0m \u001b[39mtry\u001b[39;00m:\n\u001b[0;32m    185\u001b[0m     _saas_connection \u001b[39m=\u001b[39m _saas_connection(host\u001b[39m=\u001b[39mhost, port\u001b[39m=\u001b[39mport, api_key_value\u001b[39m=\u001b[39mapi_key)\n\u001b[1;32m--> 186\u001b[0m     project_obj \u001b[39m=\u001b[39m _prompt_project(_saas_connection, project)\n\u001b[0;32m    187\u001b[0m \u001b[39mexcept\u001b[39;00m RestAPIError \u001b[39mas\u001b[39;00m e:\n\u001b[0;32m    188\u001b[0m     logout()\n",
      "File \u001b[1;32mc:\\Users\\Chris\\Desktop\\DataScienceProjects\\nba_game_predictor\\nba3\\lib\\site-packages\\hopsworks\\__init__.py:196\u001b[0m, in \u001b[0;36m_prompt_project\u001b[1;34m(valid_connection, project)\u001b[0m\n\u001b[0;32m    195\u001b[0m \u001b[39mdef\u001b[39;00m \u001b[39m_prompt_project\u001b[39m(valid_connection, project):\n\u001b[1;32m--> 196\u001b[0m     saas_projects \u001b[39m=\u001b[39m valid_connection\u001b[39m.\u001b[39;49mget_projects()\n\u001b[0;32m    197\u001b[0m     \u001b[39mif\u001b[39;00m project \u001b[39mis\u001b[39;00m \u001b[39mNone\u001b[39;00m:\n\u001b[0;32m    198\u001b[0m         \u001b[39mif\u001b[39;00m \u001b[39mlen\u001b[39m(saas_projects) \u001b[39m==\u001b[39m \u001b[39m0\u001b[39m:\n",
      "File \u001b[1;32mc:\\Users\\Chris\\Desktop\\DataScienceProjects\\nba_game_predictor\\nba3\\lib\\site-packages\\hopsworks\\decorators.py:35\u001b[0m, in \u001b[0;36mconnected.<locals>.if_connected\u001b[1;34m(inst, *args, **kwargs)\u001b[0m\n\u001b[0;32m     33\u001b[0m \u001b[39mif\u001b[39;00m \u001b[39mnot\u001b[39;00m inst\u001b[39m.\u001b[39m_connected:\n\u001b[0;32m     34\u001b[0m     \u001b[39mraise\u001b[39;00m NoHopsworksConnectionError\n\u001b[1;32m---> 35\u001b[0m \u001b[39mreturn\u001b[39;00m fn(inst, \u001b[39m*\u001b[39margs, \u001b[39m*\u001b[39m\u001b[39m*\u001b[39mkwargs)\n",
      "File \u001b[1;32mc:\\Users\\Chris\\Desktop\\DataScienceProjects\\nba_game_predictor\\nba3\\lib\\site-packages\\hopsworks\\connection.py:171\u001b[0m, in \u001b[0;36mConnection.get_projects\u001b[1;34m(self)\u001b[0m\n\u001b[0;32m    163\u001b[0m \u001b[39m@connected\u001b[39m\n\u001b[0;32m    164\u001b[0m \u001b[39mdef\u001b[39;00m \u001b[39mget_projects\u001b[39m(\u001b[39mself\u001b[39m):\n\u001b[0;32m    165\u001b[0m     \u001b[39m\"\"\"Get all projects.\u001b[39;00m\n\u001b[0;32m    166\u001b[0m \n\u001b[0;32m    167\u001b[0m \u001b[39m    # Returns\u001b[39;00m\n\u001b[0;32m    168\u001b[0m \u001b[39m        `List[Project]`: List of Project objects\u001b[39;00m\n\u001b[0;32m    169\u001b[0m \u001b[39m    \"\"\"\u001b[39;00m\n\u001b[1;32m--> 171\u001b[0m     \u001b[39mreturn\u001b[39;00m \u001b[39mself\u001b[39;49m\u001b[39m.\u001b[39;49m_project_api\u001b[39m.\u001b[39;49m_get_projects()\n",
      "File \u001b[1;32mc:\\Users\\Chris\\Desktop\\DataScienceProjects\\nba_game_predictor\\nba3\\lib\\site-packages\\hopsworks\\core\\project_api.py:51\u001b[0m, in \u001b[0;36mProjectApi._get_projects\u001b[1;34m(self)\u001b[0m\n\u001b[0;32m     47\u001b[0m _client \u001b[39m=\u001b[39m client\u001b[39m.\u001b[39mget_instance()\n\u001b[0;32m     48\u001b[0m path_params \u001b[39m=\u001b[39m [\n\u001b[0;32m     49\u001b[0m     \u001b[39m\"\u001b[39m\u001b[39mproject\u001b[39m\u001b[39m\"\u001b[39m,\n\u001b[0;32m     50\u001b[0m ]\n\u001b[1;32m---> 51\u001b[0m project_team_json \u001b[39m=\u001b[39m _client\u001b[39m.\u001b[39;49m_send_request(\u001b[39m\"\u001b[39;49m\u001b[39mGET\u001b[39;49m\u001b[39m\"\u001b[39;49m, path_params)\n\u001b[0;32m     52\u001b[0m projects \u001b[39m=\u001b[39m []\n\u001b[0;32m     53\u001b[0m \u001b[39mfor\u001b[39;00m project_team \u001b[39min\u001b[39;00m project_team_json:\n",
      "File \u001b[1;32mc:\\Users\\Chris\\Desktop\\DataScienceProjects\\nba_game_predictor\\nba3\\lib\\site-packages\\hopsworks\\decorators.py:35\u001b[0m, in \u001b[0;36mconnected.<locals>.if_connected\u001b[1;34m(inst, *args, **kwargs)\u001b[0m\n\u001b[0;32m     33\u001b[0m \u001b[39mif\u001b[39;00m \u001b[39mnot\u001b[39;00m inst\u001b[39m.\u001b[39m_connected:\n\u001b[0;32m     34\u001b[0m     \u001b[39mraise\u001b[39;00m NoHopsworksConnectionError\n\u001b[1;32m---> 35\u001b[0m \u001b[39mreturn\u001b[39;00m fn(inst, \u001b[39m*\u001b[39margs, \u001b[39m*\u001b[39m\u001b[39m*\u001b[39mkwargs)\n",
      "File \u001b[1;32mc:\\Users\\Chris\\Desktop\\DataScienceProjects\\nba_game_predictor\\nba3\\lib\\site-packages\\hopsworks\\client\\base.py:159\u001b[0m, in \u001b[0;36mClient._send_request\u001b[1;34m(self, method, path_params, query_params, headers, data, stream, files)\u001b[0m\n\u001b[0;32m    148\u001b[0m request \u001b[39m=\u001b[39m requests\u001b[39m.\u001b[39mRequest(\n\u001b[0;32m    149\u001b[0m     method,\n\u001b[0;32m    150\u001b[0m     url\u001b[39m=\u001b[39murl,\n\u001b[1;32m   (...)\u001b[0m\n\u001b[0;32m    155\u001b[0m     files\u001b[39m=\u001b[39mfiles,\n\u001b[0;32m    156\u001b[0m )\n\u001b[0;32m    158\u001b[0m prepped \u001b[39m=\u001b[39m \u001b[39mself\u001b[39m\u001b[39m.\u001b[39m_session\u001b[39m.\u001b[39mprepare_request(request)\n\u001b[1;32m--> 159\u001b[0m response \u001b[39m=\u001b[39m \u001b[39mself\u001b[39;49m\u001b[39m.\u001b[39;49m_session\u001b[39m.\u001b[39;49msend(prepped, verify\u001b[39m=\u001b[39;49m\u001b[39mself\u001b[39;49m\u001b[39m.\u001b[39;49m_verify, stream\u001b[39m=\u001b[39;49mstream)\n\u001b[0;32m    161\u001b[0m \u001b[39mif\u001b[39;00m response\u001b[39m.\u001b[39mstatus_code \u001b[39m==\u001b[39m \u001b[39m401\u001b[39m \u001b[39mand\u001b[39;00m \u001b[39mself\u001b[39m\u001b[39m.\u001b[39mREST_ENDPOINT \u001b[39min\u001b[39;00m os\u001b[39m.\u001b[39menviron:\n\u001b[0;32m    162\u001b[0m     \u001b[39m# refresh token and retry request - only on hopsworks\u001b[39;00m\n\u001b[0;32m    163\u001b[0m     \u001b[39mself\u001b[39m\u001b[39m.\u001b[39m_auth \u001b[39m=\u001b[39m auth\u001b[39m.\u001b[39mBearerAuth(\u001b[39mself\u001b[39m\u001b[39m.\u001b[39m_read_jwt())\n",
      "File \u001b[1;32mc:\\Users\\Chris\\Desktop\\DataScienceProjects\\nba_game_predictor\\nba3\\lib\\site-packages\\requests\\sessions.py:701\u001b[0m, in \u001b[0;36mSession.send\u001b[1;34m(self, request, **kwargs)\u001b[0m\n\u001b[0;32m    698\u001b[0m start \u001b[39m=\u001b[39m preferred_clock()\n\u001b[0;32m    700\u001b[0m \u001b[39m# Send the request\u001b[39;00m\n\u001b[1;32m--> 701\u001b[0m r \u001b[39m=\u001b[39m adapter\u001b[39m.\u001b[39msend(request, \u001b[39m*\u001b[39m\u001b[39m*\u001b[39mkwargs)\n\u001b[0;32m    703\u001b[0m \u001b[39m# Total elapsed time of the request (approximately)\u001b[39;00m\n\u001b[0;32m    704\u001b[0m elapsed \u001b[39m=\u001b[39m preferred_clock() \u001b[39m-\u001b[39m start\n",
      "File \u001b[1;32mc:\\Users\\Chris\\Desktop\\DataScienceProjects\\nba_game_predictor\\nba3\\lib\\site-packages\\requests\\adapters.py:565\u001b[0m, in \u001b[0;36mHTTPAdapter.send\u001b[1;34m(self, request, stream, timeout, verify, cert, proxies)\u001b[0m\n\u001b[0;32m    561\u001b[0m     \u001b[39mif\u001b[39;00m \u001b[39misinstance\u001b[39m(e\u001b[39m.\u001b[39mreason, _SSLError):\n\u001b[0;32m    562\u001b[0m         \u001b[39m# This branch is for urllib3 v1.22 and later.\u001b[39;00m\n\u001b[0;32m    563\u001b[0m         \u001b[39mraise\u001b[39;00m SSLError(e, request\u001b[39m=\u001b[39mrequest)\n\u001b[1;32m--> 565\u001b[0m     \u001b[39mraise\u001b[39;00m \u001b[39mConnectionError\u001b[39;00m(e, request\u001b[39m=\u001b[39mrequest)\n\u001b[0;32m    567\u001b[0m \u001b[39mexcept\u001b[39;00m ClosedPoolError \u001b[39mas\u001b[39;00m e:\n\u001b[0;32m    568\u001b[0m     \u001b[39mraise\u001b[39;00m \u001b[39mConnectionError\u001b[39;00m(e, request\u001b[39m=\u001b[39mrequest)\n",
      "\u001b[1;31mConnectionError\u001b[0m: HTTPSConnectionPool(host='c.app.hopsworks.ai', port=443): Max retries exceeded with url: /hopsworks-api/api/project (Caused by NewConnectionError('<urllib3.connection.HTTPSConnection object at 0x00000279E8F9CE20>: Failed to establish a new connection: [WinError 10060] A connection attempt failed because the connected party did not properly respond after a period of time, or established connection failed because connected host has failed to respond'))"
     ]
    }
   ],
   "source": [
    "project = hopsworks.login(api_key_value=HOPSWORKS_API_KEY)\n",
    "fs = project.get_feature_store()"
   ]
  },
  {
   "cell_type": "code",
   "execution_count": null,
   "id": "40331ef1-e0ff-406e-862d-4deedbdc6bd0",
   "metadata": {},
   "outputs": [],
   "source": [
    "rolling_stats_fg = fs.get_or_create_feature_group(\n",
    "    name=\"rolling_stats\",\n",
    "    version=2,\n",
    ")"
   ]
  },
  {
   "attachments": {},
   "cell_type": "markdown",
   "id": "6f5a53a9",
   "metadata": {},
   "source": [
    "**Delete Old FeatureView**"
   ]
  },
  {
   "cell_type": "code",
   "execution_count": null,
   "id": "eb5a14a9",
   "metadata": {},
   "outputs": [],
   "source": [
    "try:\n",
    "    feature_view = fs.get_feature_view(\n",
    "        name = 'rolling_stats_fv',\n",
    "        version = 2,\n",
    "    )\n",
    "    feature_view.delete()\n",
    "except RestAPIError as e:\n",
    "    if e.response.json().get(\"errorCode\", \"\") == 270009:\n",
    "        print(\"Feature view does not exist. No need to delete it.\")\n"
   ]
  },
  {
   "attachments": {},
   "cell_type": "markdown",
   "id": "548a2746-67d0-4917-bb68-1514b481bc25",
   "metadata": {},
   "source": [
    "**Create New FeatureView**"
   ]
  },
  {
   "cell_type": "code",
   "execution_count": null,
   "id": "960d4841-3c9b-4393-b915-ea7459a0fecb",
   "metadata": {},
   "outputs": [],
   "source": [
    "query = rolling_stats_fg.select_all()\n",
    "\n",
    "feature_view = fs.create_feature_view(\n",
    "    name = 'rolling_stats_fv',\n",
    "    version = 2,\n",
    "    query = query\n",
    ")"
   ]
  },
  {
   "cell_type": "markdown",
   "id": "9b4a4308-718d-49c7-a713-99b1900f13fd",
   "metadata": {},
   "source": [
    "**Create Training and Test Set**\n",
    "\n",
    "Use time filter: Previous 365 days is test set, all others are training set"
   ]
  },
  {
   "cell_type": "code",
   "execution_count": null,
   "id": "1ad23edf-96c6-4c78-8ffa-911e0d907aa6",
   "metadata": {},
   "outputs": [],
   "source": [
    "STARTDATE = \"2003-01-01\" #data goes back to 2003 season\n",
    "TODAY = datetime.now()\n",
    "LASTYEAR = (TODAY - timedelta(days=45)).strftime('%Y-%m-%d')\n",
    "TODAY = TODAY.strftime('%Y-%m-%d') \n",
    "\n",
    "td_train, td_job = feature_view.create_training_data(\n",
    "        start_time=STARTDATE,\n",
    "        end_time=LASTYEAR,    \n",
    "        description='All data except last 45 days',\n",
    "        data_format=\"csv\",\n",
    "        coalesce=True,\n",
    "        write_options={'wait_for_job': False},\n",
    "    )\n",
    "\n",
    "td_test, td_job = feature_view.create_training_data(\n",
    "        start_time=LASTYEAR,\n",
    "        end_time=TODAY,    \n",
    "        description='Last 45 days',\n",
    "        data_format=\"csv\",\n",
    "        coalesce=True,\n",
    "        write_options={'wait_for_job': False},\n",
    "    )\n"
   ]
  },
  {
   "cell_type": "code",
   "execution_count": null,
   "id": "b3fdec55-2c67-4f9c-906e-65ced38909dd",
   "metadata": {},
   "outputs": [],
   "source": [
    "train = feature_view.get_training_data(td_train)[0]\n",
    "test = feature_view.get_training_data(td_test)[0]\n"
   ]
  },
  {
   "cell_type": "markdown",
   "id": "180b93ba-98e5-4813-80e3-841e231d84cf",
   "metadata": {},
   "source": [
    "**Re-Convert Feature Names**\n",
    "\n",
    "- For whatever reason, hopsworks.ai converts all feature names to lowercase. \n",
    "- For reusability of existing codebase, these need to be converted back to original mixed-case in train and test dataframes.\n",
    "- The original feature names in proper mixed-case is read from a JSON file, then mapped back to train and test"
   ]
  },
  {
   "cell_type": "code",
   "execution_count": null,
   "id": "e9e655d3-a33a-4eed-9e07-00dedf9c8c9b",
   "metadata": {},
   "outputs": [],
   "source": [
    "\n",
    "train = convert_feature_names(train)\n",
    "test = convert_feature_names(test)\n",
    "\n",
    "#fix date format\n",
    "train[\"GAME_DATE_EST\"] = train[\"GAME_DATE_EST\"].str[:10]\n",
    "test[\"GAME_DATE_EST\"] = test[\"GAME_DATE_EST\"].str[:10]\n"
   ]
  },
  {
   "cell_type": "code",
   "execution_count": null,
   "id": "88cf1ad5-7f56-4c65-9977-171a93e52775",
   "metadata": {},
   "outputs": [],
   "source": [
    "train"
   ]
  },
  {
   "cell_type": "markdown",
   "id": "d11e0137-057b-4d30-a9be-1e7e9b57192a",
   "metadata": {},
   "source": [
    "**Save data**\n",
    "\n",
    "As a convenience to re-use the existing model training notebook, the data is saved to files first (currently <100 megabytes total)"
   ]
  },
  {
   "cell_type": "code",
   "execution_count": null,
   "id": "86853294-5266-4950-90d7-826fbb626fac",
   "metadata": {},
   "outputs": [],
   "source": [
    "train.to_csv(DATAPATH / \"train_selected.csv\",index=False)\n",
    "test.to_csv(DATAPATH / \"test_selected.csv\",index=False)"
   ]
  },
  {
   "cell_type": "markdown",
   "id": "61e45361-eb90-4e37-8ef8-ca0d43b11e97",
   "metadata": {},
   "source": [
    "**Model Training**\n",
    "\n",
    "The existing model training notebook is re-used. It includes Neptune.ai experiment tracking for both training run and hyperparameter tuning.\n"
   ]
  },
  {
   "cell_type": "code",
   "execution_count": null,
   "id": "71e34f67-4ad1-4194-9a0d-cacc526eb8a2",
   "metadata": {},
   "outputs": [],
   "source": [
    "%run 07_model_testing.ipynb\n"
   ]
  },
  {
   "cell_type": "markdown",
   "id": "8b51112d-6319-4d72-8807-19a56e6abced",
   "metadata": {},
   "source": [
    "**Save to Model Registry**\n",
    "\n"
   ]
  },
  {
   "cell_type": "code",
   "execution_count": null,
   "id": "eb11a54d-478e-4735-8d6a-4843f18964e8",
   "metadata": {},
   "outputs": [],
   "source": [
    "# read in train_predictions to create model schema\n",
    "train = pd.read_csv(DATAPATH / \"train_predictions.csv\")\n",
    "target = train['TARGET']\n",
    "drop_columns = ['TARGET', 'PredictionPct', 'Prediction']\n",
    "train = train.drop(columns=drop_columns)\n",
    "\n",
    "input_schema = Schema(train)\n",
    "output_schema = Schema(target)\n",
    "model_schema = ModelSchema(input_schema=input_schema, output_schema=output_schema)\n",
    "\n",
    "# read in model meta_data from training run\n",
    "with open('model_data.json', 'rb') as fp:\n",
    "    model_data = json.load(fp)\n",
    "    \n",
    "\n",
    "# log back in to hopsworks.ai. Hyperparameter tuning may take hours.\n",
    "project = hopsworks.login(api_key_value=HOPSWORKS_API_KEY)\n",
    "mr = project.get_model_registry()\n",
    "\n",
    "model = mr.python.create_model(\n",
    "    name=model_data['model_name'],\n",
    "    metrics=model_data['metrics'],\n",
    "    description=model_data['model_name'],\n",
    "    model_schema=model_schema\n",
    ")\n",
    "model.save('model.pkl')\n",
    "\n",
    "\n",
    "\n",
    "\n",
    "\n",
    "\n",
    "\n",
    "\n"
   ]
  },
  {
   "cell_type": "code",
   "execution_count": null,
   "id": "e4f59e76-bdc1-433c-bfbd-891efc9c9da5",
   "metadata": {},
   "outputs": [],
   "source": []
  }
 ],
 "metadata": {
  "kernelspec": {
   "display_name": "nba3",
   "language": "python",
   "name": "python3"
  },
  "language_info": {
   "codemirror_mode": {
    "name": "ipython",
    "version": 3
   },
   "file_extension": ".py",
   "mimetype": "text/x-python",
   "name": "python",
   "nbconvert_exporter": "python",
   "pygments_lexer": "ipython3",
   "version": "3.9.13"
  },
  "vscode": {
   "interpreter": {
    "hash": "4655998f62ad965cbd25df51edb717f2326f5df53d53899f0ae604225aa5ae06"
   }
  }
 },
 "nbformat": 4,
 "nbformat_minor": 5
}
