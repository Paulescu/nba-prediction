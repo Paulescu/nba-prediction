{
 "cells": [
  {
   "cell_type": "code",
   "execution_count": 3,
   "metadata": {},
   "outputs": [],
   "source": [
    "import os\n",
    "\n",
    "import pandas as pd\n",
    "import numpy as np\n",
    "\n",
    "from datetime import datetime, timedelta\n",
    "from pytz import timezone\n",
    "\n",
    "from src.webscraping import (\n",
    "    activate_web_driver,\n",
    "    get_todays_matchups,\n",
    ")"
   ]
  },
  {
   "cell_type": "code",
   "execution_count": 4,
   "metadata": {},
   "outputs": [
    {
     "ename": "TypeError",
     "evalue": "get_todays_matchups() takes 0 positional arguments but 1 was given",
     "output_type": "error",
     "traceback": [
      "\u001b[1;31m---------------------------------------------------------------------------\u001b[0m",
      "\u001b[1;31mTypeError\u001b[0m                                 Traceback (most recent call last)",
      "Cell \u001b[1;32mIn[4], line 7\u001b[0m\n\u001b[0;32m      3\u001b[0m driver \u001b[39m=\u001b[39m activate_web_driver(\u001b[39m'\u001b[39m\u001b[39mfirefox\u001b[39m\u001b[39m'\u001b[39m)\n\u001b[0;32m      6\u001b[0m \u001b[39m# get today's games on NBA schedule\u001b[39;00m\n\u001b[1;32m----> 7\u001b[0m games_list \u001b[39m=\u001b[39m get_todays_matchups(driver)\n\u001b[0;32m      9\u001b[0m games_list\n",
      "\u001b[1;31mTypeError\u001b[0m: get_todays_matchups() takes 0 positional arguments but 1 was given"
     ]
    }
   ],
   "source": [
    "# initate a webdriver in selenium \n",
    "# since website data is dynamically generated\n",
    "driver = activate_web_driver('firefox')\n",
    "\n",
    "\n",
    "# get today's games on NBA schedule\n",
    "games_list = get_todays_matchups(driver)\n",
    "\n",
    "games_list\n",
    "\n"
   ]
  }
 ],
 "metadata": {
  "kernelspec": {
   "display_name": "Python 3.9.7 ('nba4': venv)",
   "language": "python",
   "name": "python3"
  },
  "language_info": {
   "codemirror_mode": {
    "name": "ipython",
    "version": 3
   },
   "file_extension": ".py",
   "mimetype": "text/x-python",
   "name": "python",
   "nbconvert_exporter": "python",
   "pygments_lexer": "ipython3",
   "version": "3.9.7"
  },
  "orig_nbformat": 4,
  "vscode": {
   "interpreter": {
    "hash": "729172a66af1727b9222f9f9549aeee10cb3550f88b120e98ac49f450cd2fb5c"
   }
  }
 },
 "nbformat": 4,
 "nbformat_minor": 2
}
