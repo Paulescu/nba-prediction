{
 "cells": [
  {
   "cell_type": "markdown",
   "metadata": {},
   "source": [
    "\n",
    "The existing pipeline does not work for games not yet played. These do not show up on the NBA stats pages, so are not retrieved by the existing pipeline, and therefore are not present in the hopsworks feature store.\n",
    "\n",
    "There does not appear to be a way to retrieve a record for these yet-to-be-played games from the NBA stats page, so they kind of have to be created from scratch.\n",
    "\n",
    "Before the model can be applied to predict these games, a separate workflow is needed to get these unplayed games into the feature store:\n",
    " - find the scheduled games for the day \n",
    " - construct a blank game record with specified home team id and visitor team id and add to a dataframe\n",
    " - pull historical data from previous games into the dataframe\n",
    " - generate features using previous game data (rolling averages, win streaks, etc…), \n",
    " - add these new records to the feature store temporarily\n"
   ]
  },
  {
   "cell_type": "code",
   "execution_count": 1,
   "metadata": {},
   "outputs": [],
   "source": [
    "import os\n",
    "\n",
    "import pandas as pd\n",
    "import numpy as np\n",
    "\n",
    "from src.webscraping import (\n",
    "    activate_web_driver,\n",
    "    get_todays_matchups,\n",
    ")"
   ]
  },
  {
   "attachments": {},
   "cell_type": "markdown",
   "metadata": {},
   "source": [
    "**Retrieve todays games**"
   ]
  },
  {
   "cell_type": "code",
   "execution_count": 2,
   "metadata": {},
   "outputs": [
    {
     "name": "stderr",
     "output_type": "stream",
     "text": [
      "[WDM] - Downloading: 19.0kB [00:00, 19.6MB/s]                   \n",
      "[WDM] - Downloading: 100%|██████████| 1.58M/1.58M [00:00<00:00, 5.06MB/s]\n"
     ]
    },
    {
     "data": {
      "text/plain": [
       "[['/team/1610612743/nuggets/', '/team/1610612740/pelicans/'],\n",
       " ['/team/1610612756/suns/', '/team/1610612759/spurs/'],\n",
       " ['/team/1610612738/celtics/', '/team/1610612751/nets/'],\n",
       " ['/team/1610612763/grizzlies/', '/team/1610612765/pistons/'],\n",
       " ['/team/1610612739/cavaliers/', '/team/1610612752/knicks/'],\n",
       " ['/team/1610612747/lakers/', '/team/1610612764/wizards/'],\n",
       " ['/team/1610612741/bulls/', '/team/1610612758/kings/'],\n",
       " ['/team/1610612754/pacers/', '/team/1610612757/blazers/']]"
      ]
     },
     "execution_count": 2,
     "metadata": {},
     "output_type": "execute_result"
    }
   ],
   "source": [
    "#retrieve list of teams playing today\n",
    "\n",
    "driver = activate_web_driver('firefox')\n",
    "\n",
    "# get today's games on NBA schedule\n",
    "teams_list = get_todays_matchups(driver)\n",
    "\n",
    "team_count = len(teams_list) \n",
    "matchups = []\n",
    "for i in range(0,team_count,2):\n",
    "    matchups.append([teams_list[i],teams_list[i+1]])\n",
    "\n",
    "matchups\n"
   ]
  }
 ],
 "metadata": {
  "kernelspec": {
   "display_name": "Python 3.9.7 ('nba4': venv)",
   "language": "python",
   "name": "python3"
  },
  "language_info": {
   "codemirror_mode": {
    "name": "ipython",
    "version": 3
   },
   "file_extension": ".py",
   "mimetype": "text/x-python",
   "name": "python",
   "nbconvert_exporter": "python",
   "pygments_lexer": "ipython3",
   "version": "3.9.7 (tags/v3.9.7:1016ef3, Aug 30 2021, 20:19:38) [MSC v.1929 64 bit (AMD64)]"
  },
  "orig_nbformat": 4,
  "vscode": {
   "interpreter": {
    "hash": "729172a66af1727b9222f9f9549aeee10cb3550f88b120e98ac49f450cd2fb5c"
   }
  }
 },
 "nbformat": 4,
 "nbformat_minor": 2
}
