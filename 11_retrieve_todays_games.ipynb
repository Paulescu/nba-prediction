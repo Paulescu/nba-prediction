{
 "cells": [
  {
   "cell_type": "code",
   "execution_count": 1,
   "metadata": {},
   "outputs": [],
   "source": [
    "import os\n",
    "\n",
    "import pandas as pd\n",
    "import numpy as np\n",
    "\n",
    "from src.webscraping import (\n",
    "    activate_web_driver,\n",
    "    get_todays_matchups,\n",
    ")"
   ]
  },
  {
   "cell_type": "code",
   "execution_count": 3,
   "metadata": {},
   "outputs": [
    {
     "name": "stderr",
     "output_type": "stream",
     "text": [
      "[WDM] - Downloading: 19.0kB [00:00, 6.52MB/s]                   \n"
     ]
    },
    {
     "name": "stdout",
     "output_type": "stream",
     "text": [
      "['/team/1610612743/nuggets/', '/team/1610612740/pelicans/', '/team/1610612756/suns/', '/team/1610612759/spurs/', '/team/1610612738/celtics/', '/team/1610612751/nets/', '/team/1610612763/grizzlies/', '/team/1610612765/pistons/', '/team/1610612739/cavaliers/', '/team/1610612752/knicks/', '/team/1610612747/lakers/', '/team/1610612764/wizards/', '/team/1610612741/bulls/', '/team/1610612758/kings/', '/team/1610612754/pacers/', '/team/1610612757/blazers/']\n"
     ]
    },
    {
     "data": {
      "text/plain": [
       "[['/team/1610612743/nuggets/', '/team/1610612740/pelicans/'],\n",
       " ['/team/1610612756/suns/', '/team/1610612759/spurs/'],\n",
       " ['/team/1610612738/celtics/', '/team/1610612751/nets/'],\n",
       " ['/team/1610612763/grizzlies/', '/team/1610612765/pistons/'],\n",
       " ['/team/1610612739/cavaliers/', '/team/1610612752/knicks/'],\n",
       " ['/team/1610612747/lakers/', '/team/1610612764/wizards/'],\n",
       " ['/team/1610612741/bulls/', '/team/1610612758/kings/'],\n",
       " ['/team/1610612754/pacers/', '/team/1610612757/blazers/']]"
      ]
     },
     "execution_count": 3,
     "metadata": {},
     "output_type": "execute_result"
    }
   ],
   "source": [
    "#retrieve list of teams playing today\n",
    "\n",
    "driver = activate_web_driver('firefox')\n",
    "\n",
    "# get today's games on NBA schedule\n",
    "teams_list = get_todays_matchups(driver)\n",
    "\n",
    "team_count = len(teams_list) \n",
    "matchups = []\n",
    "for i in range(0,team_count,2):\n",
    "    matchups.append([teams_list[i],teams_list[i+1]])\n",
    "\n",
    "matchups\n",
    "\n",
    "\n"
   ]
  }
 ],
 "metadata": {
  "kernelspec": {
   "display_name": "Python 3.9.7 ('nba4': venv)",
   "language": "python",
   "name": "python3"
  },
  "language_info": {
   "codemirror_mode": {
    "name": "ipython",
    "version": 3
   },
   "file_extension": ".py",
   "mimetype": "text/x-python",
   "name": "python",
   "nbconvert_exporter": "python",
   "pygments_lexer": "ipython3",
   "version": "3.9.7"
  },
  "orig_nbformat": 4,
  "vscode": {
   "interpreter": {
    "hash": "729172a66af1727b9222f9f9549aeee10cb3550f88b120e98ac49f450cd2fb5c"
   }
  }
 },
 "nbformat": 4,
 "nbformat_minor": 2
}
